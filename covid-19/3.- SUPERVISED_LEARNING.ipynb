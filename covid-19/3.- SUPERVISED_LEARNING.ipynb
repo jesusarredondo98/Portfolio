{
 "cells": [
  {
   "cell_type": "code",
   "execution_count": 1,
   "id": "b0a14837",
   "metadata": {},
   "outputs": [
    {
     "data": {
      "text/html": [
       "        <script type=\"text/javascript\">\n",
       "        window.PlotlyConfig = {MathJaxConfig: 'local'};\n",
       "        if (window.MathJax) {MathJax.Hub.Config({SVG: {font: \"STIX-Web\"}});}\n",
       "        if (typeof require !== 'undefined') {\n",
       "        require.undef(\"plotly\");\n",
       "        requirejs.config({\n",
       "            paths: {\n",
       "                'plotly': ['https://cdn.plot.ly/plotly-2.9.0.min']\n",
       "            }\n",
       "        });\n",
       "        require(['plotly'], function(Plotly) {\n",
       "            window._Plotly = Plotly;\n",
       "        });\n",
       "        }\n",
       "        </script>\n",
       "        "
      ]
     },
     "metadata": {},
     "output_type": "display_data"
    }
   ],
   "source": [
    "import os\n",
    "import re\n",
    "import pandas as pd\n",
    "import numpy as np\n",
    "import matplotlib.pyplot as plt\n",
    "import plotly.express as px\n",
    "import seaborn as sns\n",
    "import missingno as msno\n",
    "import plotly\n",
    "import plotly.graph_objects as go\n",
    "import plotly.express as px\n",
    "from plotly.offline import plot,iplot\n",
    "import cufflinks as cf\n",
    "pd.options.plotting.backend = \"plotly\"\n",
    "cf.go_offline()"
   ]
  },
  {
   "cell_type": "code",
   "execution_count": 2,
   "id": "f63e6185",
   "metadata": {},
   "outputs": [],
   "source": [
    "pd.set_option('display.max_columns', 500)"
   ]
  },
  {
   "cell_type": "code",
   "execution_count": 3,
   "id": "333236c1",
   "metadata": {},
   "outputs": [
    {
     "data": {
      "text/plain": [
       "'/Users/jesusarredondo/Documents/Diplomado/Proyecto/Modulo 2'"
      ]
     },
     "execution_count": 3,
     "metadata": {},
     "output_type": "execute_result"
    }
   ],
   "source": [
    "os.getcwd()"
   ]
  },
  {
   "cell_type": "code",
   "execution_count": 4,
   "id": "8a068ad7",
   "metadata": {},
   "outputs": [
    {
     "data": {
      "text/plain": [
       "'/Users/jesusarredondo/Documents/Diplomado/Proyecto/'"
      ]
     },
     "execution_count": 4,
     "metadata": {},
     "output_type": "execute_result"
    }
   ],
   "source": [
    "#Importamos la base concatenada\n",
    "path = os.getcwd()[:-8]\n",
    "path"
   ]
  },
  {
   "cell_type": "code",
   "execution_count": 5,
   "id": "5b883a77",
   "metadata": {},
   "outputs": [
    {
     "data": {
      "text/html": [
       "<div>\n",
       "<style scoped>\n",
       "    .dataframe tbody tr th:only-of-type {\n",
       "        vertical-align: middle;\n",
       "    }\n",
       "\n",
       "    .dataframe tbody tr th {\n",
       "        vertical-align: top;\n",
       "    }\n",
       "\n",
       "    .dataframe thead th {\n",
       "        text-align: right;\n",
       "    }\n",
       "</style>\n",
       "<table border=\"1\" class=\"dataframe\">\n",
       "  <thead>\n",
       "    <tr style=\"text-align: right;\">\n",
       "      <th></th>\n",
       "      <th>FECHA_SINTOMAS</th>\n",
       "      <th>EDAD</th>\n",
       "      <th>ORIGEN</th>\n",
       "      <th>SECTOR</th>\n",
       "      <th>SEXO</th>\n",
       "      <th>MUNICIPIO_RES</th>\n",
       "      <th>EMBARAZO</th>\n",
       "      <th>TOMA_MUESTRA_LAB</th>\n",
       "      <th>TOMA_MUESTRA_ANTIGENO</th>\n",
       "      <th>UCI</th>\n",
       "      <th>Estado</th>\n",
       "      <th>Diagnostico</th>\n",
       "      <th>TIPO_PACIENTE</th>\n",
       "    </tr>\n",
       "  </thead>\n",
       "  <tbody>\n",
       "    <tr>\n",
       "      <th>0</th>\n",
       "      <td>2020-08-17</td>\n",
       "      <td>51</td>\n",
       "      <td>USMER</td>\n",
       "      <td>SSA</td>\n",
       "      <td>HOMBRE</td>\n",
       "      <td>IZTAPALAPA</td>\n",
       "      <td>NO APLICA</td>\n",
       "      <td>SI</td>\n",
       "      <td>NO</td>\n",
       "      <td>NO APLICA</td>\n",
       "      <td>Vivo</td>\n",
       "      <td>Negativo</td>\n",
       "      <td>AMBULATORIO</td>\n",
       "    </tr>\n",
       "    <tr>\n",
       "      <th>1</th>\n",
       "      <td>2020-12-28</td>\n",
       "      <td>47</td>\n",
       "      <td>USMER</td>\n",
       "      <td>SSA</td>\n",
       "      <td>MUJER</td>\n",
       "      <td>VENUSTIANO CARRANZA</td>\n",
       "      <td>NO</td>\n",
       "      <td>NO</td>\n",
       "      <td>SI</td>\n",
       "      <td>NO APLICA</td>\n",
       "      <td>Vivo</td>\n",
       "      <td>Negativo</td>\n",
       "      <td>AMBULATORIO</td>\n",
       "    </tr>\n",
       "    <tr>\n",
       "      <th>2</th>\n",
       "      <td>2020-07-01</td>\n",
       "      <td>62</td>\n",
       "      <td>FUERA DE USMER</td>\n",
       "      <td>SSA</td>\n",
       "      <td>HOMBRE</td>\n",
       "      <td>VENUSTIANO CARRANZA</td>\n",
       "      <td>NO APLICA</td>\n",
       "      <td>NO</td>\n",
       "      <td>NO</td>\n",
       "      <td>NO APLICA</td>\n",
       "      <td>Vivo</td>\n",
       "      <td>Sospechoso</td>\n",
       "      <td>AMBULATORIO</td>\n",
       "    </tr>\n",
       "    <tr>\n",
       "      <th>3</th>\n",
       "      <td>2020-09-23</td>\n",
       "      <td>67</td>\n",
       "      <td>USMER</td>\n",
       "      <td>SSA</td>\n",
       "      <td>MUJER</td>\n",
       "      <td>CUAJIMALPA DE MORELOS</td>\n",
       "      <td>NO</td>\n",
       "      <td>SI</td>\n",
       "      <td>NO</td>\n",
       "      <td>NO APLICA</td>\n",
       "      <td>Vivo</td>\n",
       "      <td>Positivo</td>\n",
       "      <td>AMBULATORIO</td>\n",
       "    </tr>\n",
       "    <tr>\n",
       "      <th>4</th>\n",
       "      <td>2020-06-12</td>\n",
       "      <td>13</td>\n",
       "      <td>FUERA DE USMER</td>\n",
       "      <td>SSA</td>\n",
       "      <td>MUJER</td>\n",
       "      <td>AZCAPOTZALCO</td>\n",
       "      <td>NO</td>\n",
       "      <td>SI</td>\n",
       "      <td>NO</td>\n",
       "      <td>NO APLICA</td>\n",
       "      <td>Vivo</td>\n",
       "      <td>Negativo</td>\n",
       "      <td>AMBULATORIO</td>\n",
       "    </tr>\n",
       "  </tbody>\n",
       "</table>\n",
       "</div>"
      ],
      "text/plain": [
       "  FECHA_SINTOMAS  EDAD          ORIGEN SECTOR    SEXO          MUNICIPIO_RES  \\\n",
       "0     2020-08-17    51           USMER    SSA  HOMBRE             IZTAPALAPA   \n",
       "1     2020-12-28    47           USMER    SSA   MUJER    VENUSTIANO CARRANZA   \n",
       "2     2020-07-01    62  FUERA DE USMER    SSA  HOMBRE    VENUSTIANO CARRANZA   \n",
       "3     2020-09-23    67           USMER    SSA   MUJER  CUAJIMALPA DE MORELOS   \n",
       "4     2020-06-12    13  FUERA DE USMER    SSA   MUJER           AZCAPOTZALCO   \n",
       "\n",
       "    EMBARAZO TOMA_MUESTRA_LAB TOMA_MUESTRA_ANTIGENO        UCI Estado  \\\n",
       "0  NO APLICA              SI                    NO   NO APLICA   Vivo   \n",
       "1        NO               NO                    SI   NO APLICA   Vivo   \n",
       "2  NO APLICA              NO                    NO   NO APLICA   Vivo   \n",
       "3        NO               SI                    NO   NO APLICA   Vivo   \n",
       "4        NO               SI                    NO   NO APLICA   Vivo   \n",
       "\n",
       "  Diagnostico TIPO_PACIENTE  \n",
       "0    Negativo   AMBULATORIO  \n",
       "1    Negativo   AMBULATORIO  \n",
       "2  Sospechoso   AMBULATORIO  \n",
       "3    Positivo   AMBULATORIO  \n",
       "4    Negativo   AMBULATORIO  "
      ]
     },
     "execution_count": 5,
     "metadata": {},
     "output_type": "execute_result"
    }
   ],
   "source": [
    "df_mexico=pd.read_csv(path+\"Mode_dataframe.csv\",encoding=\"utf-8\")\n",
    "df_mexico.head(5)"
   ]
  },
  {
   "cell_type": "code",
   "execution_count": 6,
   "id": "c8bfe37c",
   "metadata": {},
   "outputs": [
    {
     "data": {
      "text/plain": [
       "(6458242, 13)"
      ]
     },
     "execution_count": 6,
     "metadata": {},
     "output_type": "execute_result"
    }
   ],
   "source": [
    "df_mexico.shape"
   ]
  },
  {
   "cell_type": "markdown",
   "id": "14bdea66",
   "metadata": {},
   "source": [
    "## Ingenieria de variables y reducción de dimensiones"
   ]
  },
  {
   "cell_type": "code",
   "execution_count": 7,
   "id": "948a6eda",
   "metadata": {},
   "outputs": [
    {
     "data": {
      "text/html": [
       "<div>\n",
       "<style scoped>\n",
       "    .dataframe tbody tr th:only-of-type {\n",
       "        vertical-align: middle;\n",
       "    }\n",
       "\n",
       "    .dataframe tbody tr th {\n",
       "        vertical-align: top;\n",
       "    }\n",
       "\n",
       "    .dataframe thead th {\n",
       "        text-align: right;\n",
       "    }\n",
       "</style>\n",
       "<table border=\"1\" class=\"dataframe\">\n",
       "  <thead>\n",
       "    <tr style=\"text-align: right;\">\n",
       "      <th></th>\n",
       "      <th>FECHA_SINTOMAS</th>\n",
       "      <th>EDAD</th>\n",
       "      <th>ORIGEN</th>\n",
       "      <th>SECTOR</th>\n",
       "      <th>SEXO</th>\n",
       "      <th>MUNICIPIO_RES</th>\n",
       "      <th>EMBARAZO</th>\n",
       "      <th>TOMA_MUESTRA_LAB</th>\n",
       "      <th>TOMA_MUESTRA_ANTIGENO</th>\n",
       "      <th>UCI</th>\n",
       "      <th>Estado</th>\n",
       "      <th>Diagnostico</th>\n",
       "      <th>TIPO_PACIENTE</th>\n",
       "      <th>Dia</th>\n",
       "      <th>Mes</th>\n",
       "    </tr>\n",
       "  </thead>\n",
       "  <tbody>\n",
       "    <tr>\n",
       "      <th>0</th>\n",
       "      <td>2020-08-17</td>\n",
       "      <td>51</td>\n",
       "      <td>USMER</td>\n",
       "      <td>SSA</td>\n",
       "      <td>HOMBRE</td>\n",
       "      <td>IZTAPALAPA</td>\n",
       "      <td>NO APLICA</td>\n",
       "      <td>SI</td>\n",
       "      <td>NO</td>\n",
       "      <td>NO APLICA</td>\n",
       "      <td>Vivo</td>\n",
       "      <td>Negativo</td>\n",
       "      <td>AMBULATORIO</td>\n",
       "      <td>17</td>\n",
       "      <td>8</td>\n",
       "    </tr>\n",
       "    <tr>\n",
       "      <th>1</th>\n",
       "      <td>2020-12-28</td>\n",
       "      <td>47</td>\n",
       "      <td>USMER</td>\n",
       "      <td>SSA</td>\n",
       "      <td>MUJER</td>\n",
       "      <td>VENUSTIANO CARRANZA</td>\n",
       "      <td>NO</td>\n",
       "      <td>NO</td>\n",
       "      <td>SI</td>\n",
       "      <td>NO APLICA</td>\n",
       "      <td>Vivo</td>\n",
       "      <td>Negativo</td>\n",
       "      <td>AMBULATORIO</td>\n",
       "      <td>28</td>\n",
       "      <td>12</td>\n",
       "    </tr>\n",
       "    <tr>\n",
       "      <th>2</th>\n",
       "      <td>2020-07-01</td>\n",
       "      <td>62</td>\n",
       "      <td>FUERA DE USMER</td>\n",
       "      <td>SSA</td>\n",
       "      <td>HOMBRE</td>\n",
       "      <td>VENUSTIANO CARRANZA</td>\n",
       "      <td>NO APLICA</td>\n",
       "      <td>NO</td>\n",
       "      <td>NO</td>\n",
       "      <td>NO APLICA</td>\n",
       "      <td>Vivo</td>\n",
       "      <td>Sospechoso</td>\n",
       "      <td>AMBULATORIO</td>\n",
       "      <td>1</td>\n",
       "      <td>7</td>\n",
       "    </tr>\n",
       "    <tr>\n",
       "      <th>3</th>\n",
       "      <td>2020-09-23</td>\n",
       "      <td>67</td>\n",
       "      <td>USMER</td>\n",
       "      <td>SSA</td>\n",
       "      <td>MUJER</td>\n",
       "      <td>CUAJIMALPA DE MORELOS</td>\n",
       "      <td>NO</td>\n",
       "      <td>SI</td>\n",
       "      <td>NO</td>\n",
       "      <td>NO APLICA</td>\n",
       "      <td>Vivo</td>\n",
       "      <td>Positivo</td>\n",
       "      <td>AMBULATORIO</td>\n",
       "      <td>23</td>\n",
       "      <td>9</td>\n",
       "    </tr>\n",
       "    <tr>\n",
       "      <th>4</th>\n",
       "      <td>2020-06-12</td>\n",
       "      <td>13</td>\n",
       "      <td>FUERA DE USMER</td>\n",
       "      <td>SSA</td>\n",
       "      <td>MUJER</td>\n",
       "      <td>AZCAPOTZALCO</td>\n",
       "      <td>NO</td>\n",
       "      <td>SI</td>\n",
       "      <td>NO</td>\n",
       "      <td>NO APLICA</td>\n",
       "      <td>Vivo</td>\n",
       "      <td>Negativo</td>\n",
       "      <td>AMBULATORIO</td>\n",
       "      <td>12</td>\n",
       "      <td>6</td>\n",
       "    </tr>\n",
       "  </tbody>\n",
       "</table>\n",
       "</div>"
      ],
      "text/plain": [
       "  FECHA_SINTOMAS  EDAD          ORIGEN SECTOR    SEXO          MUNICIPIO_RES  \\\n",
       "0     2020-08-17    51           USMER    SSA  HOMBRE             IZTAPALAPA   \n",
       "1     2020-12-28    47           USMER    SSA   MUJER    VENUSTIANO CARRANZA   \n",
       "2     2020-07-01    62  FUERA DE USMER    SSA  HOMBRE    VENUSTIANO CARRANZA   \n",
       "3     2020-09-23    67           USMER    SSA   MUJER  CUAJIMALPA DE MORELOS   \n",
       "4     2020-06-12    13  FUERA DE USMER    SSA   MUJER           AZCAPOTZALCO   \n",
       "\n",
       "    EMBARAZO TOMA_MUESTRA_LAB TOMA_MUESTRA_ANTIGENO        UCI Estado  \\\n",
       "0  NO APLICA              SI                    NO   NO APLICA   Vivo   \n",
       "1        NO               NO                    SI   NO APLICA   Vivo   \n",
       "2  NO APLICA              NO                    NO   NO APLICA   Vivo   \n",
       "3        NO               SI                    NO   NO APLICA   Vivo   \n",
       "4        NO               SI                    NO   NO APLICA   Vivo   \n",
       "\n",
       "  Diagnostico TIPO_PACIENTE  Dia  Mes  \n",
       "0    Negativo   AMBULATORIO   17    8  \n",
       "1    Negativo   AMBULATORIO   28   12  \n",
       "2  Sospechoso   AMBULATORIO    1    7  \n",
       "3    Positivo   AMBULATORIO   23    9  \n",
       "4    Negativo   AMBULATORIO   12    6  "
      ]
     },
     "execution_count": 7,
     "metadata": {},
     "output_type": "execute_result"
    }
   ],
   "source": [
    "#Separamos los dias y los meses de fecha sintomas\n",
    "df_mexico[\"Dia\"]=df_mexico[\"FECHA_SINTOMAS\"].map(lambda x:x.split(\"-\")[2]).astype(int)\n",
    "df_mexico[\"Mes\"]=df_mexico[\"FECHA_SINTOMAS\"].map(lambda x:x.split(\"-\")[1]).astype(int)\n",
    "df_mexico.head(5)"
   ]
  },
  {
   "cell_type": "code",
   "execution_count": 8,
   "id": "d2a2b31c",
   "metadata": {},
   "outputs": [
    {
     "data": {
      "text/plain": [
       "array([17, 28,  1, 23, 12, 18, 20, 10, 16,  4,  6,  3, 21, 14, 15, 13, 22,\n",
       "       30,  2, 29,  8,  9, 11,  7,  5, 26, 27, 24, 25, 19, 31])"
      ]
     },
     "execution_count": 8,
     "metadata": {},
     "output_type": "execute_result"
    }
   ],
   "source": [
    "df_mexico[\"Dia\"].unique()"
   ]
  },
  {
   "cell_type": "code",
   "execution_count": 9,
   "id": "bcb01ee5",
   "metadata": {},
   "outputs": [],
   "source": [
    "#Eliminamos fecha sintomas dado que no nos importa el año\n",
    "df_mexico.drop([\"FECHA_SINTOMAS\"],axis=1,inplace=True)"
   ]
  },
  {
   "cell_type": "code",
   "execution_count": 10,
   "id": "1e204498",
   "metadata": {},
   "outputs": [
    {
     "data": {
      "text/html": [
       "<div>\n",
       "<style scoped>\n",
       "    .dataframe tbody tr th:only-of-type {\n",
       "        vertical-align: middle;\n",
       "    }\n",
       "\n",
       "    .dataframe tbody tr th {\n",
       "        vertical-align: top;\n",
       "    }\n",
       "\n",
       "    .dataframe thead th {\n",
       "        text-align: right;\n",
       "    }\n",
       "</style>\n",
       "<table border=\"1\" class=\"dataframe\">\n",
       "  <thead>\n",
       "    <tr style=\"text-align: right;\">\n",
       "      <th></th>\n",
       "      <th>EDAD</th>\n",
       "      <th>Dia</th>\n",
       "      <th>Mes</th>\n",
       "    </tr>\n",
       "  </thead>\n",
       "  <tbody>\n",
       "    <tr>\n",
       "      <th>EDAD</th>\n",
       "      <td>1.000000</td>\n",
       "      <td>-0.001617</td>\n",
       "      <td>-0.032648</td>\n",
       "    </tr>\n",
       "    <tr>\n",
       "      <th>Dia</th>\n",
       "      <td>-0.001617</td>\n",
       "      <td>1.000000</td>\n",
       "      <td>0.068082</td>\n",
       "    </tr>\n",
       "    <tr>\n",
       "      <th>Mes</th>\n",
       "      <td>-0.032648</td>\n",
       "      <td>0.068082</td>\n",
       "      <td>1.000000</td>\n",
       "    </tr>\n",
       "  </tbody>\n",
       "</table>\n",
       "</div>"
      ],
      "text/plain": [
       "          EDAD       Dia       Mes\n",
       "EDAD  1.000000 -0.001617 -0.032648\n",
       "Dia  -0.001617  1.000000  0.068082\n",
       "Mes  -0.032648  0.068082  1.000000"
      ]
     },
     "execution_count": 10,
     "metadata": {},
     "output_type": "execute_result"
    }
   ],
   "source": [
    "#Checamos la correlacion de las variables continuas con la variable objetivo de Estado\n",
    "correlaciones = df_mexico[[x for x in df_mexico]].corr(method=\"spearman\")\n",
    "correlaciones"
   ]
  },
  {
   "cell_type": "code",
   "execution_count": 11,
   "id": "537e4b7e",
   "metadata": {},
   "outputs": [
    {
     "data": {
      "text/plain": [
       "array(['Vivo', 'Muerto'], dtype=object)"
      ]
     },
     "execution_count": 11,
     "metadata": {},
     "output_type": "execute_result"
    }
   ],
   "source": [
    "#Volvemos la variable objetivo en 1:Muerto 0:Vivo\n",
    "df_mexico[\"Estado\"].unique()"
   ]
  },
  {
   "cell_type": "code",
   "execution_count": 12,
   "id": "c74b5780",
   "metadata": {},
   "outputs": [
    {
     "data": {
      "text/html": [
       "<div>\n",
       "<style scoped>\n",
       "    .dataframe tbody tr th:only-of-type {\n",
       "        vertical-align: middle;\n",
       "    }\n",
       "\n",
       "    .dataframe tbody tr th {\n",
       "        vertical-align: top;\n",
       "    }\n",
       "\n",
       "    .dataframe thead th {\n",
       "        text-align: right;\n",
       "    }\n",
       "</style>\n",
       "<table border=\"1\" class=\"dataframe\">\n",
       "  <thead>\n",
       "    <tr style=\"text-align: right;\">\n",
       "      <th></th>\n",
       "      <th>EDAD</th>\n",
       "      <th>ORIGEN</th>\n",
       "      <th>SECTOR</th>\n",
       "      <th>SEXO</th>\n",
       "      <th>MUNICIPIO_RES</th>\n",
       "      <th>EMBARAZO</th>\n",
       "      <th>TOMA_MUESTRA_LAB</th>\n",
       "      <th>TOMA_MUESTRA_ANTIGENO</th>\n",
       "      <th>UCI</th>\n",
       "      <th>Estado</th>\n",
       "      <th>Diagnostico</th>\n",
       "      <th>TIPO_PACIENTE</th>\n",
       "      <th>Dia</th>\n",
       "      <th>Mes</th>\n",
       "    </tr>\n",
       "  </thead>\n",
       "  <tbody>\n",
       "    <tr>\n",
       "      <th>0</th>\n",
       "      <td>51</td>\n",
       "      <td>USMER</td>\n",
       "      <td>SSA</td>\n",
       "      <td>HOMBRE</td>\n",
       "      <td>IZTAPALAPA</td>\n",
       "      <td>NO APLICA</td>\n",
       "      <td>SI</td>\n",
       "      <td>NO</td>\n",
       "      <td>NO APLICA</td>\n",
       "      <td>0</td>\n",
       "      <td>Negativo</td>\n",
       "      <td>AMBULATORIO</td>\n",
       "      <td>17</td>\n",
       "      <td>8</td>\n",
       "    </tr>\n",
       "    <tr>\n",
       "      <th>1</th>\n",
       "      <td>47</td>\n",
       "      <td>USMER</td>\n",
       "      <td>SSA</td>\n",
       "      <td>MUJER</td>\n",
       "      <td>VENUSTIANO CARRANZA</td>\n",
       "      <td>NO</td>\n",
       "      <td>NO</td>\n",
       "      <td>SI</td>\n",
       "      <td>NO APLICA</td>\n",
       "      <td>0</td>\n",
       "      <td>Negativo</td>\n",
       "      <td>AMBULATORIO</td>\n",
       "      <td>28</td>\n",
       "      <td>12</td>\n",
       "    </tr>\n",
       "    <tr>\n",
       "      <th>2</th>\n",
       "      <td>62</td>\n",
       "      <td>FUERA DE USMER</td>\n",
       "      <td>SSA</td>\n",
       "      <td>HOMBRE</td>\n",
       "      <td>VENUSTIANO CARRANZA</td>\n",
       "      <td>NO APLICA</td>\n",
       "      <td>NO</td>\n",
       "      <td>NO</td>\n",
       "      <td>NO APLICA</td>\n",
       "      <td>0</td>\n",
       "      <td>Sospechoso</td>\n",
       "      <td>AMBULATORIO</td>\n",
       "      <td>1</td>\n",
       "      <td>7</td>\n",
       "    </tr>\n",
       "  </tbody>\n",
       "</table>\n",
       "</div>"
      ],
      "text/plain": [
       "   EDAD          ORIGEN SECTOR    SEXO        MUNICIPIO_RES   EMBARAZO  \\\n",
       "0    51           USMER    SSA  HOMBRE           IZTAPALAPA  NO APLICA   \n",
       "1    47           USMER    SSA   MUJER  VENUSTIANO CARRANZA        NO    \n",
       "2    62  FUERA DE USMER    SSA  HOMBRE  VENUSTIANO CARRANZA  NO APLICA   \n",
       "\n",
       "  TOMA_MUESTRA_LAB TOMA_MUESTRA_ANTIGENO        UCI  Estado Diagnostico  \\\n",
       "0              SI                    NO   NO APLICA       0    Negativo   \n",
       "1              NO                    SI   NO APLICA       0    Negativo   \n",
       "2              NO                    NO   NO APLICA       0  Sospechoso   \n",
       "\n",
       "  TIPO_PACIENTE  Dia  Mes  \n",
       "0   AMBULATORIO   17    8  \n",
       "1   AMBULATORIO   28   12  \n",
       "2   AMBULATORIO    1    7  "
      ]
     },
     "execution_count": 12,
     "metadata": {},
     "output_type": "execute_result"
    }
   ],
   "source": [
    "diccionario_estado={\"Vivo\":0,\"Muerto\":1}\n",
    "df_mexico[\"Estado\"]=df_mexico[\"Estado\"].map(diccionario_estado)\n",
    "del(diccionario_estado)\n",
    "df_mexico.head(3)"
   ]
  },
  {
   "cell_type": "code",
   "execution_count": 13,
   "id": "d1b8172a",
   "metadata": {},
   "outputs": [],
   "source": [
    "correlacion_target=df_mexico[df_mexico.columns].corr(method=\"spearman\")\n",
    "correlacion_target=abs(correlacion_target)"
   ]
  },
  {
   "cell_type": "code",
   "execution_count": 14,
   "id": "14cd4351",
   "metadata": {},
   "outputs": [
    {
     "data": {
      "text/html": [
       "<div>\n",
       "<style scoped>\n",
       "    .dataframe tbody tr th:only-of-type {\n",
       "        vertical-align: middle;\n",
       "    }\n",
       "\n",
       "    .dataframe tbody tr th {\n",
       "        vertical-align: top;\n",
       "    }\n",
       "\n",
       "    .dataframe thead th {\n",
       "        text-align: right;\n",
       "    }\n",
       "</style>\n",
       "<table border=\"1\" class=\"dataframe\">\n",
       "  <thead>\n",
       "    <tr style=\"text-align: right;\">\n",
       "      <th></th>\n",
       "      <th>EDAD</th>\n",
       "      <th>Estado</th>\n",
       "      <th>Dia</th>\n",
       "      <th>Mes</th>\n",
       "    </tr>\n",
       "  </thead>\n",
       "  <tbody>\n",
       "    <tr>\n",
       "      <th>EDAD</th>\n",
       "      <td>1.000000</td>\n",
       "      <td>0.164303</td>\n",
       "      <td>0.001617</td>\n",
       "      <td>0.032648</td>\n",
       "    </tr>\n",
       "    <tr>\n",
       "      <th>Estado</th>\n",
       "      <td>0.164303</td>\n",
       "      <td>1.000000</td>\n",
       "      <td>0.000145</td>\n",
       "      <td>0.006276</td>\n",
       "    </tr>\n",
       "    <tr>\n",
       "      <th>Dia</th>\n",
       "      <td>0.001617</td>\n",
       "      <td>0.000145</td>\n",
       "      <td>1.000000</td>\n",
       "      <td>0.068082</td>\n",
       "    </tr>\n",
       "    <tr>\n",
       "      <th>Mes</th>\n",
       "      <td>0.032648</td>\n",
       "      <td>0.006276</td>\n",
       "      <td>0.068082</td>\n",
       "      <td>1.000000</td>\n",
       "    </tr>\n",
       "  </tbody>\n",
       "</table>\n",
       "</div>"
      ],
      "text/plain": [
       "            EDAD    Estado       Dia       Mes\n",
       "EDAD    1.000000  0.164303  0.001617  0.032648\n",
       "Estado  0.164303  1.000000  0.000145  0.006276\n",
       "Dia     0.001617  0.000145  1.000000  0.068082\n",
       "Mes     0.032648  0.006276  0.068082  1.000000"
      ]
     },
     "execution_count": 14,
     "metadata": {},
     "output_type": "execute_result"
    }
   ],
   "source": [
    "correlacion_target"
   ]
  },
  {
   "cell_type": "code",
   "execution_count": 15,
   "id": "2219ce9a",
   "metadata": {},
   "outputs": [
    {
     "data": {
      "text/html": [
       "<style type=\"text/css\">\n",
       "#T_29849_row0_col0 {\n",
       "  background-color: #023858;\n",
       "  color: #f1f1f1;\n",
       "}\n",
       "#T_29849_row1_col0 {\n",
       "  background-color: #e3e0ee;\n",
       "  color: #000000;\n",
       "}\n",
       "#T_29849_row2_col0 {\n",
       "  background-color: #fef6fb;\n",
       "  color: #000000;\n",
       "}\n",
       "#T_29849_row3_col0 {\n",
       "  background-color: #fff7fb;\n",
       "  color: #000000;\n",
       "}\n",
       "</style>\n",
       "<table id=\"T_29849\">\n",
       "  <thead>\n",
       "    <tr>\n",
       "      <th class=\"blank level0\" >&nbsp;</th>\n",
       "      <th id=\"T_29849_level0_col0\" class=\"col_heading level0 col0\" >Estado</th>\n",
       "    </tr>\n",
       "  </thead>\n",
       "  <tbody>\n",
       "    <tr>\n",
       "      <th id=\"T_29849_level0_row0\" class=\"row_heading level0 row0\" >Estado</th>\n",
       "      <td id=\"T_29849_row0_col0\" class=\"data row0 col0\" >1.000000</td>\n",
       "    </tr>\n",
       "    <tr>\n",
       "      <th id=\"T_29849_level0_row1\" class=\"row_heading level0 row1\" >EDAD</th>\n",
       "      <td id=\"T_29849_row1_col0\" class=\"data row1 col0\" >0.164303</td>\n",
       "    </tr>\n",
       "    <tr>\n",
       "      <th id=\"T_29849_level0_row2\" class=\"row_heading level0 row2\" >Mes</th>\n",
       "      <td id=\"T_29849_row2_col0\" class=\"data row2 col0\" >0.006276</td>\n",
       "    </tr>\n",
       "    <tr>\n",
       "      <th id=\"T_29849_level0_row3\" class=\"row_heading level0 row3\" >Dia</th>\n",
       "      <td id=\"T_29849_row3_col0\" class=\"data row3 col0\" >0.000145</td>\n",
       "    </tr>\n",
       "  </tbody>\n",
       "</table>\n"
      ],
      "text/plain": [
       "<pandas.io.formats.style.Styler at 0x7f8867ecf370>"
      ]
     },
     "execution_count": 15,
     "metadata": {},
     "output_type": "execute_result"
    }
   ],
   "source": [
    "correlacion_target[[\"Estado\"]].sort_values(by ='Estado',ascending = False).style.background_gradient()"
   ]
  },
  {
   "cell_type": "markdown",
   "id": "60717e33",
   "metadata": {},
   "source": [
    "Apreciamos que el dia y mes no tienen relevancia en las muertes por covid"
   ]
  },
  {
   "cell_type": "code",
   "execution_count": 16,
   "id": "b2b7b7f9",
   "metadata": {},
   "outputs": [
    {
     "data": {
      "text/plain": [
       "['Mes', 'Dia']"
      ]
     },
     "execution_count": 16,
     "metadata": {},
     "output_type": "execute_result"
    }
   ],
   "source": [
    "#Guardamos esa tabla\n",
    "correlacion_target = correlacion_target[[\"Estado\"]].sort_values(by ='Estado',ascending = False)\n",
    "#Identificamos el index de las variables con correlación abajo de 0.1\n",
    "cols_baja_corr = list(correlacion_target.loc[correlacion_target[\"Estado\"]<0.1].index)\n",
    "cols_baja_corr"
   ]
  },
  {
   "cell_type": "code",
   "execution_count": 17,
   "id": "36af61e7",
   "metadata": {},
   "outputs": [
    {
     "data": {
      "text/html": [
       "<div>\n",
       "<style scoped>\n",
       "    .dataframe tbody tr th:only-of-type {\n",
       "        vertical-align: middle;\n",
       "    }\n",
       "\n",
       "    .dataframe tbody tr th {\n",
       "        vertical-align: top;\n",
       "    }\n",
       "\n",
       "    .dataframe thead th {\n",
       "        text-align: right;\n",
       "    }\n",
       "</style>\n",
       "<table border=\"1\" class=\"dataframe\">\n",
       "  <thead>\n",
       "    <tr style=\"text-align: right;\">\n",
       "      <th></th>\n",
       "      <th>EDAD</th>\n",
       "      <th>ORIGEN</th>\n",
       "      <th>SECTOR</th>\n",
       "      <th>SEXO</th>\n",
       "      <th>MUNICIPIO_RES</th>\n",
       "      <th>EMBARAZO</th>\n",
       "      <th>TOMA_MUESTRA_LAB</th>\n",
       "      <th>TOMA_MUESTRA_ANTIGENO</th>\n",
       "      <th>UCI</th>\n",
       "      <th>Estado</th>\n",
       "      <th>Diagnostico</th>\n",
       "      <th>TIPO_PACIENTE</th>\n",
       "    </tr>\n",
       "  </thead>\n",
       "  <tbody>\n",
       "    <tr>\n",
       "      <th>0</th>\n",
       "      <td>51</td>\n",
       "      <td>USMER</td>\n",
       "      <td>SSA</td>\n",
       "      <td>HOMBRE</td>\n",
       "      <td>IZTAPALAPA</td>\n",
       "      <td>NO APLICA</td>\n",
       "      <td>SI</td>\n",
       "      <td>NO</td>\n",
       "      <td>NO APLICA</td>\n",
       "      <td>0</td>\n",
       "      <td>Negativo</td>\n",
       "      <td>AMBULATORIO</td>\n",
       "    </tr>\n",
       "    <tr>\n",
       "      <th>1</th>\n",
       "      <td>47</td>\n",
       "      <td>USMER</td>\n",
       "      <td>SSA</td>\n",
       "      <td>MUJER</td>\n",
       "      <td>VENUSTIANO CARRANZA</td>\n",
       "      <td>NO</td>\n",
       "      <td>NO</td>\n",
       "      <td>SI</td>\n",
       "      <td>NO APLICA</td>\n",
       "      <td>0</td>\n",
       "      <td>Negativo</td>\n",
       "      <td>AMBULATORIO</td>\n",
       "    </tr>\n",
       "    <tr>\n",
       "      <th>2</th>\n",
       "      <td>62</td>\n",
       "      <td>FUERA DE USMER</td>\n",
       "      <td>SSA</td>\n",
       "      <td>HOMBRE</td>\n",
       "      <td>VENUSTIANO CARRANZA</td>\n",
       "      <td>NO APLICA</td>\n",
       "      <td>NO</td>\n",
       "      <td>NO</td>\n",
       "      <td>NO APLICA</td>\n",
       "      <td>0</td>\n",
       "      <td>Sospechoso</td>\n",
       "      <td>AMBULATORIO</td>\n",
       "    </tr>\n",
       "    <tr>\n",
       "      <th>3</th>\n",
       "      <td>67</td>\n",
       "      <td>USMER</td>\n",
       "      <td>SSA</td>\n",
       "      <td>MUJER</td>\n",
       "      <td>CUAJIMALPA DE MORELOS</td>\n",
       "      <td>NO</td>\n",
       "      <td>SI</td>\n",
       "      <td>NO</td>\n",
       "      <td>NO APLICA</td>\n",
       "      <td>0</td>\n",
       "      <td>Positivo</td>\n",
       "      <td>AMBULATORIO</td>\n",
       "    </tr>\n",
       "    <tr>\n",
       "      <th>4</th>\n",
       "      <td>13</td>\n",
       "      <td>FUERA DE USMER</td>\n",
       "      <td>SSA</td>\n",
       "      <td>MUJER</td>\n",
       "      <td>AZCAPOTZALCO</td>\n",
       "      <td>NO</td>\n",
       "      <td>SI</td>\n",
       "      <td>NO</td>\n",
       "      <td>NO APLICA</td>\n",
       "      <td>0</td>\n",
       "      <td>Negativo</td>\n",
       "      <td>AMBULATORIO</td>\n",
       "    </tr>\n",
       "  </tbody>\n",
       "</table>\n",
       "</div>"
      ],
      "text/plain": [
       "   EDAD          ORIGEN SECTOR    SEXO          MUNICIPIO_RES   EMBARAZO  \\\n",
       "0    51           USMER    SSA  HOMBRE             IZTAPALAPA  NO APLICA   \n",
       "1    47           USMER    SSA   MUJER    VENUSTIANO CARRANZA        NO    \n",
       "2    62  FUERA DE USMER    SSA  HOMBRE    VENUSTIANO CARRANZA  NO APLICA   \n",
       "3    67           USMER    SSA   MUJER  CUAJIMALPA DE MORELOS        NO    \n",
       "4    13  FUERA DE USMER    SSA   MUJER           AZCAPOTZALCO        NO    \n",
       "\n",
       "  TOMA_MUESTRA_LAB TOMA_MUESTRA_ANTIGENO        UCI  Estado Diagnostico  \\\n",
       "0              SI                    NO   NO APLICA       0    Negativo   \n",
       "1              NO                    SI   NO APLICA       0    Negativo   \n",
       "2              NO                    NO   NO APLICA       0  Sospechoso   \n",
       "3              SI                    NO   NO APLICA       0    Positivo   \n",
       "4              SI                    NO   NO APLICA       0    Negativo   \n",
       "\n",
       "  TIPO_PACIENTE  \n",
       "0   AMBULATORIO  \n",
       "1   AMBULATORIO  \n",
       "2   AMBULATORIO  \n",
       "3   AMBULATORIO  \n",
       "4   AMBULATORIO  "
      ]
     },
     "execution_count": 17,
     "metadata": {},
     "output_type": "execute_result"
    }
   ],
   "source": [
    "#Eliminamos dichas columnas del dataset\n",
    "df_mexico = df_mexico.drop(cols_baja_corr,axis=1)\n",
    "df_mexico.head(5)"
   ]
  },
  {
   "cell_type": "markdown",
   "id": "ca4117f2",
   "metadata": {},
   "source": [
    "Para las variables categoricas usaremos el woe"
   ]
  },
  {
   "cell_type": "code",
   "execution_count": 18,
   "id": "d5ca0ce7",
   "metadata": {},
   "outputs": [],
   "source": [
    "def iv_woe(data, target, bins=20, show_woe=False):\n",
    "    \n",
    "    #Empty Dataframe\n",
    "    newDF,woeDF = pd.DataFrame(), pd.DataFrame()\n",
    "    \n",
    "    #Extract Column Names\n",
    "    cols = data.columns\n",
    "    \n",
    "    #Run WOE and IV on all the independent variables\n",
    "    for ivars in cols[~cols.isin([target])]:\n",
    "        if (data[ivars].dtype.kind in 'bifc') and (len(np.unique(data[ivars]))>10):\n",
    "            binned_x = pd.qcut(data[ivars], bins,  duplicates='drop')\n",
    "            d0 = pd.DataFrame({'x': binned_x, 'y': data[target]})\n",
    "        else:\n",
    "            d0 = pd.DataFrame({'x': data[ivars], 'y': data[target]})\n",
    "        d = d0.groupby(\"x\", as_index=False).agg({\"y\": [\"count\", \"sum\"]})\n",
    "        d.columns = ['Cutoff', 'N', 'Events']\n",
    "        d['% of Events'] = np.maximum(d['Events'], 0.5) / d['Events'].sum()\n",
    "        d['Non-Events'] = d['N'] - d['Events']\n",
    "        d['% of Non-Events'] = np.maximum(d['Non-Events'], 0.5) / d['Non-Events'].sum()\n",
    "        d['WoE'] = np.log(d['% of Events']/d['% of Non-Events'])\n",
    "        d['IV'] = d['WoE'] * (d['% of Events'] - d['% of Non-Events'])\n",
    "        d.insert(loc=0, column='Variable', value=ivars)\n",
    "        print(\"Information value of \" + ivars + \" is \" + str(round(d['IV'].sum(),6)))\n",
    "        temp =pd.DataFrame({\"Variable\" : [ivars], \"IV\" : [d['IV'].sum()]}, columns = [\"Variable\", \"IV\"])\n",
    "        newDF=pd.concat([newDF,temp], axis=0)\n",
    "        woeDF=pd.concat([woeDF,d], axis=0)\n",
    "\n",
    "        #Show WOE Table\n",
    "        if show_woe == True:\n",
    "            print(d)\n",
    "    return newDF, woeDF"
   ]
  },
  {
   "cell_type": "code",
   "execution_count": 19,
   "id": "9a520905",
   "metadata": {},
   "outputs": [
    {
     "name": "stdout",
     "output_type": "stream",
     "text": [
      "Information value of ORIGEN is 0.631803\n",
      "Information value of SECTOR is 1.336937\n",
      "Information value of SEXO is 0.107133\n",
      "Information value of MUNICIPIO_RES is 0.471485\n",
      "Information value of EMBARAZO is 0.129\n",
      "Information value of TOMA_MUESTRA_LAB is 0.990716\n",
      "Information value of TOMA_MUESTRA_ANTIGENO is 1.117044\n",
      "Information value of UCI is 5.437849\n",
      "Information value of Diagnostico is 1.160868\n",
      "Information value of TIPO_PACIENTE is 5.415798\n"
     ]
    }
   ],
   "source": [
    "# Se aplica la función\n",
    "disc=[c for c in df_mexico.columns if c != \"EDAD\"]\n",
    "is_canceled_woe = iv_woe(df_mexico[disc], 'Estado', bins=15, show_woe=False)"
   ]
  },
  {
   "cell_type": "code",
   "execution_count": 20,
   "id": "a60d0534",
   "metadata": {},
   "outputs": [
    {
     "data": {
      "text/html": [
       "<div>\n",
       "<style scoped>\n",
       "    .dataframe tbody tr th:only-of-type {\n",
       "        vertical-align: middle;\n",
       "    }\n",
       "\n",
       "    .dataframe tbody tr th {\n",
       "        vertical-align: top;\n",
       "    }\n",
       "\n",
       "    .dataframe thead th {\n",
       "        text-align: right;\n",
       "    }\n",
       "</style>\n",
       "<table border=\"1\" class=\"dataframe\">\n",
       "  <thead>\n",
       "    <tr style=\"text-align: right;\">\n",
       "      <th></th>\n",
       "      <th>Variable</th>\n",
       "      <th>IV</th>\n",
       "      <th>Pronostico</th>\n",
       "    </tr>\n",
       "  </thead>\n",
       "  <tbody>\n",
       "    <tr>\n",
       "      <th>0</th>\n",
       "      <td>UCI</td>\n",
       "      <td>5.437849</td>\n",
       "      <td>NaN</td>\n",
       "    </tr>\n",
       "    <tr>\n",
       "      <th>0</th>\n",
       "      <td>TIPO_PACIENTE</td>\n",
       "      <td>5.415798</td>\n",
       "      <td>NaN</td>\n",
       "    </tr>\n",
       "    <tr>\n",
       "      <th>0</th>\n",
       "      <td>SECTOR</td>\n",
       "      <td>1.336937</td>\n",
       "      <td>NaN</td>\n",
       "    </tr>\n",
       "    <tr>\n",
       "      <th>0</th>\n",
       "      <td>Diagnostico</td>\n",
       "      <td>1.160868</td>\n",
       "      <td>NaN</td>\n",
       "    </tr>\n",
       "    <tr>\n",
       "      <th>0</th>\n",
       "      <td>TOMA_MUESTRA_ANTIGENO</td>\n",
       "      <td>1.117044</td>\n",
       "      <td>NaN</td>\n",
       "    </tr>\n",
       "    <tr>\n",
       "      <th>0</th>\n",
       "      <td>TOMA_MUESTRA_LAB</td>\n",
       "      <td>0.990716</td>\n",
       "      <td>NaN</td>\n",
       "    </tr>\n",
       "    <tr>\n",
       "      <th>0</th>\n",
       "      <td>ORIGEN</td>\n",
       "      <td>0.631803</td>\n",
       "      <td>NaN</td>\n",
       "    </tr>\n",
       "    <tr>\n",
       "      <th>0</th>\n",
       "      <td>MUNICIPIO_RES</td>\n",
       "      <td>0.471485</td>\n",
       "      <td>NaN</td>\n",
       "    </tr>\n",
       "    <tr>\n",
       "      <th>0</th>\n",
       "      <td>EMBARAZO</td>\n",
       "      <td>0.129000</td>\n",
       "      <td>NaN</td>\n",
       "    </tr>\n",
       "    <tr>\n",
       "      <th>0</th>\n",
       "      <td>SEXO</td>\n",
       "      <td>0.107133</td>\n",
       "      <td>NaN</td>\n",
       "    </tr>\n",
       "  </tbody>\n",
       "</table>\n",
       "</div>"
      ],
      "text/plain": [
       "                Variable        IV  Pronostico\n",
       "0                    UCI  5.437849         NaN\n",
       "0          TIPO_PACIENTE  5.415798         NaN\n",
       "0                 SECTOR  1.336937         NaN\n",
       "0            Diagnostico  1.160868         NaN\n",
       "0  TOMA_MUESTRA_ANTIGENO  1.117044         NaN\n",
       "0       TOMA_MUESTRA_LAB  0.990716         NaN\n",
       "0                 ORIGEN  0.631803         NaN\n",
       "0          MUNICIPIO_RES  0.471485         NaN\n",
       "0               EMBARAZO  0.129000         NaN\n",
       "0                   SEXO  0.107133         NaN"
      ]
     },
     "execution_count": 20,
     "metadata": {},
     "output_type": "execute_result"
    }
   ],
   "source": [
    "IV=is_canceled_woe[0].sort_values(by=\"IV\",ascending=False)\n",
    "IV[\"Pronostico\"]=np.nan\n",
    "IV"
   ]
  },
  {
   "cell_type": "code",
   "execution_count": 21,
   "id": "0b5dfa57",
   "metadata": {},
   "outputs": [
    {
     "data": {
      "text/html": [
       "<div>\n",
       "<style scoped>\n",
       "    .dataframe tbody tr th:only-of-type {\n",
       "        vertical-align: middle;\n",
       "    }\n",
       "\n",
       "    .dataframe tbody tr th {\n",
       "        vertical-align: top;\n",
       "    }\n",
       "\n",
       "    .dataframe thead th {\n",
       "        text-align: right;\n",
       "    }\n",
       "</style>\n",
       "<table border=\"1\" class=\"dataframe\">\n",
       "  <thead>\n",
       "    <tr style=\"text-align: right;\">\n",
       "      <th></th>\n",
       "      <th>Variable</th>\n",
       "      <th>IV</th>\n",
       "      <th>Pronostico</th>\n",
       "    </tr>\n",
       "  </thead>\n",
       "  <tbody>\n",
       "    <tr>\n",
       "      <th>0</th>\n",
       "      <td>UCI</td>\n",
       "      <td>5.437849</td>\n",
       "      <td>Sobrepredictiva</td>\n",
       "    </tr>\n",
       "    <tr>\n",
       "      <th>0</th>\n",
       "      <td>TIPO_PACIENTE</td>\n",
       "      <td>5.415798</td>\n",
       "      <td>Sobrepredictiva</td>\n",
       "    </tr>\n",
       "    <tr>\n",
       "      <th>0</th>\n",
       "      <td>SECTOR</td>\n",
       "      <td>1.336937</td>\n",
       "      <td>Sobrepredictiva</td>\n",
       "    </tr>\n",
       "    <tr>\n",
       "      <th>0</th>\n",
       "      <td>Diagnostico</td>\n",
       "      <td>1.160868</td>\n",
       "      <td>Sobrepredictiva</td>\n",
       "    </tr>\n",
       "    <tr>\n",
       "      <th>0</th>\n",
       "      <td>TOMA_MUESTRA_ANTIGENO</td>\n",
       "      <td>1.117044</td>\n",
       "      <td>Sobrepredictiva</td>\n",
       "    </tr>\n",
       "    <tr>\n",
       "      <th>0</th>\n",
       "      <td>TOMA_MUESTRA_LAB</td>\n",
       "      <td>0.990716</td>\n",
       "      <td>Sobrepredictiva</td>\n",
       "    </tr>\n",
       "    <tr>\n",
       "      <th>0</th>\n",
       "      <td>ORIGEN</td>\n",
       "      <td>0.631803</td>\n",
       "      <td>Sobrepredictiva</td>\n",
       "    </tr>\n",
       "    <tr>\n",
       "      <th>0</th>\n",
       "      <td>MUNICIPIO_RES</td>\n",
       "      <td>0.471485</td>\n",
       "      <td>Fuerte</td>\n",
       "    </tr>\n",
       "    <tr>\n",
       "      <th>0</th>\n",
       "      <td>EMBARAZO</td>\n",
       "      <td>0.129000</td>\n",
       "      <td>Medio</td>\n",
       "    </tr>\n",
       "    <tr>\n",
       "      <th>0</th>\n",
       "      <td>SEXO</td>\n",
       "      <td>0.107133</td>\n",
       "      <td>Medio</td>\n",
       "    </tr>\n",
       "  </tbody>\n",
       "</table>\n",
       "</div>"
      ],
      "text/plain": [
       "                Variable        IV       Pronostico\n",
       "0                    UCI  5.437849  Sobrepredictiva\n",
       "0          TIPO_PACIENTE  5.415798  Sobrepredictiva\n",
       "0                 SECTOR  1.336937  Sobrepredictiva\n",
       "0            Diagnostico  1.160868  Sobrepredictiva\n",
       "0  TOMA_MUESTRA_ANTIGENO  1.117044  Sobrepredictiva\n",
       "0       TOMA_MUESTRA_LAB  0.990716  Sobrepredictiva\n",
       "0                 ORIGEN  0.631803  Sobrepredictiva\n",
       "0          MUNICIPIO_RES  0.471485           Fuerte\n",
       "0               EMBARAZO  0.129000            Medio\n",
       "0                   SEXO  0.107133            Medio"
      ]
     },
     "execution_count": 21,
     "metadata": {},
     "output_type": "execute_result"
    }
   ],
   "source": [
    "IV.loc[IV[\"IV\"]<0.02,\"Pronostico\"]=\"No es útil para predecir\"\n",
    "IV.loc[(IV[\"IV\"]>=0.02) & (IV[\"IV\"]<.1),\"Pronostico\"]=\"Débil\"\n",
    "IV.loc[(IV[\"IV\"]>=.1)&(IV[\"IV\"]<.3),\"Pronostico\"]=\"Medio\"\n",
    "IV.loc[(IV[\"IV\"]>=.3)&(IV[\"IV\"]<.5),\"Pronostico\"]=\"Fuerte\"\n",
    "IV.loc[(IV[\"IV\"]>=.5),\"Pronostico\"]=\"Sobrepredictiva\"\n",
    "IV"
   ]
  },
  {
   "cell_type": "markdown",
   "id": "5bb63e0c",
   "metadata": {},
   "source": [
    "Podemos ver que las variables que son sobrepredictivas para pronosticar si una persona vive o muere son:\n",
    "* UCI\n",
    "* Tipo de Paciente\n",
    "* Sector de atención\n",
    "* Diagnostico\n",
    "* Toma de Antigeno\n",
    "* Origen\n",
    "Por lo cual las eliminaremos para evitar sobreajuste.\n",
    "\n",
    "Ademas podemos ver que el municipio de residencia tiene una relacion fuerte como factor predictivo para nuestra variable objetivo."
   ]
  },
  {
   "cell_type": "code",
   "execution_count": 22,
   "id": "80332178",
   "metadata": {},
   "outputs": [
    {
     "data": {
      "text/plain": [
       "['MUNICIPIO_RES', 'EMBARAZO', 'SEXO']"
      ]
     },
     "execution_count": 22,
     "metadata": {},
     "output_type": "execute_result"
    }
   ],
   "source": [
    "no_ajustada=list(IV.loc[IV[\"Pronostico\"]!=\"Sobrepredictiva\",\"Variable\"])\n",
    "no_ajustada"
   ]
  },
  {
   "cell_type": "code",
   "execution_count": 23,
   "id": "3ed4d8ea",
   "metadata": {},
   "outputs": [
    {
     "data": {
      "text/html": [
       "<div>\n",
       "<style scoped>\n",
       "    .dataframe tbody tr th:only-of-type {\n",
       "        vertical-align: middle;\n",
       "    }\n",
       "\n",
       "    .dataframe tbody tr th {\n",
       "        vertical-align: top;\n",
       "    }\n",
       "\n",
       "    .dataframe thead th {\n",
       "        text-align: right;\n",
       "    }\n",
       "</style>\n",
       "<table border=\"1\" class=\"dataframe\">\n",
       "  <thead>\n",
       "    <tr style=\"text-align: right;\">\n",
       "      <th></th>\n",
       "      <th>EDAD</th>\n",
       "      <th>MUNICIPIO_RES</th>\n",
       "      <th>EMBARAZO</th>\n",
       "      <th>SEXO</th>\n",
       "      <th>Estado</th>\n",
       "    </tr>\n",
       "  </thead>\n",
       "  <tbody>\n",
       "    <tr>\n",
       "      <th>0</th>\n",
       "      <td>51</td>\n",
       "      <td>IZTAPALAPA</td>\n",
       "      <td>NO APLICA</td>\n",
       "      <td>HOMBRE</td>\n",
       "      <td>0</td>\n",
       "    </tr>\n",
       "    <tr>\n",
       "      <th>1</th>\n",
       "      <td>47</td>\n",
       "      <td>VENUSTIANO CARRANZA</td>\n",
       "      <td>NO</td>\n",
       "      <td>MUJER</td>\n",
       "      <td>0</td>\n",
       "    </tr>\n",
       "    <tr>\n",
       "      <th>2</th>\n",
       "      <td>62</td>\n",
       "      <td>VENUSTIANO CARRANZA</td>\n",
       "      <td>NO APLICA</td>\n",
       "      <td>HOMBRE</td>\n",
       "      <td>0</td>\n",
       "    </tr>\n",
       "  </tbody>\n",
       "</table>\n",
       "</div>"
      ],
      "text/plain": [
       "   EDAD        MUNICIPIO_RES   EMBARAZO    SEXO  Estado\n",
       "0    51           IZTAPALAPA  NO APLICA  HOMBRE       0\n",
       "1    47  VENUSTIANO CARRANZA        NO    MUJER       0\n",
       "2    62  VENUSTIANO CARRANZA  NO APLICA  HOMBRE       0"
      ]
     },
     "execution_count": 23,
     "metadata": {},
     "output_type": "execute_result"
    }
   ],
   "source": [
    "#Usamos solo las variables\n",
    "df_mexico=df_mexico[[\"EDAD\"]+no_ajustada+[\"Estado\"]]\n",
    "df_mexico.head(3)"
   ]
  },
  {
   "cell_type": "code",
   "execution_count": 24,
   "id": "5dd53161",
   "metadata": {},
   "outputs": [
    {
     "data": {
      "text/plain": [
       "(6458242, 5)"
      ]
     },
     "execution_count": 24,
     "metadata": {},
     "output_type": "execute_result"
    }
   ],
   "source": [
    "df_mexico.shape"
   ]
  },
  {
   "cell_type": "markdown",
   "id": "b95769e0",
   "metadata": {},
   "source": [
    "Para no tener tantas variables dummies, MUNICIPIO_RES y EMBARAZO, le hacemos una estandarizacion de variables"
   ]
  },
  {
   "cell_type": "code",
   "execution_count": 25,
   "id": "0de8d989",
   "metadata": {},
   "outputs": [
    {
     "data": {
      "text/plain": [
       "IZTAPALAPA               0.127140\n",
       "GUSTAVO A. MADERO        0.094671\n",
       "ÁLVARO OBREGÓN           0.073407\n",
       "TLALPAN                  0.056078\n",
       "CUAUHTÉMOC               0.047248\n",
       "                           ...   \n",
       "SAN SIMÓN DE GUERRERO    0.000033\n",
       "POLOTITLÁN               0.000028\n",
       "PAPALOTLA                0.000028\n",
       "ZACAZONAPAN              0.000026\n",
       "IXTAPAN DEL ORO          0.000016\n",
       "Name: MUNICIPIO_RES, Length: 142, dtype: float64"
      ]
     },
     "execution_count": 25,
     "metadata": {},
     "output_type": "execute_result"
    }
   ],
   "source": [
    "df_mexico[\"MUNICIPIO_RES\"].value_counts(1,dropna=False)"
   ]
  },
  {
   "cell_type": "code",
   "execution_count": 26,
   "id": "17f93c53",
   "metadata": {},
   "outputs": [
    {
     "data": {
      "application/vnd.plotly.v1+json": {
       "config": {
        "plotlyServerURL": "https://plot.ly"
       },
       "data": [
        {
         "domain": {
          "x": [
           0,
           1
          ],
          "y": [
           0,
           1
          ]
         },
         "hovertemplate": "MUNICIPIO_RES_new=%{label}<br>MUNICIPIO_RES=%{value}<extra></extra>",
         "labels": [
          "AZCAPOTZALCO",
          "BENITO JUÁREZ",
          "COYOACÁN",
          "CUAUHTÉMOC",
          "ECATEPEC DE MORELOS",
          "GUSTAVO A. MADERO",
          "IZTACALCO",
          "IZTAPALAPA",
          "LA MAGDALENA CONTRERAS",
          "MIGUEL HIDALGO",
          "NEZAHUALCÓYOTL",
          "Otros",
          "TLALPAN",
          "TLÁHUAC",
          "VENUSTIANO CARRANZA",
          "XOCHIMILCO",
          "ÁLVARO OBREGÓN"
         ],
         "legendgroup": "",
         "name": "",
         "showlegend": true,
         "type": "pie",
         "values": [
          0.03398602901532646,
          0.030764564102738794,
          0.04701743911113891,
          0.04724815205128578,
          0.03163693773011293,
          0.09467065495532685,
          0.032550963559433044,
          0.12714017220166107,
          0.025526141634209434,
          0.025934302245100137,
          0.027737269678033125,
          0.22202497212089606,
          0.05607810918203437,
          0.036782920181684116,
          0.04482520165704537,
          0.04266904213251842,
          0.07340712844145512
         ]
        }
       ],
       "layout": {
        "legend": {
         "tracegroupgap": 0
        },
        "template": {
         "data": {
          "bar": [
           {
            "error_x": {
             "color": "#2a3f5f"
            },
            "error_y": {
             "color": "#2a3f5f"
            },
            "marker": {
             "line": {
              "color": "#E5ECF6",
              "width": 0.5
             },
             "pattern": {
              "fillmode": "overlay",
              "size": 10,
              "solidity": 0.2
             }
            },
            "type": "bar"
           }
          ],
          "barpolar": [
           {
            "marker": {
             "line": {
              "color": "#E5ECF6",
              "width": 0.5
             },
             "pattern": {
              "fillmode": "overlay",
              "size": 10,
              "solidity": 0.2
             }
            },
            "type": "barpolar"
           }
          ],
          "carpet": [
           {
            "aaxis": {
             "endlinecolor": "#2a3f5f",
             "gridcolor": "white",
             "linecolor": "white",
             "minorgridcolor": "white",
             "startlinecolor": "#2a3f5f"
            },
            "baxis": {
             "endlinecolor": "#2a3f5f",
             "gridcolor": "white",
             "linecolor": "white",
             "minorgridcolor": "white",
             "startlinecolor": "#2a3f5f"
            },
            "type": "carpet"
           }
          ],
          "choropleth": [
           {
            "colorbar": {
             "outlinewidth": 0,
             "ticks": ""
            },
            "type": "choropleth"
           }
          ],
          "contour": [
           {
            "colorbar": {
             "outlinewidth": 0,
             "ticks": ""
            },
            "colorscale": [
             [
              0,
              "#0d0887"
             ],
             [
              0.1111111111111111,
              "#46039f"
             ],
             [
              0.2222222222222222,
              "#7201a8"
             ],
             [
              0.3333333333333333,
              "#9c179e"
             ],
             [
              0.4444444444444444,
              "#bd3786"
             ],
             [
              0.5555555555555556,
              "#d8576b"
             ],
             [
              0.6666666666666666,
              "#ed7953"
             ],
             [
              0.7777777777777778,
              "#fb9f3a"
             ],
             [
              0.8888888888888888,
              "#fdca26"
             ],
             [
              1,
              "#f0f921"
             ]
            ],
            "type": "contour"
           }
          ],
          "contourcarpet": [
           {
            "colorbar": {
             "outlinewidth": 0,
             "ticks": ""
            },
            "type": "contourcarpet"
           }
          ],
          "heatmap": [
           {
            "colorbar": {
             "outlinewidth": 0,
             "ticks": ""
            },
            "colorscale": [
             [
              0,
              "#0d0887"
             ],
             [
              0.1111111111111111,
              "#46039f"
             ],
             [
              0.2222222222222222,
              "#7201a8"
             ],
             [
              0.3333333333333333,
              "#9c179e"
             ],
             [
              0.4444444444444444,
              "#bd3786"
             ],
             [
              0.5555555555555556,
              "#d8576b"
             ],
             [
              0.6666666666666666,
              "#ed7953"
             ],
             [
              0.7777777777777778,
              "#fb9f3a"
             ],
             [
              0.8888888888888888,
              "#fdca26"
             ],
             [
              1,
              "#f0f921"
             ]
            ],
            "type": "heatmap"
           }
          ],
          "heatmapgl": [
           {
            "colorbar": {
             "outlinewidth": 0,
             "ticks": ""
            },
            "colorscale": [
             [
              0,
              "#0d0887"
             ],
             [
              0.1111111111111111,
              "#46039f"
             ],
             [
              0.2222222222222222,
              "#7201a8"
             ],
             [
              0.3333333333333333,
              "#9c179e"
             ],
             [
              0.4444444444444444,
              "#bd3786"
             ],
             [
              0.5555555555555556,
              "#d8576b"
             ],
             [
              0.6666666666666666,
              "#ed7953"
             ],
             [
              0.7777777777777778,
              "#fb9f3a"
             ],
             [
              0.8888888888888888,
              "#fdca26"
             ],
             [
              1,
              "#f0f921"
             ]
            ],
            "type": "heatmapgl"
           }
          ],
          "histogram": [
           {
            "marker": {
             "pattern": {
              "fillmode": "overlay",
              "size": 10,
              "solidity": 0.2
             }
            },
            "type": "histogram"
           }
          ],
          "histogram2d": [
           {
            "colorbar": {
             "outlinewidth": 0,
             "ticks": ""
            },
            "colorscale": [
             [
              0,
              "#0d0887"
             ],
             [
              0.1111111111111111,
              "#46039f"
             ],
             [
              0.2222222222222222,
              "#7201a8"
             ],
             [
              0.3333333333333333,
              "#9c179e"
             ],
             [
              0.4444444444444444,
              "#bd3786"
             ],
             [
              0.5555555555555556,
              "#d8576b"
             ],
             [
              0.6666666666666666,
              "#ed7953"
             ],
             [
              0.7777777777777778,
              "#fb9f3a"
             ],
             [
              0.8888888888888888,
              "#fdca26"
             ],
             [
              1,
              "#f0f921"
             ]
            ],
            "type": "histogram2d"
           }
          ],
          "histogram2dcontour": [
           {
            "colorbar": {
             "outlinewidth": 0,
             "ticks": ""
            },
            "colorscale": [
             [
              0,
              "#0d0887"
             ],
             [
              0.1111111111111111,
              "#46039f"
             ],
             [
              0.2222222222222222,
              "#7201a8"
             ],
             [
              0.3333333333333333,
              "#9c179e"
             ],
             [
              0.4444444444444444,
              "#bd3786"
             ],
             [
              0.5555555555555556,
              "#d8576b"
             ],
             [
              0.6666666666666666,
              "#ed7953"
             ],
             [
              0.7777777777777778,
              "#fb9f3a"
             ],
             [
              0.8888888888888888,
              "#fdca26"
             ],
             [
              1,
              "#f0f921"
             ]
            ],
            "type": "histogram2dcontour"
           }
          ],
          "mesh3d": [
           {
            "colorbar": {
             "outlinewidth": 0,
             "ticks": ""
            },
            "type": "mesh3d"
           }
          ],
          "parcoords": [
           {
            "line": {
             "colorbar": {
              "outlinewidth": 0,
              "ticks": ""
             }
            },
            "type": "parcoords"
           }
          ],
          "pie": [
           {
            "automargin": true,
            "type": "pie"
           }
          ],
          "scatter": [
           {
            "marker": {
             "colorbar": {
              "outlinewidth": 0,
              "ticks": ""
             }
            },
            "type": "scatter"
           }
          ],
          "scatter3d": [
           {
            "line": {
             "colorbar": {
              "outlinewidth": 0,
              "ticks": ""
             }
            },
            "marker": {
             "colorbar": {
              "outlinewidth": 0,
              "ticks": ""
             }
            },
            "type": "scatter3d"
           }
          ],
          "scattercarpet": [
           {
            "marker": {
             "colorbar": {
              "outlinewidth": 0,
              "ticks": ""
             }
            },
            "type": "scattercarpet"
           }
          ],
          "scattergeo": [
           {
            "marker": {
             "colorbar": {
              "outlinewidth": 0,
              "ticks": ""
             }
            },
            "type": "scattergeo"
           }
          ],
          "scattergl": [
           {
            "marker": {
             "colorbar": {
              "outlinewidth": 0,
              "ticks": ""
             }
            },
            "type": "scattergl"
           }
          ],
          "scattermapbox": [
           {
            "marker": {
             "colorbar": {
              "outlinewidth": 0,
              "ticks": ""
             }
            },
            "type": "scattermapbox"
           }
          ],
          "scatterpolar": [
           {
            "marker": {
             "colorbar": {
              "outlinewidth": 0,
              "ticks": ""
             }
            },
            "type": "scatterpolar"
           }
          ],
          "scatterpolargl": [
           {
            "marker": {
             "colorbar": {
              "outlinewidth": 0,
              "ticks": ""
             }
            },
            "type": "scatterpolargl"
           }
          ],
          "scatterternary": [
           {
            "marker": {
             "colorbar": {
              "outlinewidth": 0,
              "ticks": ""
             }
            },
            "type": "scatterternary"
           }
          ],
          "surface": [
           {
            "colorbar": {
             "outlinewidth": 0,
             "ticks": ""
            },
            "colorscale": [
             [
              0,
              "#0d0887"
             ],
             [
              0.1111111111111111,
              "#46039f"
             ],
             [
              0.2222222222222222,
              "#7201a8"
             ],
             [
              0.3333333333333333,
              "#9c179e"
             ],
             [
              0.4444444444444444,
              "#bd3786"
             ],
             [
              0.5555555555555556,
              "#d8576b"
             ],
             [
              0.6666666666666666,
              "#ed7953"
             ],
             [
              0.7777777777777778,
              "#fb9f3a"
             ],
             [
              0.8888888888888888,
              "#fdca26"
             ],
             [
              1,
              "#f0f921"
             ]
            ],
            "type": "surface"
           }
          ],
          "table": [
           {
            "cells": {
             "fill": {
              "color": "#EBF0F8"
             },
             "line": {
              "color": "white"
             }
            },
            "header": {
             "fill": {
              "color": "#C8D4E3"
             },
             "line": {
              "color": "white"
             }
            },
            "type": "table"
           }
          ]
         },
         "layout": {
          "annotationdefaults": {
           "arrowcolor": "#2a3f5f",
           "arrowhead": 0,
           "arrowwidth": 1
          },
          "autotypenumbers": "strict",
          "coloraxis": {
           "colorbar": {
            "outlinewidth": 0,
            "ticks": ""
           }
          },
          "colorscale": {
           "diverging": [
            [
             0,
             "#8e0152"
            ],
            [
             0.1,
             "#c51b7d"
            ],
            [
             0.2,
             "#de77ae"
            ],
            [
             0.3,
             "#f1b6da"
            ],
            [
             0.4,
             "#fde0ef"
            ],
            [
             0.5,
             "#f7f7f7"
            ],
            [
             0.6,
             "#e6f5d0"
            ],
            [
             0.7,
             "#b8e186"
            ],
            [
             0.8,
             "#7fbc41"
            ],
            [
             0.9,
             "#4d9221"
            ],
            [
             1,
             "#276419"
            ]
           ],
           "sequential": [
            [
             0,
             "#0d0887"
            ],
            [
             0.1111111111111111,
             "#46039f"
            ],
            [
             0.2222222222222222,
             "#7201a8"
            ],
            [
             0.3333333333333333,
             "#9c179e"
            ],
            [
             0.4444444444444444,
             "#bd3786"
            ],
            [
             0.5555555555555556,
             "#d8576b"
            ],
            [
             0.6666666666666666,
             "#ed7953"
            ],
            [
             0.7777777777777778,
             "#fb9f3a"
            ],
            [
             0.8888888888888888,
             "#fdca26"
            ],
            [
             1,
             "#f0f921"
            ]
           ],
           "sequentialminus": [
            [
             0,
             "#0d0887"
            ],
            [
             0.1111111111111111,
             "#46039f"
            ],
            [
             0.2222222222222222,
             "#7201a8"
            ],
            [
             0.3333333333333333,
             "#9c179e"
            ],
            [
             0.4444444444444444,
             "#bd3786"
            ],
            [
             0.5555555555555556,
             "#d8576b"
            ],
            [
             0.6666666666666666,
             "#ed7953"
            ],
            [
             0.7777777777777778,
             "#fb9f3a"
            ],
            [
             0.8888888888888888,
             "#fdca26"
            ],
            [
             1,
             "#f0f921"
            ]
           ]
          },
          "colorway": [
           "#636efa",
           "#EF553B",
           "#00cc96",
           "#ab63fa",
           "#FFA15A",
           "#19d3f3",
           "#FF6692",
           "#B6E880",
           "#FF97FF",
           "#FECB52"
          ],
          "font": {
           "color": "#2a3f5f"
          },
          "geo": {
           "bgcolor": "white",
           "lakecolor": "white",
           "landcolor": "#E5ECF6",
           "showlakes": true,
           "showland": true,
           "subunitcolor": "white"
          },
          "hoverlabel": {
           "align": "left"
          },
          "hovermode": "closest",
          "mapbox": {
           "style": "light"
          },
          "paper_bgcolor": "white",
          "plot_bgcolor": "#E5ECF6",
          "polar": {
           "angularaxis": {
            "gridcolor": "white",
            "linecolor": "white",
            "ticks": ""
           },
           "bgcolor": "#E5ECF6",
           "radialaxis": {
            "gridcolor": "white",
            "linecolor": "white",
            "ticks": ""
           }
          },
          "scene": {
           "xaxis": {
            "backgroundcolor": "#E5ECF6",
            "gridcolor": "white",
            "gridwidth": 2,
            "linecolor": "white",
            "showbackground": true,
            "ticks": "",
            "zerolinecolor": "white"
           },
           "yaxis": {
            "backgroundcolor": "#E5ECF6",
            "gridcolor": "white",
            "gridwidth": 2,
            "linecolor": "white",
            "showbackground": true,
            "ticks": "",
            "zerolinecolor": "white"
           },
           "zaxis": {
            "backgroundcolor": "#E5ECF6",
            "gridcolor": "white",
            "gridwidth": 2,
            "linecolor": "white",
            "showbackground": true,
            "ticks": "",
            "zerolinecolor": "white"
           }
          },
          "shapedefaults": {
           "line": {
            "color": "#2a3f5f"
           }
          },
          "ternary": {
           "aaxis": {
            "gridcolor": "white",
            "linecolor": "white",
            "ticks": ""
           },
           "baxis": {
            "gridcolor": "white",
            "linecolor": "white",
            "ticks": ""
           },
           "bgcolor": "#E5ECF6",
           "caxis": {
            "gridcolor": "white",
            "linecolor": "white",
            "ticks": ""
           }
          },
          "title": {
           "x": 0.05
          },
          "xaxis": {
           "automargin": true,
           "gridcolor": "white",
           "linecolor": "white",
           "ticks": "",
           "title": {
            "standoff": 15
           },
           "zerolinecolor": "white",
           "zerolinewidth": 2
          },
          "yaxis": {
           "automargin": true,
           "gridcolor": "white",
           "linecolor": "white",
           "ticks": "",
           "title": {
            "standoff": 15
           },
           "zerolinecolor": "white",
           "zerolinewidth": 2
          }
         }
        },
        "title": {
         "text": "MUNICIPIO_RES"
        }
       }
      },
      "text/html": [
       "<div>                            <div id=\"09415ad3-6549-4120-ac0c-120c69b9c8c2\" class=\"plotly-graph-div\" style=\"height:525px; width:100%;\"></div>            <script type=\"text/javascript\">                require([\"plotly\"], function(Plotly) {                    window.PLOTLYENV=window.PLOTLYENV || {};                                    if (document.getElementById(\"09415ad3-6549-4120-ac0c-120c69b9c8c2\")) {                    Plotly.newPlot(                        \"09415ad3-6549-4120-ac0c-120c69b9c8c2\",                        [{\"domain\":{\"x\":[0.0,1.0],\"y\":[0.0,1.0]},\"hovertemplate\":\"MUNICIPIO_RES_new=%{label}<br>MUNICIPIO_RES=%{value}<extra></extra>\",\"labels\":[\"AZCAPOTZALCO\",\"BENITO JU\\u00c1REZ\",\"COYOAC\\u00c1N\",\"CUAUHT\\u00c9MOC\",\"ECATEPEC DE MORELOS\",\"GUSTAVO A. MADERO\",\"IZTACALCO\",\"IZTAPALAPA\",\"LA MAGDALENA CONTRERAS\",\"MIGUEL HIDALGO\",\"NEZAHUALC\\u00d3YOTL\",\"Otros\",\"TLALPAN\",\"TL\\u00c1HUAC\",\"VENUSTIANO CARRANZA\",\"XOCHIMILCO\",\"\\u00c1LVARO OBREG\\u00d3N\"],\"legendgroup\":\"\",\"name\":\"\",\"showlegend\":true,\"values\":[0.03398602901532646,0.030764564102738794,0.04701743911113891,0.04724815205128578,0.03163693773011293,0.09467065495532685,0.032550963559433044,0.12714017220166107,0.025526141634209434,0.025934302245100137,0.027737269678033125,0.22202497212089606,0.05607810918203437,0.036782920181684116,0.04482520165704537,0.04266904213251842,0.07340712844145512],\"type\":\"pie\"}],                        {\"template\":{\"data\":{\"bar\":[{\"error_x\":{\"color\":\"#2a3f5f\"},\"error_y\":{\"color\":\"#2a3f5f\"},\"marker\":{\"line\":{\"color\":\"#E5ECF6\",\"width\":0.5},\"pattern\":{\"fillmode\":\"overlay\",\"size\":10,\"solidity\":0.2}},\"type\":\"bar\"}],\"barpolar\":[{\"marker\":{\"line\":{\"color\":\"#E5ECF6\",\"width\":0.5},\"pattern\":{\"fillmode\":\"overlay\",\"size\":10,\"solidity\":0.2}},\"type\":\"barpolar\"}],\"carpet\":[{\"aaxis\":{\"endlinecolor\":\"#2a3f5f\",\"gridcolor\":\"white\",\"linecolor\":\"white\",\"minorgridcolor\":\"white\",\"startlinecolor\":\"#2a3f5f\"},\"baxis\":{\"endlinecolor\":\"#2a3f5f\",\"gridcolor\":\"white\",\"linecolor\":\"white\",\"minorgridcolor\":\"white\",\"startlinecolor\":\"#2a3f5f\"},\"type\":\"carpet\"}],\"choropleth\":[{\"colorbar\":{\"outlinewidth\":0,\"ticks\":\"\"},\"type\":\"choropleth\"}],\"contour\":[{\"colorbar\":{\"outlinewidth\":0,\"ticks\":\"\"},\"colorscale\":[[0.0,\"#0d0887\"],[0.1111111111111111,\"#46039f\"],[0.2222222222222222,\"#7201a8\"],[0.3333333333333333,\"#9c179e\"],[0.4444444444444444,\"#bd3786\"],[0.5555555555555556,\"#d8576b\"],[0.6666666666666666,\"#ed7953\"],[0.7777777777777778,\"#fb9f3a\"],[0.8888888888888888,\"#fdca26\"],[1.0,\"#f0f921\"]],\"type\":\"contour\"}],\"contourcarpet\":[{\"colorbar\":{\"outlinewidth\":0,\"ticks\":\"\"},\"type\":\"contourcarpet\"}],\"heatmap\":[{\"colorbar\":{\"outlinewidth\":0,\"ticks\":\"\"},\"colorscale\":[[0.0,\"#0d0887\"],[0.1111111111111111,\"#46039f\"],[0.2222222222222222,\"#7201a8\"],[0.3333333333333333,\"#9c179e\"],[0.4444444444444444,\"#bd3786\"],[0.5555555555555556,\"#d8576b\"],[0.6666666666666666,\"#ed7953\"],[0.7777777777777778,\"#fb9f3a\"],[0.8888888888888888,\"#fdca26\"],[1.0,\"#f0f921\"]],\"type\":\"heatmap\"}],\"heatmapgl\":[{\"colorbar\":{\"outlinewidth\":0,\"ticks\":\"\"},\"colorscale\":[[0.0,\"#0d0887\"],[0.1111111111111111,\"#46039f\"],[0.2222222222222222,\"#7201a8\"],[0.3333333333333333,\"#9c179e\"],[0.4444444444444444,\"#bd3786\"],[0.5555555555555556,\"#d8576b\"],[0.6666666666666666,\"#ed7953\"],[0.7777777777777778,\"#fb9f3a\"],[0.8888888888888888,\"#fdca26\"],[1.0,\"#f0f921\"]],\"type\":\"heatmapgl\"}],\"histogram\":[{\"marker\":{\"pattern\":{\"fillmode\":\"overlay\",\"size\":10,\"solidity\":0.2}},\"type\":\"histogram\"}],\"histogram2d\":[{\"colorbar\":{\"outlinewidth\":0,\"ticks\":\"\"},\"colorscale\":[[0.0,\"#0d0887\"],[0.1111111111111111,\"#46039f\"],[0.2222222222222222,\"#7201a8\"],[0.3333333333333333,\"#9c179e\"],[0.4444444444444444,\"#bd3786\"],[0.5555555555555556,\"#d8576b\"],[0.6666666666666666,\"#ed7953\"],[0.7777777777777778,\"#fb9f3a\"],[0.8888888888888888,\"#fdca26\"],[1.0,\"#f0f921\"]],\"type\":\"histogram2d\"}],\"histogram2dcontour\":[{\"colorbar\":{\"outlinewidth\":0,\"ticks\":\"\"},\"colorscale\":[[0.0,\"#0d0887\"],[0.1111111111111111,\"#46039f\"],[0.2222222222222222,\"#7201a8\"],[0.3333333333333333,\"#9c179e\"],[0.4444444444444444,\"#bd3786\"],[0.5555555555555556,\"#d8576b\"],[0.6666666666666666,\"#ed7953\"],[0.7777777777777778,\"#fb9f3a\"],[0.8888888888888888,\"#fdca26\"],[1.0,\"#f0f921\"]],\"type\":\"histogram2dcontour\"}],\"mesh3d\":[{\"colorbar\":{\"outlinewidth\":0,\"ticks\":\"\"},\"type\":\"mesh3d\"}],\"parcoords\":[{\"line\":{\"colorbar\":{\"outlinewidth\":0,\"ticks\":\"\"}},\"type\":\"parcoords\"}],\"pie\":[{\"automargin\":true,\"type\":\"pie\"}],\"scatter\":[{\"marker\":{\"colorbar\":{\"outlinewidth\":0,\"ticks\":\"\"}},\"type\":\"scatter\"}],\"scatter3d\":[{\"line\":{\"colorbar\":{\"outlinewidth\":0,\"ticks\":\"\"}},\"marker\":{\"colorbar\":{\"outlinewidth\":0,\"ticks\":\"\"}},\"type\":\"scatter3d\"}],\"scattercarpet\":[{\"marker\":{\"colorbar\":{\"outlinewidth\":0,\"ticks\":\"\"}},\"type\":\"scattercarpet\"}],\"scattergeo\":[{\"marker\":{\"colorbar\":{\"outlinewidth\":0,\"ticks\":\"\"}},\"type\":\"scattergeo\"}],\"scattergl\":[{\"marker\":{\"colorbar\":{\"outlinewidth\":0,\"ticks\":\"\"}},\"type\":\"scattergl\"}],\"scattermapbox\":[{\"marker\":{\"colorbar\":{\"outlinewidth\":0,\"ticks\":\"\"}},\"type\":\"scattermapbox\"}],\"scatterpolar\":[{\"marker\":{\"colorbar\":{\"outlinewidth\":0,\"ticks\":\"\"}},\"type\":\"scatterpolar\"}],\"scatterpolargl\":[{\"marker\":{\"colorbar\":{\"outlinewidth\":0,\"ticks\":\"\"}},\"type\":\"scatterpolargl\"}],\"scatterternary\":[{\"marker\":{\"colorbar\":{\"outlinewidth\":0,\"ticks\":\"\"}},\"type\":\"scatterternary\"}],\"surface\":[{\"colorbar\":{\"outlinewidth\":0,\"ticks\":\"\"},\"colorscale\":[[0.0,\"#0d0887\"],[0.1111111111111111,\"#46039f\"],[0.2222222222222222,\"#7201a8\"],[0.3333333333333333,\"#9c179e\"],[0.4444444444444444,\"#bd3786\"],[0.5555555555555556,\"#d8576b\"],[0.6666666666666666,\"#ed7953\"],[0.7777777777777778,\"#fb9f3a\"],[0.8888888888888888,\"#fdca26\"],[1.0,\"#f0f921\"]],\"type\":\"surface\"}],\"table\":[{\"cells\":{\"fill\":{\"color\":\"#EBF0F8\"},\"line\":{\"color\":\"white\"}},\"header\":{\"fill\":{\"color\":\"#C8D4E3\"},\"line\":{\"color\":\"white\"}},\"type\":\"table\"}]},\"layout\":{\"annotationdefaults\":{\"arrowcolor\":\"#2a3f5f\",\"arrowhead\":0,\"arrowwidth\":1},\"autotypenumbers\":\"strict\",\"coloraxis\":{\"colorbar\":{\"outlinewidth\":0,\"ticks\":\"\"}},\"colorscale\":{\"diverging\":[[0,\"#8e0152\"],[0.1,\"#c51b7d\"],[0.2,\"#de77ae\"],[0.3,\"#f1b6da\"],[0.4,\"#fde0ef\"],[0.5,\"#f7f7f7\"],[0.6,\"#e6f5d0\"],[0.7,\"#b8e186\"],[0.8,\"#7fbc41\"],[0.9,\"#4d9221\"],[1,\"#276419\"]],\"sequential\":[[0.0,\"#0d0887\"],[0.1111111111111111,\"#46039f\"],[0.2222222222222222,\"#7201a8\"],[0.3333333333333333,\"#9c179e\"],[0.4444444444444444,\"#bd3786\"],[0.5555555555555556,\"#d8576b\"],[0.6666666666666666,\"#ed7953\"],[0.7777777777777778,\"#fb9f3a\"],[0.8888888888888888,\"#fdca26\"],[1.0,\"#f0f921\"]],\"sequentialminus\":[[0.0,\"#0d0887\"],[0.1111111111111111,\"#46039f\"],[0.2222222222222222,\"#7201a8\"],[0.3333333333333333,\"#9c179e\"],[0.4444444444444444,\"#bd3786\"],[0.5555555555555556,\"#d8576b\"],[0.6666666666666666,\"#ed7953\"],[0.7777777777777778,\"#fb9f3a\"],[0.8888888888888888,\"#fdca26\"],[1.0,\"#f0f921\"]]},\"colorway\":[\"#636efa\",\"#EF553B\",\"#00cc96\",\"#ab63fa\",\"#FFA15A\",\"#19d3f3\",\"#FF6692\",\"#B6E880\",\"#FF97FF\",\"#FECB52\"],\"font\":{\"color\":\"#2a3f5f\"},\"geo\":{\"bgcolor\":\"white\",\"lakecolor\":\"white\",\"landcolor\":\"#E5ECF6\",\"showlakes\":true,\"showland\":true,\"subunitcolor\":\"white\"},\"hoverlabel\":{\"align\":\"left\"},\"hovermode\":\"closest\",\"mapbox\":{\"style\":\"light\"},\"paper_bgcolor\":\"white\",\"plot_bgcolor\":\"#E5ECF6\",\"polar\":{\"angularaxis\":{\"gridcolor\":\"white\",\"linecolor\":\"white\",\"ticks\":\"\"},\"bgcolor\":\"#E5ECF6\",\"radialaxis\":{\"gridcolor\":\"white\",\"linecolor\":\"white\",\"ticks\":\"\"}},\"scene\":{\"xaxis\":{\"backgroundcolor\":\"#E5ECF6\",\"gridcolor\":\"white\",\"gridwidth\":2,\"linecolor\":\"white\",\"showbackground\":true,\"ticks\":\"\",\"zerolinecolor\":\"white\"},\"yaxis\":{\"backgroundcolor\":\"#E5ECF6\",\"gridcolor\":\"white\",\"gridwidth\":2,\"linecolor\":\"white\",\"showbackground\":true,\"ticks\":\"\",\"zerolinecolor\":\"white\"},\"zaxis\":{\"backgroundcolor\":\"#E5ECF6\",\"gridcolor\":\"white\",\"gridwidth\":2,\"linecolor\":\"white\",\"showbackground\":true,\"ticks\":\"\",\"zerolinecolor\":\"white\"}},\"shapedefaults\":{\"line\":{\"color\":\"#2a3f5f\"}},\"ternary\":{\"aaxis\":{\"gridcolor\":\"white\",\"linecolor\":\"white\",\"ticks\":\"\"},\"baxis\":{\"gridcolor\":\"white\",\"linecolor\":\"white\",\"ticks\":\"\"},\"bgcolor\":\"#E5ECF6\",\"caxis\":{\"gridcolor\":\"white\",\"linecolor\":\"white\",\"ticks\":\"\"}},\"title\":{\"x\":0.05},\"xaxis\":{\"automargin\":true,\"gridcolor\":\"white\",\"linecolor\":\"white\",\"ticks\":\"\",\"title\":{\"standoff\":15},\"zerolinecolor\":\"white\",\"zerolinewidth\":2},\"yaxis\":{\"automargin\":true,\"gridcolor\":\"white\",\"linecolor\":\"white\",\"ticks\":\"\",\"title\":{\"standoff\":15},\"zerolinecolor\":\"white\",\"zerolinewidth\":2}}},\"legend\":{\"tracegroupgap\":0},\"title\":{\"text\":\"MUNICIPIO_RES\"}},                        {\"responsive\": true}                    ).then(function(){\n",
       "                            \n",
       "var gd = document.getElementById('09415ad3-6549-4120-ac0c-120c69b9c8c2');\n",
       "var x = new MutationObserver(function (mutations, observer) {{\n",
       "        var display = window.getComputedStyle(gd).display;\n",
       "        if (!display || display === 'none') {{\n",
       "            console.log([gd, 'removed!']);\n",
       "            Plotly.purge(gd);\n",
       "            observer.disconnect();\n",
       "        }}\n",
       "}});\n",
       "\n",
       "// Listen for the removal of the full notebook cells\n",
       "var notebookContainer = gd.closest('#notebook-container');\n",
       "if (notebookContainer) {{\n",
       "    x.observe(notebookContainer, {childList: true});\n",
       "}}\n",
       "\n",
       "// Listen for the clearing of the current output cell\n",
       "var outputEl = gd.closest('.output');\n",
       "if (outputEl) {{\n",
       "    x.observe(outputEl, {childList: true});\n",
       "}}\n",
       "\n",
       "                        })                };                });            </script>        </div>"
      ]
     },
     "metadata": {},
     "output_type": "display_data"
    }
   ],
   "source": [
    "def pie_chart(data, col, label = 'Otros', alpha = 0.05, pct = True, colname = None):\n",
    "    import plotly.express as px\n",
    "    data = pd.DataFrame(data[col].value_counts(pct))\n",
    "    if colname == None:\n",
    "        colname = col + '_new'\n",
    "    data[colname] = data.index\n",
    "    data.loc[data[col] < alpha, colname] = label\n",
    "    data = data[[col, colname]].groupby(colname).sum()\n",
    "    fig = px.pie(data, values = col, names = data.index, title = col)\n",
    "    fig.show()\n",
    "pie_chart(df_mexico,col=\"MUNICIPIO_RES\",alpha=0.02)"
   ]
  },
  {
   "cell_type": "code",
   "execution_count": 27,
   "id": "82ce1422",
   "metadata": {},
   "outputs": [
    {
     "data": {
      "text/html": [
       "<div>\n",
       "<style scoped>\n",
       "    .dataframe tbody tr th:only-of-type {\n",
       "        vertical-align: middle;\n",
       "    }\n",
       "\n",
       "    .dataframe tbody tr th {\n",
       "        vertical-align: top;\n",
       "    }\n",
       "\n",
       "    .dataframe thead th {\n",
       "        text-align: right;\n",
       "    }\n",
       "</style>\n",
       "<table border=\"1\" class=\"dataframe\">\n",
       "  <thead>\n",
       "    <tr style=\"text-align: right;\">\n",
       "      <th></th>\n",
       "      <th>EDAD</th>\n",
       "      <th>MUNICIPIO_RES</th>\n",
       "      <th>EMBARAZO</th>\n",
       "      <th>SEXO</th>\n",
       "      <th>Estado</th>\n",
       "    </tr>\n",
       "  </thead>\n",
       "  <tbody>\n",
       "    <tr>\n",
       "      <th>0</th>\n",
       "      <td>51</td>\n",
       "      <td>IZTAPALAPA</td>\n",
       "      <td>NO APLICA</td>\n",
       "      <td>HOMBRE</td>\n",
       "      <td>0</td>\n",
       "    </tr>\n",
       "    <tr>\n",
       "      <th>1</th>\n",
       "      <td>47</td>\n",
       "      <td>VENUSTIANO CARRANZA</td>\n",
       "      <td>NO</td>\n",
       "      <td>MUJER</td>\n",
       "      <td>0</td>\n",
       "    </tr>\n",
       "    <tr>\n",
       "      <th>2</th>\n",
       "      <td>62</td>\n",
       "      <td>VENUSTIANO CARRANZA</td>\n",
       "      <td>NO APLICA</td>\n",
       "      <td>HOMBRE</td>\n",
       "      <td>0</td>\n",
       "    </tr>\n",
       "    <tr>\n",
       "      <th>3</th>\n",
       "      <td>67</td>\n",
       "      <td>CUAJIMALPA DE MORELOS</td>\n",
       "      <td>NO</td>\n",
       "      <td>MUJER</td>\n",
       "      <td>0</td>\n",
       "    </tr>\n",
       "    <tr>\n",
       "      <th>4</th>\n",
       "      <td>13</td>\n",
       "      <td>AZCAPOTZALCO</td>\n",
       "      <td>NO</td>\n",
       "      <td>MUJER</td>\n",
       "      <td>0</td>\n",
       "    </tr>\n",
       "    <tr>\n",
       "      <th>...</th>\n",
       "      <td>...</td>\n",
       "      <td>...</td>\n",
       "      <td>...</td>\n",
       "      <td>...</td>\n",
       "      <td>...</td>\n",
       "    </tr>\n",
       "    <tr>\n",
       "      <th>6458237</th>\n",
       "      <td>60</td>\n",
       "      <td>COACALCO DE BERRIOZÁBAL</td>\n",
       "      <td>NO APLICA</td>\n",
       "      <td>HOMBRE</td>\n",
       "      <td>0</td>\n",
       "    </tr>\n",
       "    <tr>\n",
       "      <th>6458238</th>\n",
       "      <td>42</td>\n",
       "      <td>TULTEPEC</td>\n",
       "      <td>NO</td>\n",
       "      <td>MUJER</td>\n",
       "      <td>0</td>\n",
       "    </tr>\n",
       "    <tr>\n",
       "      <th>6458239</th>\n",
       "      <td>51</td>\n",
       "      <td>TLALNEPANTLA DE BAZ</td>\n",
       "      <td>NO APLICA</td>\n",
       "      <td>HOMBRE</td>\n",
       "      <td>0</td>\n",
       "    </tr>\n",
       "    <tr>\n",
       "      <th>6458240</th>\n",
       "      <td>31</td>\n",
       "      <td>NAUCALPAN DE JUÁREZ</td>\n",
       "      <td>NO</td>\n",
       "      <td>MUJER</td>\n",
       "      <td>0</td>\n",
       "    </tr>\n",
       "    <tr>\n",
       "      <th>6458241</th>\n",
       "      <td>43</td>\n",
       "      <td>TLALNEPANTLA DE BAZ</td>\n",
       "      <td>NO</td>\n",
       "      <td>MUJER</td>\n",
       "      <td>0</td>\n",
       "    </tr>\n",
       "  </tbody>\n",
       "</table>\n",
       "<p>6458242 rows × 5 columns</p>\n",
       "</div>"
      ],
      "text/plain": [
       "         EDAD            MUNICIPIO_RES   EMBARAZO    SEXO  Estado\n",
       "0          51               IZTAPALAPA  NO APLICA  HOMBRE       0\n",
       "1          47      VENUSTIANO CARRANZA        NO    MUJER       0\n",
       "2          62      VENUSTIANO CARRANZA  NO APLICA  HOMBRE       0\n",
       "3          67    CUAJIMALPA DE MORELOS        NO    MUJER       0\n",
       "4          13             AZCAPOTZALCO        NO    MUJER       0\n",
       "...       ...                      ...        ...     ...     ...\n",
       "6458237    60  COACALCO DE BERRIOZÁBAL  NO APLICA  HOMBRE       0\n",
       "6458238    42                 TULTEPEC        NO    MUJER       0\n",
       "6458239    51      TLALNEPANTLA DE BAZ  NO APLICA  HOMBRE       0\n",
       "6458240    31      NAUCALPAN DE JUÁREZ        NO    MUJER       0\n",
       "6458241    43      TLALNEPANTLA DE BAZ        NO    MUJER       0\n",
       "\n",
       "[6458242 rows x 5 columns]"
      ]
     },
     "execution_count": 27,
     "metadata": {},
     "output_type": "execute_result"
    }
   ],
   "source": [
    "df_mexico"
   ]
  },
  {
   "cell_type": "code",
   "execution_count": 28,
   "id": "95793260",
   "metadata": {},
   "outputs": [
    {
     "data": {
      "text/html": [
       "<div>\n",
       "<style scoped>\n",
       "    .dataframe tbody tr th:only-of-type {\n",
       "        vertical-align: middle;\n",
       "    }\n",
       "\n",
       "    .dataframe tbody tr th {\n",
       "        vertical-align: top;\n",
       "    }\n",
       "\n",
       "    .dataframe thead th {\n",
       "        text-align: right;\n",
       "    }\n",
       "</style>\n",
       "<table border=\"1\" class=\"dataframe\">\n",
       "  <thead>\n",
       "    <tr style=\"text-align: right;\">\n",
       "      <th></th>\n",
       "      <th>MUNICIPIO_RES</th>\n",
       "      <th>Municipio_res</th>\n",
       "    </tr>\n",
       "  </thead>\n",
       "  <tbody>\n",
       "    <tr>\n",
       "      <th>IZTAPALAPA</th>\n",
       "      <td>0.127140</td>\n",
       "      <td>IZTAPALAPA</td>\n",
       "    </tr>\n",
       "    <tr>\n",
       "      <th>GUSTAVO A. MADERO</th>\n",
       "      <td>0.094671</td>\n",
       "      <td>GUSTAVO A. MADERO</td>\n",
       "    </tr>\n",
       "    <tr>\n",
       "      <th>ÁLVARO OBREGÓN</th>\n",
       "      <td>0.073407</td>\n",
       "      <td>ÁLVARO OBREGÓN</td>\n",
       "    </tr>\n",
       "    <tr>\n",
       "      <th>TLALPAN</th>\n",
       "      <td>0.056078</td>\n",
       "      <td>TLALPAN</td>\n",
       "    </tr>\n",
       "    <tr>\n",
       "      <th>CUAUHTÉMOC</th>\n",
       "      <td>0.047248</td>\n",
       "      <td>CUAUHTÉMOC</td>\n",
       "    </tr>\n",
       "    <tr>\n",
       "      <th>...</th>\n",
       "      <td>...</td>\n",
       "      <td>...</td>\n",
       "    </tr>\n",
       "    <tr>\n",
       "      <th>SAN SIMÓN DE GUERRERO</th>\n",
       "      <td>0.000033</td>\n",
       "      <td>Otros</td>\n",
       "    </tr>\n",
       "    <tr>\n",
       "      <th>POLOTITLÁN</th>\n",
       "      <td>0.000028</td>\n",
       "      <td>Otros</td>\n",
       "    </tr>\n",
       "    <tr>\n",
       "      <th>PAPALOTLA</th>\n",
       "      <td>0.000028</td>\n",
       "      <td>Otros</td>\n",
       "    </tr>\n",
       "    <tr>\n",
       "      <th>ZACAZONAPAN</th>\n",
       "      <td>0.000026</td>\n",
       "      <td>Otros</td>\n",
       "    </tr>\n",
       "    <tr>\n",
       "      <th>IXTAPAN DEL ORO</th>\n",
       "      <td>0.000016</td>\n",
       "      <td>Otros</td>\n",
       "    </tr>\n",
       "  </tbody>\n",
       "</table>\n",
       "<p>142 rows × 2 columns</p>\n",
       "</div>"
      ],
      "text/plain": [
       "                       MUNICIPIO_RES      Municipio_res\n",
       "IZTAPALAPA                  0.127140         IZTAPALAPA\n",
       "GUSTAVO A. MADERO           0.094671  GUSTAVO A. MADERO\n",
       "ÁLVARO OBREGÓN              0.073407     ÁLVARO OBREGÓN\n",
       "TLALPAN                     0.056078            TLALPAN\n",
       "CUAUHTÉMOC                  0.047248         CUAUHTÉMOC\n",
       "...                              ...                ...\n",
       "SAN SIMÓN DE GUERRERO       0.000033              Otros\n",
       "POLOTITLÁN                  0.000028              Otros\n",
       "PAPALOTLA                   0.000028              Otros\n",
       "ZACAZONAPAN                 0.000026              Otros\n",
       "IXTAPAN DEL ORO             0.000016              Otros\n",
       "\n",
       "[142 rows x 2 columns]"
      ]
     },
     "execution_count": 28,
     "metadata": {},
     "output_type": "execute_result"
    }
   ],
   "source": [
    "data=df_mexico.copy()\n",
    "col=\"MUNICIPIO_RES\"\n",
    "data = pd.DataFrame(data[col].value_counts(1,dropna=False))\n",
    "label=\"Otros\"\n",
    "colname=\"Municipio_res\"\n",
    "data[colname] = data.index\n",
    "data.loc[data[col] < 0.02, colname] = label\n",
    "data"
   ]
  },
  {
   "cell_type": "code",
   "execution_count": 29,
   "id": "8875a057",
   "metadata": {},
   "outputs": [
    {
     "data": {
      "text/html": [
       "<div>\n",
       "<style scoped>\n",
       "    .dataframe tbody tr th:only-of-type {\n",
       "        vertical-align: middle;\n",
       "    }\n",
       "\n",
       "    .dataframe tbody tr th {\n",
       "        vertical-align: top;\n",
       "    }\n",
       "\n",
       "    .dataframe thead th {\n",
       "        text-align: right;\n",
       "    }\n",
       "</style>\n",
       "<table border=\"1\" class=\"dataframe\">\n",
       "  <thead>\n",
       "    <tr style=\"text-align: right;\">\n",
       "      <th></th>\n",
       "      <th>EDAD</th>\n",
       "      <th>MUNICIPIO_RES</th>\n",
       "      <th>EMBARAZO</th>\n",
       "      <th>SEXO</th>\n",
       "      <th>Estado</th>\n",
       "      <th>Municipio_res</th>\n",
       "    </tr>\n",
       "  </thead>\n",
       "  <tbody>\n",
       "    <tr>\n",
       "      <th>0</th>\n",
       "      <td>51</td>\n",
       "      <td>IZTAPALAPA</td>\n",
       "      <td>NO APLICA</td>\n",
       "      <td>HOMBRE</td>\n",
       "      <td>0</td>\n",
       "      <td>IZTAPALAPA</td>\n",
       "    </tr>\n",
       "    <tr>\n",
       "      <th>1</th>\n",
       "      <td>47</td>\n",
       "      <td>VENUSTIANO CARRANZA</td>\n",
       "      <td>NO</td>\n",
       "      <td>MUJER</td>\n",
       "      <td>0</td>\n",
       "      <td>VENUSTIANO CARRANZA</td>\n",
       "    </tr>\n",
       "    <tr>\n",
       "      <th>2</th>\n",
       "      <td>62</td>\n",
       "      <td>VENUSTIANO CARRANZA</td>\n",
       "      <td>NO APLICA</td>\n",
       "      <td>HOMBRE</td>\n",
       "      <td>0</td>\n",
       "      <td>VENUSTIANO CARRANZA</td>\n",
       "    </tr>\n",
       "    <tr>\n",
       "      <th>3</th>\n",
       "      <td>67</td>\n",
       "      <td>CUAJIMALPA DE MORELOS</td>\n",
       "      <td>NO</td>\n",
       "      <td>MUJER</td>\n",
       "      <td>0</td>\n",
       "      <td>Otros</td>\n",
       "    </tr>\n",
       "    <tr>\n",
       "      <th>4</th>\n",
       "      <td>13</td>\n",
       "      <td>AZCAPOTZALCO</td>\n",
       "      <td>NO</td>\n",
       "      <td>MUJER</td>\n",
       "      <td>0</td>\n",
       "      <td>AZCAPOTZALCO</td>\n",
       "    </tr>\n",
       "    <tr>\n",
       "      <th>...</th>\n",
       "      <td>...</td>\n",
       "      <td>...</td>\n",
       "      <td>...</td>\n",
       "      <td>...</td>\n",
       "      <td>...</td>\n",
       "      <td>...</td>\n",
       "    </tr>\n",
       "    <tr>\n",
       "      <th>6458237</th>\n",
       "      <td>60</td>\n",
       "      <td>COACALCO DE BERRIOZÁBAL</td>\n",
       "      <td>NO APLICA</td>\n",
       "      <td>HOMBRE</td>\n",
       "      <td>0</td>\n",
       "      <td>Otros</td>\n",
       "    </tr>\n",
       "    <tr>\n",
       "      <th>6458238</th>\n",
       "      <td>42</td>\n",
       "      <td>TULTEPEC</td>\n",
       "      <td>NO</td>\n",
       "      <td>MUJER</td>\n",
       "      <td>0</td>\n",
       "      <td>Otros</td>\n",
       "    </tr>\n",
       "    <tr>\n",
       "      <th>6458239</th>\n",
       "      <td>51</td>\n",
       "      <td>TLALNEPANTLA DE BAZ</td>\n",
       "      <td>NO APLICA</td>\n",
       "      <td>HOMBRE</td>\n",
       "      <td>0</td>\n",
       "      <td>Otros</td>\n",
       "    </tr>\n",
       "    <tr>\n",
       "      <th>6458240</th>\n",
       "      <td>31</td>\n",
       "      <td>NAUCALPAN DE JUÁREZ</td>\n",
       "      <td>NO</td>\n",
       "      <td>MUJER</td>\n",
       "      <td>0</td>\n",
       "      <td>Otros</td>\n",
       "    </tr>\n",
       "    <tr>\n",
       "      <th>6458241</th>\n",
       "      <td>43</td>\n",
       "      <td>TLALNEPANTLA DE BAZ</td>\n",
       "      <td>NO</td>\n",
       "      <td>MUJER</td>\n",
       "      <td>0</td>\n",
       "      <td>Otros</td>\n",
       "    </tr>\n",
       "  </tbody>\n",
       "</table>\n",
       "<p>6458242 rows × 6 columns</p>\n",
       "</div>"
      ],
      "text/plain": [
       "         EDAD            MUNICIPIO_RES   EMBARAZO    SEXO  Estado  \\\n",
       "0          51               IZTAPALAPA  NO APLICA  HOMBRE       0   \n",
       "1          47      VENUSTIANO CARRANZA        NO    MUJER       0   \n",
       "2          62      VENUSTIANO CARRANZA  NO APLICA  HOMBRE       0   \n",
       "3          67    CUAJIMALPA DE MORELOS        NO    MUJER       0   \n",
       "4          13             AZCAPOTZALCO        NO    MUJER       0   \n",
       "...       ...                      ...        ...     ...     ...   \n",
       "6458237    60  COACALCO DE BERRIOZÁBAL  NO APLICA  HOMBRE       0   \n",
       "6458238    42                 TULTEPEC        NO    MUJER       0   \n",
       "6458239    51      TLALNEPANTLA DE BAZ  NO APLICA  HOMBRE       0   \n",
       "6458240    31      NAUCALPAN DE JUÁREZ        NO    MUJER       0   \n",
       "6458241    43      TLALNEPANTLA DE BAZ        NO    MUJER       0   \n",
       "\n",
       "               Municipio_res  \n",
       "0                 IZTAPALAPA  \n",
       "1        VENUSTIANO CARRANZA  \n",
       "2        VENUSTIANO CARRANZA  \n",
       "3                      Otros  \n",
       "4               AZCAPOTZALCO  \n",
       "...                      ...  \n",
       "6458237                Otros  \n",
       "6458238                Otros  \n",
       "6458239                Otros  \n",
       "6458240                Otros  \n",
       "6458241                Otros  \n",
       "\n",
       "[6458242 rows x 6 columns]"
      ]
     },
     "execution_count": 29,
     "metadata": {},
     "output_type": "execute_result"
    }
   ],
   "source": [
    "diccionario_municipio=dict(zip(data.index,data[\"Municipio_res\"]))\n",
    "df_mexico[\"Municipio_res\"]=df_mexico[\"MUNICIPIO_RES\"].map(diccionario_municipio)\n",
    "df_mexico"
   ]
  },
  {
   "cell_type": "code",
   "execution_count": 50,
   "id": "00015a87",
   "metadata": {},
   "outputs": [
    {
     "data": {
      "text/plain": [
       "Otros                     0.222025\n",
       "IZTAPALAPA                0.127140\n",
       "GUSTAVO A. MADERO         0.094671\n",
       "ÁLVARO OBREGÓN            0.073407\n",
       "TLALPAN                   0.056078\n",
       "CUAUHTÉMOC                0.047248\n",
       "COYOACÁN                  0.047017\n",
       "VENUSTIANO CARRANZA       0.044825\n",
       "XOCHIMILCO                0.042669\n",
       "TLÁHUAC                   0.036783\n",
       "AZCAPOTZALCO              0.033986\n",
       "IZTACALCO                 0.032551\n",
       "ECATEPEC DE MORELOS       0.031637\n",
       "BENITO JUÁREZ             0.030765\n",
       "NEZAHUALCÓYOTL            0.027737\n",
       "MIGUEL HIDALGO            0.025934\n",
       "LA MAGDALENA CONTRERAS    0.025526\n",
       "Name: Municipio_res, dtype: float64"
      ]
     },
     "execution_count": 50,
     "metadata": {},
     "output_type": "execute_result"
    }
   ],
   "source": [
    "df_mexico[\"Municipio_res\"].value_counts(1,dropna=False)"
   ]
  },
  {
   "cell_type": "code",
   "execution_count": 31,
   "id": "743d91ca",
   "metadata": {},
   "outputs": [
    {
     "data": {
      "text/html": [
       "<div>\n",
       "<style scoped>\n",
       "    .dataframe tbody tr th:only-of-type {\n",
       "        vertical-align: middle;\n",
       "    }\n",
       "\n",
       "    .dataframe tbody tr th {\n",
       "        vertical-align: top;\n",
       "    }\n",
       "\n",
       "    .dataframe thead th {\n",
       "        text-align: right;\n",
       "    }\n",
       "</style>\n",
       "<table border=\"1\" class=\"dataframe\">\n",
       "  <thead>\n",
       "    <tr style=\"text-align: right;\">\n",
       "      <th></th>\n",
       "      <th>EDAD</th>\n",
       "      <th>EMBARAZO</th>\n",
       "      <th>SEXO</th>\n",
       "      <th>Estado</th>\n",
       "      <th>Municipio_res</th>\n",
       "    </tr>\n",
       "  </thead>\n",
       "  <tbody>\n",
       "    <tr>\n",
       "      <th>0</th>\n",
       "      <td>51</td>\n",
       "      <td>NO APLICA</td>\n",
       "      <td>HOMBRE</td>\n",
       "      <td>0</td>\n",
       "      <td>IZTAPALAPA</td>\n",
       "    </tr>\n",
       "    <tr>\n",
       "      <th>1</th>\n",
       "      <td>47</td>\n",
       "      <td>NO</td>\n",
       "      <td>MUJER</td>\n",
       "      <td>0</td>\n",
       "      <td>VENUSTIANO CARRANZA</td>\n",
       "    </tr>\n",
       "    <tr>\n",
       "      <th>2</th>\n",
       "      <td>62</td>\n",
       "      <td>NO APLICA</td>\n",
       "      <td>HOMBRE</td>\n",
       "      <td>0</td>\n",
       "      <td>VENUSTIANO CARRANZA</td>\n",
       "    </tr>\n",
       "    <tr>\n",
       "      <th>3</th>\n",
       "      <td>67</td>\n",
       "      <td>NO</td>\n",
       "      <td>MUJER</td>\n",
       "      <td>0</td>\n",
       "      <td>Otros</td>\n",
       "    </tr>\n",
       "    <tr>\n",
       "      <th>4</th>\n",
       "      <td>13</td>\n",
       "      <td>NO</td>\n",
       "      <td>MUJER</td>\n",
       "      <td>0</td>\n",
       "      <td>AZCAPOTZALCO</td>\n",
       "    </tr>\n",
       "  </tbody>\n",
       "</table>\n",
       "</div>"
      ],
      "text/plain": [
       "   EDAD   EMBARAZO    SEXO  Estado        Municipio_res\n",
       "0    51  NO APLICA  HOMBRE       0           IZTAPALAPA\n",
       "1    47        NO    MUJER       0  VENUSTIANO CARRANZA\n",
       "2    62  NO APLICA  HOMBRE       0  VENUSTIANO CARRANZA\n",
       "3    67        NO    MUJER       0                Otros\n",
       "4    13        NO    MUJER       0         AZCAPOTZALCO"
      ]
     },
     "execution_count": 31,
     "metadata": {},
     "output_type": "execute_result"
    }
   ],
   "source": [
    "df_mexico.drop([\"MUNICIPIO_RES\"],axis=1,inplace=True)\n",
    "df_mexico.head(5)"
   ]
  },
  {
   "cell_type": "code",
   "execution_count": 32,
   "id": "35702dae",
   "metadata": {},
   "outputs": [
    {
     "data": {
      "text/plain": [
       "array(['NO APLICA', 'NO ', 'SE IGNORA', 'SI ', 'NO ESPECIFICADO'],\n",
       "      dtype=object)"
      ]
     },
     "execution_count": 32,
     "metadata": {},
     "output_type": "execute_result"
    }
   ],
   "source": [
    "#Para embarazo\n",
    "df_mexico[\"EMBARAZO\"].unique()"
   ]
  },
  {
   "cell_type": "code",
   "execution_count": 33,
   "id": "ce92e995",
   "metadata": {},
   "outputs": [
    {
     "data": {
      "text/plain": [
       "NO                 5.155530e-01\n",
       "NO APLICA          4.723567e-01\n",
       "SI                 7.598353e-03\n",
       "SE IGNORA          4.491780e-03\n",
       "NO ESPECIFICADO    1.548409e-07\n",
       "Name: EMBARAZO, dtype: float64"
      ]
     },
     "execution_count": 33,
     "metadata": {},
     "output_type": "execute_result"
    }
   ],
   "source": [
    "#Para embarazo 1:si, 0:no\n",
    "dic_embarazo={'NO APLICA':0,'NO ':0,'SE IGNORA':0,'SI ':1,'NO ESPECIFICADO':0}\n",
    "df_mexico[\"EMBARAZO\"].value_counts(1,dropna=False)"
   ]
  },
  {
   "cell_type": "code",
   "execution_count": 34,
   "id": "b2f09231",
   "metadata": {},
   "outputs": [
    {
     "data": {
      "text/plain": [
       "0    0.992402\n",
       "1    0.007598\n",
       "Name: Embarazo, dtype: float64"
      ]
     },
     "execution_count": 34,
     "metadata": {},
     "output_type": "execute_result"
    }
   ],
   "source": [
    "df_mexico[\"Embarazo\"]=df_mexico[\"EMBARAZO\"].map(dic_embarazo)\n",
    "df_mexico[\"Embarazo\"].value_counts(1,dropna=False)"
   ]
  },
  {
   "cell_type": "code",
   "execution_count": 35,
   "id": "ffb49edb",
   "metadata": {},
   "outputs": [],
   "source": [
    "#Eliminamos embarazo\n",
    "df_mexico.drop([\"EMBARAZO\"],axis=1,inplace=True)"
   ]
  },
  {
   "cell_type": "code",
   "execution_count": 36,
   "id": "0a7b90a3",
   "metadata": {},
   "outputs": [
    {
     "data": {
      "text/plain": [
       "Index(['EDAD', 'SEXO', 'Estado', 'Municipio_res', 'Embarazo'], dtype='object')"
      ]
     },
     "execution_count": 36,
     "metadata": {},
     "output_type": "execute_result"
    }
   ],
   "source": [
    "df_mexico.columns"
   ]
  },
  {
   "cell_type": "code",
   "execution_count": 37,
   "id": "22e2619d",
   "metadata": {},
   "outputs": [
    {
     "data": {
      "text/plain": [
       "array(['HOMBRE', 'MUJER'], dtype=object)"
      ]
     },
     "execution_count": 37,
     "metadata": {},
     "output_type": "execute_result"
    }
   ],
   "source": [
    "#Checamos sexo\n",
    "df_mexico[\"SEXO\"].unique()"
   ]
  },
  {
   "cell_type": "code",
   "execution_count": 38,
   "id": "12de1c8c",
   "metadata": {},
   "outputs": [
    {
     "data": {
      "text/plain": [
       "MUJER     0.527643\n",
       "HOMBRE    0.472357\n",
       "Name: SEXO, dtype: float64"
      ]
     },
     "execution_count": 38,
     "metadata": {},
     "output_type": "execute_result"
    }
   ],
   "source": [
    "df_mexico[\"SEXO\"].value_counts(1,dropna=False)"
   ]
  },
  {
   "cell_type": "code",
   "execution_count": 39,
   "id": "a136eb4c",
   "metadata": {},
   "outputs": [
    {
     "data": {
      "text/plain": [
       "0    0.527643\n",
       "1    0.472357\n",
       "Name: Sexo, dtype: float64"
      ]
     },
     "execution_count": 39,
     "metadata": {},
     "output_type": "execute_result"
    }
   ],
   "source": [
    "#Sexo mujero:0 , hombre:1\n",
    "dic_sexo={\"MUJER\":0,\"HOMBRE\":1}\n",
    "df_mexico[\"Sexo\"]=df_mexico[\"SEXO\"].map(dic_sexo)\n",
    "df_mexico[\"Sexo\"].value_counts(1,dropna=False)"
   ]
  },
  {
   "cell_type": "code",
   "execution_count": 40,
   "id": "ded5800a",
   "metadata": {},
   "outputs": [
    {
     "data": {
      "text/plain": [
       "Index(['EDAD', 'Estado', 'Municipio_res', 'Embarazo', 'Sexo'], dtype='object')"
      ]
     },
     "execution_count": 40,
     "metadata": {},
     "output_type": "execute_result"
    }
   ],
   "source": [
    "df_mexico.drop([\"SEXO\"],axis=1,inplace=True)\n",
    "df_mexico.columns"
   ]
  },
  {
   "cell_type": "code",
   "execution_count": 41,
   "id": "71550bad",
   "metadata": {},
   "outputs": [
    {
     "data": {
      "text/html": [
       "<div>\n",
       "<style scoped>\n",
       "    .dataframe tbody tr th:only-of-type {\n",
       "        vertical-align: middle;\n",
       "    }\n",
       "\n",
       "    .dataframe tbody tr th {\n",
       "        vertical-align: top;\n",
       "    }\n",
       "\n",
       "    .dataframe thead th {\n",
       "        text-align: right;\n",
       "    }\n",
       "</style>\n",
       "<table border=\"1\" class=\"dataframe\">\n",
       "  <thead>\n",
       "    <tr style=\"text-align: right;\">\n",
       "      <th></th>\n",
       "      <th>EDAD</th>\n",
       "      <th>Estado</th>\n",
       "      <th>Municipio_res</th>\n",
       "      <th>Embarazo</th>\n",
       "      <th>Sexo</th>\n",
       "    </tr>\n",
       "  </thead>\n",
       "  <tbody>\n",
       "    <tr>\n",
       "      <th>0</th>\n",
       "      <td>51</td>\n",
       "      <td>0</td>\n",
       "      <td>IZTAPALAPA</td>\n",
       "      <td>0</td>\n",
       "      <td>1</td>\n",
       "    </tr>\n",
       "    <tr>\n",
       "      <th>1</th>\n",
       "      <td>47</td>\n",
       "      <td>0</td>\n",
       "      <td>VENUSTIANO CARRANZA</td>\n",
       "      <td>0</td>\n",
       "      <td>0</td>\n",
       "    </tr>\n",
       "    <tr>\n",
       "      <th>2</th>\n",
       "      <td>62</td>\n",
       "      <td>0</td>\n",
       "      <td>VENUSTIANO CARRANZA</td>\n",
       "      <td>0</td>\n",
       "      <td>1</td>\n",
       "    </tr>\n",
       "    <tr>\n",
       "      <th>3</th>\n",
       "      <td>67</td>\n",
       "      <td>0</td>\n",
       "      <td>Otros</td>\n",
       "      <td>0</td>\n",
       "      <td>0</td>\n",
       "    </tr>\n",
       "    <tr>\n",
       "      <th>4</th>\n",
       "      <td>13</td>\n",
       "      <td>0</td>\n",
       "      <td>AZCAPOTZALCO</td>\n",
       "      <td>0</td>\n",
       "      <td>0</td>\n",
       "    </tr>\n",
       "    <tr>\n",
       "      <th>...</th>\n",
       "      <td>...</td>\n",
       "      <td>...</td>\n",
       "      <td>...</td>\n",
       "      <td>...</td>\n",
       "      <td>...</td>\n",
       "    </tr>\n",
       "    <tr>\n",
       "      <th>6458237</th>\n",
       "      <td>60</td>\n",
       "      <td>0</td>\n",
       "      <td>Otros</td>\n",
       "      <td>0</td>\n",
       "      <td>1</td>\n",
       "    </tr>\n",
       "    <tr>\n",
       "      <th>6458238</th>\n",
       "      <td>42</td>\n",
       "      <td>0</td>\n",
       "      <td>Otros</td>\n",
       "      <td>0</td>\n",
       "      <td>0</td>\n",
       "    </tr>\n",
       "    <tr>\n",
       "      <th>6458239</th>\n",
       "      <td>51</td>\n",
       "      <td>0</td>\n",
       "      <td>Otros</td>\n",
       "      <td>0</td>\n",
       "      <td>1</td>\n",
       "    </tr>\n",
       "    <tr>\n",
       "      <th>6458240</th>\n",
       "      <td>31</td>\n",
       "      <td>0</td>\n",
       "      <td>Otros</td>\n",
       "      <td>0</td>\n",
       "      <td>0</td>\n",
       "    </tr>\n",
       "    <tr>\n",
       "      <th>6458241</th>\n",
       "      <td>43</td>\n",
       "      <td>0</td>\n",
       "      <td>Otros</td>\n",
       "      <td>0</td>\n",
       "      <td>0</td>\n",
       "    </tr>\n",
       "  </tbody>\n",
       "</table>\n",
       "<p>6458242 rows × 5 columns</p>\n",
       "</div>"
      ],
      "text/plain": [
       "         EDAD  Estado        Municipio_res  Embarazo  Sexo\n",
       "0          51       0           IZTAPALAPA         0     1\n",
       "1          47       0  VENUSTIANO CARRANZA         0     0\n",
       "2          62       0  VENUSTIANO CARRANZA         0     1\n",
       "3          67       0                Otros         0     0\n",
       "4          13       0         AZCAPOTZALCO         0     0\n",
       "...       ...     ...                  ...       ...   ...\n",
       "6458237    60       0                Otros         0     1\n",
       "6458238    42       0                Otros         0     0\n",
       "6458239    51       0                Otros         0     1\n",
       "6458240    31       0                Otros         0     0\n",
       "6458241    43       0                Otros         0     0\n",
       "\n",
       "[6458242 rows x 5 columns]"
      ]
     },
     "execution_count": 41,
     "metadata": {},
     "output_type": "execute_result"
    }
   ],
   "source": [
    "df_mexico"
   ]
  },
  {
   "cell_type": "markdown",
   "id": "070123bf",
   "metadata": {},
   "source": [
    "### Creación de variables dummies"
   ]
  },
  {
   "cell_type": "code",
   "execution_count": 42,
   "id": "c93e093a",
   "metadata": {},
   "outputs": [
    {
     "data": {
      "text/html": [
       "<div>\n",
       "<style scoped>\n",
       "    .dataframe tbody tr th:only-of-type {\n",
       "        vertical-align: middle;\n",
       "    }\n",
       "\n",
       "    .dataframe tbody tr th {\n",
       "        vertical-align: top;\n",
       "    }\n",
       "\n",
       "    .dataframe thead th {\n",
       "        text-align: right;\n",
       "    }\n",
       "</style>\n",
       "<table border=\"1\" class=\"dataframe\">\n",
       "  <thead>\n",
       "    <tr style=\"text-align: right;\">\n",
       "      <th></th>\n",
       "      <th>EDAD</th>\n",
       "      <th>Estado</th>\n",
       "      <th>Embarazo</th>\n",
       "      <th>Sexo</th>\n",
       "      <th>Municipio_res_BENITO JUÁREZ</th>\n",
       "      <th>Municipio_res_COYOACÁN</th>\n",
       "      <th>Municipio_res_CUAUHTÉMOC</th>\n",
       "      <th>Municipio_res_ECATEPEC DE MORELOS</th>\n",
       "      <th>Municipio_res_GUSTAVO A. MADERO</th>\n",
       "      <th>Municipio_res_IZTACALCO</th>\n",
       "      <th>Municipio_res_IZTAPALAPA</th>\n",
       "      <th>Municipio_res_LA MAGDALENA CONTRERAS</th>\n",
       "      <th>Municipio_res_MIGUEL HIDALGO</th>\n",
       "      <th>Municipio_res_NEZAHUALCÓYOTL</th>\n",
       "      <th>Municipio_res_Otros</th>\n",
       "      <th>Municipio_res_TLALPAN</th>\n",
       "      <th>Municipio_res_TLÁHUAC</th>\n",
       "      <th>Municipio_res_VENUSTIANO CARRANZA</th>\n",
       "      <th>Municipio_res_XOCHIMILCO</th>\n",
       "      <th>Municipio_res_ÁLVARO OBREGÓN</th>\n",
       "    </tr>\n",
       "  </thead>\n",
       "  <tbody>\n",
       "    <tr>\n",
       "      <th>0</th>\n",
       "      <td>51</td>\n",
       "      <td>0</td>\n",
       "      <td>0</td>\n",
       "      <td>1</td>\n",
       "      <td>0</td>\n",
       "      <td>0</td>\n",
       "      <td>0</td>\n",
       "      <td>0</td>\n",
       "      <td>0</td>\n",
       "      <td>0</td>\n",
       "      <td>1</td>\n",
       "      <td>0</td>\n",
       "      <td>0</td>\n",
       "      <td>0</td>\n",
       "      <td>0</td>\n",
       "      <td>0</td>\n",
       "      <td>0</td>\n",
       "      <td>0</td>\n",
       "      <td>0</td>\n",
       "      <td>0</td>\n",
       "    </tr>\n",
       "    <tr>\n",
       "      <th>1</th>\n",
       "      <td>47</td>\n",
       "      <td>0</td>\n",
       "      <td>0</td>\n",
       "      <td>0</td>\n",
       "      <td>0</td>\n",
       "      <td>0</td>\n",
       "      <td>0</td>\n",
       "      <td>0</td>\n",
       "      <td>0</td>\n",
       "      <td>0</td>\n",
       "      <td>0</td>\n",
       "      <td>0</td>\n",
       "      <td>0</td>\n",
       "      <td>0</td>\n",
       "      <td>0</td>\n",
       "      <td>0</td>\n",
       "      <td>0</td>\n",
       "      <td>1</td>\n",
       "      <td>0</td>\n",
       "      <td>0</td>\n",
       "    </tr>\n",
       "    <tr>\n",
       "      <th>2</th>\n",
       "      <td>62</td>\n",
       "      <td>0</td>\n",
       "      <td>0</td>\n",
       "      <td>1</td>\n",
       "      <td>0</td>\n",
       "      <td>0</td>\n",
       "      <td>0</td>\n",
       "      <td>0</td>\n",
       "      <td>0</td>\n",
       "      <td>0</td>\n",
       "      <td>0</td>\n",
       "      <td>0</td>\n",
       "      <td>0</td>\n",
       "      <td>0</td>\n",
       "      <td>0</td>\n",
       "      <td>0</td>\n",
       "      <td>0</td>\n",
       "      <td>1</td>\n",
       "      <td>0</td>\n",
       "      <td>0</td>\n",
       "    </tr>\n",
       "    <tr>\n",
       "      <th>3</th>\n",
       "      <td>67</td>\n",
       "      <td>0</td>\n",
       "      <td>0</td>\n",
       "      <td>0</td>\n",
       "      <td>0</td>\n",
       "      <td>0</td>\n",
       "      <td>0</td>\n",
       "      <td>0</td>\n",
       "      <td>0</td>\n",
       "      <td>0</td>\n",
       "      <td>0</td>\n",
       "      <td>0</td>\n",
       "      <td>0</td>\n",
       "      <td>0</td>\n",
       "      <td>1</td>\n",
       "      <td>0</td>\n",
       "      <td>0</td>\n",
       "      <td>0</td>\n",
       "      <td>0</td>\n",
       "      <td>0</td>\n",
       "    </tr>\n",
       "    <tr>\n",
       "      <th>4</th>\n",
       "      <td>13</td>\n",
       "      <td>0</td>\n",
       "      <td>0</td>\n",
       "      <td>0</td>\n",
       "      <td>0</td>\n",
       "      <td>0</td>\n",
       "      <td>0</td>\n",
       "      <td>0</td>\n",
       "      <td>0</td>\n",
       "      <td>0</td>\n",
       "      <td>0</td>\n",
       "      <td>0</td>\n",
       "      <td>0</td>\n",
       "      <td>0</td>\n",
       "      <td>0</td>\n",
       "      <td>0</td>\n",
       "      <td>0</td>\n",
       "      <td>0</td>\n",
       "      <td>0</td>\n",
       "      <td>0</td>\n",
       "    </tr>\n",
       "    <tr>\n",
       "      <th>...</th>\n",
       "      <td>...</td>\n",
       "      <td>...</td>\n",
       "      <td>...</td>\n",
       "      <td>...</td>\n",
       "      <td>...</td>\n",
       "      <td>...</td>\n",
       "      <td>...</td>\n",
       "      <td>...</td>\n",
       "      <td>...</td>\n",
       "      <td>...</td>\n",
       "      <td>...</td>\n",
       "      <td>...</td>\n",
       "      <td>...</td>\n",
       "      <td>...</td>\n",
       "      <td>...</td>\n",
       "      <td>...</td>\n",
       "      <td>...</td>\n",
       "      <td>...</td>\n",
       "      <td>...</td>\n",
       "      <td>...</td>\n",
       "    </tr>\n",
       "    <tr>\n",
       "      <th>6458237</th>\n",
       "      <td>60</td>\n",
       "      <td>0</td>\n",
       "      <td>0</td>\n",
       "      <td>1</td>\n",
       "      <td>0</td>\n",
       "      <td>0</td>\n",
       "      <td>0</td>\n",
       "      <td>0</td>\n",
       "      <td>0</td>\n",
       "      <td>0</td>\n",
       "      <td>0</td>\n",
       "      <td>0</td>\n",
       "      <td>0</td>\n",
       "      <td>0</td>\n",
       "      <td>1</td>\n",
       "      <td>0</td>\n",
       "      <td>0</td>\n",
       "      <td>0</td>\n",
       "      <td>0</td>\n",
       "      <td>0</td>\n",
       "    </tr>\n",
       "    <tr>\n",
       "      <th>6458238</th>\n",
       "      <td>42</td>\n",
       "      <td>0</td>\n",
       "      <td>0</td>\n",
       "      <td>0</td>\n",
       "      <td>0</td>\n",
       "      <td>0</td>\n",
       "      <td>0</td>\n",
       "      <td>0</td>\n",
       "      <td>0</td>\n",
       "      <td>0</td>\n",
       "      <td>0</td>\n",
       "      <td>0</td>\n",
       "      <td>0</td>\n",
       "      <td>0</td>\n",
       "      <td>1</td>\n",
       "      <td>0</td>\n",
       "      <td>0</td>\n",
       "      <td>0</td>\n",
       "      <td>0</td>\n",
       "      <td>0</td>\n",
       "    </tr>\n",
       "    <tr>\n",
       "      <th>6458239</th>\n",
       "      <td>51</td>\n",
       "      <td>0</td>\n",
       "      <td>0</td>\n",
       "      <td>1</td>\n",
       "      <td>0</td>\n",
       "      <td>0</td>\n",
       "      <td>0</td>\n",
       "      <td>0</td>\n",
       "      <td>0</td>\n",
       "      <td>0</td>\n",
       "      <td>0</td>\n",
       "      <td>0</td>\n",
       "      <td>0</td>\n",
       "      <td>0</td>\n",
       "      <td>1</td>\n",
       "      <td>0</td>\n",
       "      <td>0</td>\n",
       "      <td>0</td>\n",
       "      <td>0</td>\n",
       "      <td>0</td>\n",
       "    </tr>\n",
       "    <tr>\n",
       "      <th>6458240</th>\n",
       "      <td>31</td>\n",
       "      <td>0</td>\n",
       "      <td>0</td>\n",
       "      <td>0</td>\n",
       "      <td>0</td>\n",
       "      <td>0</td>\n",
       "      <td>0</td>\n",
       "      <td>0</td>\n",
       "      <td>0</td>\n",
       "      <td>0</td>\n",
       "      <td>0</td>\n",
       "      <td>0</td>\n",
       "      <td>0</td>\n",
       "      <td>0</td>\n",
       "      <td>1</td>\n",
       "      <td>0</td>\n",
       "      <td>0</td>\n",
       "      <td>0</td>\n",
       "      <td>0</td>\n",
       "      <td>0</td>\n",
       "    </tr>\n",
       "    <tr>\n",
       "      <th>6458241</th>\n",
       "      <td>43</td>\n",
       "      <td>0</td>\n",
       "      <td>0</td>\n",
       "      <td>0</td>\n",
       "      <td>0</td>\n",
       "      <td>0</td>\n",
       "      <td>0</td>\n",
       "      <td>0</td>\n",
       "      <td>0</td>\n",
       "      <td>0</td>\n",
       "      <td>0</td>\n",
       "      <td>0</td>\n",
       "      <td>0</td>\n",
       "      <td>0</td>\n",
       "      <td>1</td>\n",
       "      <td>0</td>\n",
       "      <td>0</td>\n",
       "      <td>0</td>\n",
       "      <td>0</td>\n",
       "      <td>0</td>\n",
       "    </tr>\n",
       "  </tbody>\n",
       "</table>\n",
       "<p>6458242 rows × 20 columns</p>\n",
       "</div>"
      ],
      "text/plain": [
       "         EDAD  Estado  Embarazo  Sexo  Municipio_res_BENITO JUÁREZ  \\\n",
       "0          51       0         0     1                            0   \n",
       "1          47       0         0     0                            0   \n",
       "2          62       0         0     1                            0   \n",
       "3          67       0         0     0                            0   \n",
       "4          13       0         0     0                            0   \n",
       "...       ...     ...       ...   ...                          ...   \n",
       "6458237    60       0         0     1                            0   \n",
       "6458238    42       0         0     0                            0   \n",
       "6458239    51       0         0     1                            0   \n",
       "6458240    31       0         0     0                            0   \n",
       "6458241    43       0         0     0                            0   \n",
       "\n",
       "         Municipio_res_COYOACÁN  Municipio_res_CUAUHTÉMOC  \\\n",
       "0                             0                         0   \n",
       "1                             0                         0   \n",
       "2                             0                         0   \n",
       "3                             0                         0   \n",
       "4                             0                         0   \n",
       "...                         ...                       ...   \n",
       "6458237                       0                         0   \n",
       "6458238                       0                         0   \n",
       "6458239                       0                         0   \n",
       "6458240                       0                         0   \n",
       "6458241                       0                         0   \n",
       "\n",
       "         Municipio_res_ECATEPEC DE MORELOS  Municipio_res_GUSTAVO A. MADERO  \\\n",
       "0                                        0                                0   \n",
       "1                                        0                                0   \n",
       "2                                        0                                0   \n",
       "3                                        0                                0   \n",
       "4                                        0                                0   \n",
       "...                                    ...                              ...   \n",
       "6458237                                  0                                0   \n",
       "6458238                                  0                                0   \n",
       "6458239                                  0                                0   \n",
       "6458240                                  0                                0   \n",
       "6458241                                  0                                0   \n",
       "\n",
       "         Municipio_res_IZTACALCO  Municipio_res_IZTAPALAPA  \\\n",
       "0                              0                         1   \n",
       "1                              0                         0   \n",
       "2                              0                         0   \n",
       "3                              0                         0   \n",
       "4                              0                         0   \n",
       "...                          ...                       ...   \n",
       "6458237                        0                         0   \n",
       "6458238                        0                         0   \n",
       "6458239                        0                         0   \n",
       "6458240                        0                         0   \n",
       "6458241                        0                         0   \n",
       "\n",
       "         Municipio_res_LA MAGDALENA CONTRERAS  Municipio_res_MIGUEL HIDALGO  \\\n",
       "0                                           0                             0   \n",
       "1                                           0                             0   \n",
       "2                                           0                             0   \n",
       "3                                           0                             0   \n",
       "4                                           0                             0   \n",
       "...                                       ...                           ...   \n",
       "6458237                                     0                             0   \n",
       "6458238                                     0                             0   \n",
       "6458239                                     0                             0   \n",
       "6458240                                     0                             0   \n",
       "6458241                                     0                             0   \n",
       "\n",
       "         Municipio_res_NEZAHUALCÓYOTL  Municipio_res_Otros  \\\n",
       "0                                   0                    0   \n",
       "1                                   0                    0   \n",
       "2                                   0                    0   \n",
       "3                                   0                    1   \n",
       "4                                   0                    0   \n",
       "...                               ...                  ...   \n",
       "6458237                             0                    1   \n",
       "6458238                             0                    1   \n",
       "6458239                             0                    1   \n",
       "6458240                             0                    1   \n",
       "6458241                             0                    1   \n",
       "\n",
       "         Municipio_res_TLALPAN  Municipio_res_TLÁHUAC  \\\n",
       "0                            0                      0   \n",
       "1                            0                      0   \n",
       "2                            0                      0   \n",
       "3                            0                      0   \n",
       "4                            0                      0   \n",
       "...                        ...                    ...   \n",
       "6458237                      0                      0   \n",
       "6458238                      0                      0   \n",
       "6458239                      0                      0   \n",
       "6458240                      0                      0   \n",
       "6458241                      0                      0   \n",
       "\n",
       "         Municipio_res_VENUSTIANO CARRANZA  Municipio_res_XOCHIMILCO  \\\n",
       "0                                        0                         0   \n",
       "1                                        1                         0   \n",
       "2                                        1                         0   \n",
       "3                                        0                         0   \n",
       "4                                        0                         0   \n",
       "...                                    ...                       ...   \n",
       "6458237                                  0                         0   \n",
       "6458238                                  0                         0   \n",
       "6458239                                  0                         0   \n",
       "6458240                                  0                         0   \n",
       "6458241                                  0                         0   \n",
       "\n",
       "         Municipio_res_ÁLVARO OBREGÓN  \n",
       "0                                   0  \n",
       "1                                   0  \n",
       "2                                   0  \n",
       "3                                   0  \n",
       "4                                   0  \n",
       "...                               ...  \n",
       "6458237                             0  \n",
       "6458238                             0  \n",
       "6458239                             0  \n",
       "6458240                             0  \n",
       "6458241                             0  \n",
       "\n",
       "[6458242 rows x 20 columns]"
      ]
     },
     "execution_count": 42,
     "metadata": {},
     "output_type": "execute_result"
    }
   ],
   "source": [
    "columnas_modelo=[c for c in df_mexico.columns if c!=\"Municipio_res\"]\n",
    "df_mexico_modelo=df_mexico.drop(columns=[\"Municipio_res\"])[columnas_modelo].join(pd.get_dummies(df_mexico[[\"Municipio_res\"]], drop_first=True))\n",
    "df_mexico_modelo"
   ]
  },
  {
   "cell_type": "code",
   "execution_count": 43,
   "id": "f90c916f",
   "metadata": {},
   "outputs": [
    {
     "data": {
      "text/plain": [
       "array(['IZTAPALAPA', 'VENUSTIANO CARRANZA', 'Otros', 'AZCAPOTZALCO',\n",
       "       'TLALPAN', 'GUSTAVO A. MADERO', 'ÁLVARO OBREGÓN', 'COYOACÁN',\n",
       "       'TLÁHUAC', 'CUAUHTÉMOC', 'IZTACALCO', 'XOCHIMILCO',\n",
       "       'BENITO JUÁREZ', 'LA MAGDALENA CONTRERAS', 'MIGUEL HIDALGO',\n",
       "       'ECATEPEC DE MORELOS', 'NEZAHUALCÓYOTL'], dtype=object)"
      ]
     },
     "execution_count": 43,
     "metadata": {},
     "output_type": "execute_result"
    }
   ],
   "source": [
    "df_mexico[\"Municipio_res\"].unique()"
   ]
  },
  {
   "cell_type": "code",
   "execution_count": 44,
   "id": "c527bf58",
   "metadata": {},
   "outputs": [
    {
     "data": {
      "text/plain": [
       "Index(['EDAD', 'Estado', 'Embarazo', 'Sexo', 'Municipio_res_BENITO JUÁREZ',\n",
       "       'Municipio_res_COYOACÁN', 'Municipio_res_CUAUHTÉMOC',\n",
       "       'Municipio_res_ECATEPEC DE MORELOS', 'Municipio_res_GUSTAVO A. MADERO',\n",
       "       'Municipio_res_IZTACALCO', 'Municipio_res_IZTAPALAPA',\n",
       "       'Municipio_res_LA MAGDALENA CONTRERAS', 'Municipio_res_MIGUEL HIDALGO',\n",
       "       'Municipio_res_NEZAHUALCÓYOTL', 'Municipio_res_Otros',\n",
       "       'Municipio_res_TLALPAN', 'Municipio_res_TLÁHUAC',\n",
       "       'Municipio_res_VENUSTIANO CARRANZA', 'Municipio_res_XOCHIMILCO',\n",
       "       'Municipio_res_ÁLVARO OBREGÓN'],\n",
       "      dtype='object')"
      ]
     },
     "execution_count": 44,
     "metadata": {},
     "output_type": "execute_result"
    }
   ],
   "source": [
    "df_mexico_modelo.columns #La columna eliminada fue azcapotzalco"
   ]
  },
  {
   "cell_type": "markdown",
   "id": "cb099af0",
   "metadata": {},
   "source": [
    "# Separacion de datos y eliminacion de outliers"
   ]
  },
  {
   "cell_type": "code",
   "execution_count": 45,
   "id": "4cd61bc8",
   "metadata": {},
   "outputs": [],
   "source": [
    "predictoras=[c for c in df_mexico_modelo if c!=\"Estado\"]\n",
    "objetivo=[\"Estado\"]"
   ]
  },
  {
   "cell_type": "code",
   "execution_count": 46,
   "id": "09607be1",
   "metadata": {},
   "outputs": [
    {
     "data": {
      "text/plain": [
       "['EDAD',\n",
       " 'Embarazo',\n",
       " 'Sexo',\n",
       " 'Municipio_res_BENITO JUÁREZ',\n",
       " 'Municipio_res_COYOACÁN',\n",
       " 'Municipio_res_CUAUHTÉMOC',\n",
       " 'Municipio_res_ECATEPEC DE MORELOS',\n",
       " 'Municipio_res_GUSTAVO A. MADERO',\n",
       " 'Municipio_res_IZTACALCO',\n",
       " 'Municipio_res_IZTAPALAPA',\n",
       " 'Municipio_res_LA MAGDALENA CONTRERAS',\n",
       " 'Municipio_res_MIGUEL HIDALGO',\n",
       " 'Municipio_res_NEZAHUALCÓYOTL',\n",
       " 'Municipio_res_Otros',\n",
       " 'Municipio_res_TLALPAN',\n",
       " 'Municipio_res_TLÁHUAC',\n",
       " 'Municipio_res_VENUSTIANO CARRANZA',\n",
       " 'Municipio_res_XOCHIMILCO',\n",
       " 'Municipio_res_ÁLVARO OBREGÓN']"
      ]
     },
     "execution_count": 46,
     "metadata": {},
     "output_type": "execute_result"
    }
   ],
   "source": [
    "predictoras"
   ]
  },
  {
   "cell_type": "code",
   "execution_count": 47,
   "id": "c3b871d5",
   "metadata": {},
   "outputs": [],
   "source": [
    "#Separamos en X e y\n",
    "X=df_mexico_modelo[predictoras]\n",
    "y=df_mexico_modelo[objetivo]"
   ]
  },
  {
   "cell_type": "code",
   "execution_count": 48,
   "id": "cdadf31e",
   "metadata": {},
   "outputs": [
    {
     "data": {
      "text/plain": [
       "0    6342234\n",
       "1     116008\n",
       "Name: Estado, dtype: int64"
      ]
     },
     "execution_count": 48,
     "metadata": {},
     "output_type": "execute_result"
    }
   ],
   "source": [
    "y[\"Estado\"].value_counts(dropna=False)"
   ]
  },
  {
   "cell_type": "code",
   "execution_count": 50,
   "id": "42517cfe",
   "metadata": {},
   "outputs": [],
   "source": [
    "#Separamos en entrenamiento y test"
   ]
  },
  {
   "cell_type": "code",
   "execution_count": 51,
   "id": "5a576dd6",
   "metadata": {},
   "outputs": [
    {
     "data": {
      "text/plain": [
       "(6458242, 19)"
      ]
     },
     "execution_count": 51,
     "metadata": {},
     "output_type": "execute_result"
    }
   ],
   "source": [
    "X.shape"
   ]
  },
  {
   "cell_type": "code",
   "execution_count": 53,
   "id": "4b74a064",
   "metadata": {},
   "outputs": [],
   "source": [
    "from sklearn.model_selection import train_test_split\n",
    "X_train, X_test, y_train, y_test = train_test_split(X, y,test_size = 0.3, random_state = 0)"
   ]
  },
  {
   "cell_type": "code",
   "execution_count": 54,
   "id": "9eb6136b",
   "metadata": {},
   "outputs": [
    {
     "data": {
      "text/plain": [
       "(4520769, 19)"
      ]
     },
     "execution_count": 54,
     "metadata": {},
     "output_type": "execute_result"
    }
   ],
   "source": [
    "X_train.shape"
   ]
  },
  {
   "cell_type": "code",
   "execution_count": 55,
   "id": "9015b3b7",
   "metadata": {},
   "outputs": [
    {
     "data": {
      "text/plain": [
       "(4509074, 19)"
      ]
     },
     "execution_count": 55,
     "metadata": {},
     "output_type": "execute_result"
    }
   ],
   "source": [
    "#Eliminamos outliers con el Z-score\n",
    "def zscore(df, column, alpha = 2):\n",
    "    \n",
    "    import scipy.stats as stats\n",
    "    \n",
    "    df[column + '_zscore'] = stats.zscore(df[column])\n",
    "    \n",
    "    aux = df.loc[abs(df[column + '_zscore']) < alpha].copy()\n",
    "    \n",
    "    aux.drop([column + '_zscore'],axis=1,inplace=True)\n",
    "    \n",
    "    return(aux)\n",
    "X_train=zscore(X_train,column=\"EDAD\",alpha=3)\n",
    "X_train.shape"
   ]
  },
  {
   "cell_type": "code",
   "execution_count": 56,
   "id": "5152198a",
   "metadata": {},
   "outputs": [
    {
     "data": {
      "text/plain": [
       "0.9974130507442428"
      ]
     },
     "execution_count": 56,
     "metadata": {},
     "output_type": "execute_result"
    }
   ],
   "source": [
    "4509074/4520769"
   ]
  },
  {
   "cell_type": "code",
   "execution_count": 57,
   "id": "5af7a2e1",
   "metadata": {},
   "outputs": [
    {
     "data": {
      "text/plain": [
       "Int64Index([3303861, 6066183, 2528909, 1083026,  957076,  677208,  248972,\n",
       "            5318205,   41242,   28279,\n",
       "            ...\n",
       "            4930630, 2832983,  374564, 5853461, 2219731, 2249467, 5157699,\n",
       "            2215104, 1484405, 4500015],\n",
       "           dtype='int64', length=4509074)"
      ]
     },
     "execution_count": 57,
     "metadata": {},
     "output_type": "execute_result"
    }
   ],
   "source": [
    "#Nos quedamos con los indices de X_train para y_train\n",
    "train_index=X_train.index\n",
    "train_index"
   ]
  },
  {
   "cell_type": "code",
   "execution_count": 58,
   "id": "a5da10c6",
   "metadata": {},
   "outputs": [
    {
     "data": {
      "text/plain": [
       "(4520769, 1)"
      ]
     },
     "execution_count": 58,
     "metadata": {},
     "output_type": "execute_result"
    }
   ],
   "source": [
    "y_train.shape"
   ]
  },
  {
   "cell_type": "code",
   "execution_count": 59,
   "id": "0cac3b6e",
   "metadata": {},
   "outputs": [
    {
     "data": {
      "text/plain": [
       "(4509074, 1)"
      ]
     },
     "execution_count": 59,
     "metadata": {},
     "output_type": "execute_result"
    }
   ],
   "source": [
    "y_train=y_train.loc[train_index]\n",
    "y_train.shape"
   ]
  },
  {
   "cell_type": "code",
   "execution_count": 60,
   "id": "2aaecf5f",
   "metadata": {},
   "outputs": [
    {
     "data": {
      "text/plain": [
       "4509074"
      ]
     },
     "execution_count": 60,
     "metadata": {},
     "output_type": "execute_result"
    }
   ],
   "source": [
    "(y_train.index==X_train.index).sum()"
   ]
  },
  {
   "cell_type": "code",
   "execution_count": 61,
   "id": "c1488ab9",
   "metadata": {},
   "outputs": [
    {
     "data": {
      "text/plain": [
       "count    4.509074e+06\n",
       "mean     3.846774e+01\n",
       "std      1.671798e+01\n",
       "min      0.000000e+00\n",
       "25%      2.600000e+01\n",
       "50%      3.700000e+01\n",
       "75%      5.000000e+01\n",
       "max      8.900000e+01\n",
       "Name: EDAD, dtype: float64"
      ]
     },
     "execution_count": 61,
     "metadata": {},
     "output_type": "execute_result"
    }
   ],
   "source": [
    "X_train[\"EDAD\"].describe()"
   ]
  },
  {
   "cell_type": "markdown",
   "id": "d45e72cf",
   "metadata": {},
   "source": [
    "Edad maxima del conjunto de entrenamiento es 89"
   ]
  },
  {
   "cell_type": "code",
   "execution_count": 62,
   "id": "2ea4ce8d",
   "metadata": {},
   "outputs": [
    {
     "data": {
      "text/plain": [
       "(1937473, 19)"
      ]
     },
     "execution_count": 62,
     "metadata": {},
     "output_type": "execute_result"
    }
   ],
   "source": [
    "X_test.shape"
   ]
  },
  {
   "cell_type": "code",
   "execution_count": 63,
   "id": "86f1fe50",
   "metadata": {},
   "outputs": [
    {
     "data": {
      "text/plain": [
       "(1932535, 19)"
      ]
     },
     "execution_count": 63,
     "metadata": {},
     "output_type": "execute_result"
    }
   ],
   "source": [
    "#Para el test hacemos lo mismo\n",
    "X_test=zscore(X_test,column=\"EDAD\",alpha=3)\n",
    "X_test.shape"
   ]
  },
  {
   "cell_type": "code",
   "execution_count": 64,
   "id": "ba542d7b",
   "metadata": {},
   "outputs": [
    {
     "data": {
      "text/plain": [
       "count    1.932535e+06\n",
       "mean     3.845065e+01\n",
       "std      1.673313e+01\n",
       "min      0.000000e+00\n",
       "25%      2.600000e+01\n",
       "50%      3.700000e+01\n",
       "75%      5.000000e+01\n",
       "max      8.900000e+01\n",
       "Name: EDAD, dtype: float64"
      ]
     },
     "execution_count": 64,
     "metadata": {},
     "output_type": "execute_result"
    }
   ],
   "source": [
    "X_test[\"EDAD\"].describe()"
   ]
  },
  {
   "cell_type": "code",
   "execution_count": 65,
   "id": "daf539c6",
   "metadata": {},
   "outputs": [
    {
     "data": {
      "text/plain": [
       "0.9974513193216112"
      ]
     },
     "execution_count": 65,
     "metadata": {},
     "output_type": "execute_result"
    }
   ],
   "source": [
    "1932535/1937473"
   ]
  },
  {
   "cell_type": "code",
   "execution_count": 66,
   "id": "e8932402",
   "metadata": {},
   "outputs": [
    {
     "data": {
      "text/plain": [
       "Int64Index([5901195, 3390104, 2570922, 2525212, 2134063, 1944999, 5346476,\n",
       "            1306400, 4204559,  609354,\n",
       "            ...\n",
       "            4851756,  351766,  497352, 1535120, 1173363, 3765826,  272021,\n",
       "             499948, 4667326, 4766398],\n",
       "           dtype='int64', length=1932535)"
      ]
     },
     "execution_count": 66,
     "metadata": {},
     "output_type": "execute_result"
    }
   ],
   "source": [
    "#Nos quedamos con los indices de X_test para y_test\n",
    "test_index=X_test.index\n",
    "test_index"
   ]
  },
  {
   "cell_type": "code",
   "execution_count": 67,
   "id": "ac935582",
   "metadata": {},
   "outputs": [
    {
     "data": {
      "text/plain": [
       "(1937473, 1)"
      ]
     },
     "execution_count": 67,
     "metadata": {},
     "output_type": "execute_result"
    }
   ],
   "source": [
    "y_test.shape"
   ]
  },
  {
   "cell_type": "code",
   "execution_count": 68,
   "id": "0fb550d6",
   "metadata": {},
   "outputs": [
    {
     "data": {
      "text/plain": [
       "(1932535, 1)"
      ]
     },
     "execution_count": 68,
     "metadata": {},
     "output_type": "execute_result"
    }
   ],
   "source": [
    "y_test=y_test.loc[test_index]\n",
    "y_test.shape"
   ]
  },
  {
   "cell_type": "code",
   "execution_count": 69,
   "id": "9523f4fe",
   "metadata": {},
   "outputs": [
    {
     "data": {
      "text/plain": [
       "1932535"
      ]
     },
     "execution_count": 69,
     "metadata": {},
     "output_type": "execute_result"
    }
   ],
   "source": [
    "(y_test.index==X_test.index).sum()"
   ]
  },
  {
   "cell_type": "markdown",
   "id": "37420d2a",
   "metadata": {},
   "source": [
    "# Modelacion supervisada"
   ]
  },
  {
   "cell_type": "code",
   "execution_count": 70,
   "id": "2de27dbc",
   "metadata": {},
   "outputs": [
    {
     "data": {
      "text/html": [
       "<div>\n",
       "<style scoped>\n",
       "    .dataframe tbody tr th:only-of-type {\n",
       "        vertical-align: middle;\n",
       "    }\n",
       "\n",
       "    .dataframe tbody tr th {\n",
       "        vertical-align: top;\n",
       "    }\n",
       "\n",
       "    .dataframe thead th {\n",
       "        text-align: right;\n",
       "    }\n",
       "</style>\n",
       "<table border=\"1\" class=\"dataframe\">\n",
       "  <thead>\n",
       "    <tr style=\"text-align: right;\">\n",
       "      <th></th>\n",
       "      <th>Estado</th>\n",
       "    </tr>\n",
       "  </thead>\n",
       "  <tbody>\n",
       "    <tr>\n",
       "      <th>3303861</th>\n",
       "      <td>0</td>\n",
       "    </tr>\n",
       "    <tr>\n",
       "      <th>6066183</th>\n",
       "      <td>0</td>\n",
       "    </tr>\n",
       "    <tr>\n",
       "      <th>2528909</th>\n",
       "      <td>0</td>\n",
       "    </tr>\n",
       "    <tr>\n",
       "      <th>1083026</th>\n",
       "      <td>0</td>\n",
       "    </tr>\n",
       "    <tr>\n",
       "      <th>957076</th>\n",
       "      <td>0</td>\n",
       "    </tr>\n",
       "    <tr>\n",
       "      <th>...</th>\n",
       "      <td>...</td>\n",
       "    </tr>\n",
       "    <tr>\n",
       "      <th>2249467</th>\n",
       "      <td>0</td>\n",
       "    </tr>\n",
       "    <tr>\n",
       "      <th>5157699</th>\n",
       "      <td>0</td>\n",
       "    </tr>\n",
       "    <tr>\n",
       "      <th>2215104</th>\n",
       "      <td>0</td>\n",
       "    </tr>\n",
       "    <tr>\n",
       "      <th>1484405</th>\n",
       "      <td>0</td>\n",
       "    </tr>\n",
       "    <tr>\n",
       "      <th>4500015</th>\n",
       "      <td>0</td>\n",
       "    </tr>\n",
       "  </tbody>\n",
       "</table>\n",
       "<p>4509074 rows × 1 columns</p>\n",
       "</div>"
      ],
      "text/plain": [
       "         Estado\n",
       "3303861       0\n",
       "6066183       0\n",
       "2528909       0\n",
       "1083026       0\n",
       "957076        0\n",
       "...         ...\n",
       "2249467       0\n",
       "5157699       0\n",
       "2215104       0\n",
       "1484405       0\n",
       "4500015       0\n",
       "\n",
       "[4509074 rows x 1 columns]"
      ]
     },
     "execution_count": 70,
     "metadata": {},
     "output_type": "execute_result"
    }
   ],
   "source": [
    "y_train"
   ]
  },
  {
   "cell_type": "code",
   "execution_count": 71,
   "id": "018064eb",
   "metadata": {},
   "outputs": [
    {
     "data": {
      "text/plain": [
       "0    0.982344\n",
       "1    0.017656\n",
       "Name: Estado, dtype: float64"
      ]
     },
     "execution_count": 71,
     "metadata": {},
     "output_type": "execute_result"
    }
   ],
   "source": [
    "y_train[\"Estado\"].value_counts(1,dropna=False)"
   ]
  },
  {
   "cell_type": "code",
   "execution_count": 72,
   "id": "f084e9e0",
   "metadata": {},
   "outputs": [
    {
     "data": {
      "text/plain": [
       "0    0.982318\n",
       "1    0.017682\n",
       "Name: Estado, dtype: float64"
      ]
     },
     "execution_count": 72,
     "metadata": {},
     "output_type": "execute_result"
    }
   ],
   "source": [
    "y_test[\"Estado\"].value_counts(1,dropna=False)"
   ]
  },
  {
   "cell_type": "code",
   "execution_count": 73,
   "id": "408668a8",
   "metadata": {},
   "outputs": [
    {
     "data": {
      "text/plain": [
       "EDAD                                    False\n",
       "Embarazo                                False\n",
       "Sexo                                    False\n",
       "Municipio_res_BENITO JUÁREZ             False\n",
       "Municipio_res_COYOACÁN                  False\n",
       "Municipio_res_CUAUHTÉMOC                False\n",
       "Municipio_res_ECATEPEC DE MORELOS       False\n",
       "Municipio_res_GUSTAVO A. MADERO         False\n",
       "Municipio_res_IZTACALCO                 False\n",
       "Municipio_res_IZTAPALAPA                False\n",
       "Municipio_res_LA MAGDALENA CONTRERAS    False\n",
       "Municipio_res_MIGUEL HIDALGO            False\n",
       "Municipio_res_NEZAHUALCÓYOTL            False\n",
       "Municipio_res_Otros                     False\n",
       "Municipio_res_TLALPAN                   False\n",
       "Municipio_res_TLÁHUAC                   False\n",
       "Municipio_res_VENUSTIANO CARRANZA       False\n",
       "Municipio_res_XOCHIMILCO                False\n",
       "Municipio_res_ÁLVARO OBREGÓN            False\n",
       "dtype: bool"
      ]
     },
     "execution_count": 73,
     "metadata": {},
     "output_type": "execute_result"
    }
   ],
   "source": [
    "X_train.isnull().any()"
   ]
  },
  {
   "cell_type": "markdown",
   "id": "cce051ce",
   "metadata": {},
   "source": [
    "## Rembalanceamos la variable objetivo\n",
    "\n",
    "### Train"
   ]
  },
  {
   "cell_type": "code",
   "execution_count": 74,
   "id": "83146f79",
   "metadata": {},
   "outputs": [
    {
     "data": {
      "text/html": [
       "<div>\n",
       "<style scoped>\n",
       "    .dataframe tbody tr th:only-of-type {\n",
       "        vertical-align: middle;\n",
       "    }\n",
       "\n",
       "    .dataframe tbody tr th {\n",
       "        vertical-align: top;\n",
       "    }\n",
       "\n",
       "    .dataframe thead th {\n",
       "        text-align: right;\n",
       "    }\n",
       "</style>\n",
       "<table border=\"1\" class=\"dataframe\">\n",
       "  <thead>\n",
       "    <tr style=\"text-align: right;\">\n",
       "      <th></th>\n",
       "      <th>EDAD</th>\n",
       "      <th>Embarazo</th>\n",
       "      <th>Sexo</th>\n",
       "      <th>Municipio_res_BENITO JUÁREZ</th>\n",
       "      <th>Municipio_res_COYOACÁN</th>\n",
       "      <th>Municipio_res_CUAUHTÉMOC</th>\n",
       "      <th>Municipio_res_ECATEPEC DE MORELOS</th>\n",
       "      <th>Municipio_res_GUSTAVO A. MADERO</th>\n",
       "      <th>Municipio_res_IZTACALCO</th>\n",
       "      <th>Municipio_res_IZTAPALAPA</th>\n",
       "      <th>Municipio_res_LA MAGDALENA CONTRERAS</th>\n",
       "      <th>Municipio_res_MIGUEL HIDALGO</th>\n",
       "      <th>Municipio_res_NEZAHUALCÓYOTL</th>\n",
       "      <th>Municipio_res_Otros</th>\n",
       "      <th>Municipio_res_TLALPAN</th>\n",
       "      <th>Municipio_res_TLÁHUAC</th>\n",
       "      <th>Municipio_res_VENUSTIANO CARRANZA</th>\n",
       "      <th>Municipio_res_XOCHIMILCO</th>\n",
       "      <th>Municipio_res_ÁLVARO OBREGÓN</th>\n",
       "      <th>Estado</th>\n",
       "    </tr>\n",
       "  </thead>\n",
       "  <tbody>\n",
       "    <tr>\n",
       "      <th>3303861</th>\n",
       "      <td>30</td>\n",
       "      <td>0</td>\n",
       "      <td>0</td>\n",
       "      <td>0</td>\n",
       "      <td>0</td>\n",
       "      <td>0</td>\n",
       "      <td>0</td>\n",
       "      <td>0</td>\n",
       "      <td>0</td>\n",
       "      <td>1</td>\n",
       "      <td>0</td>\n",
       "      <td>0</td>\n",
       "      <td>0</td>\n",
       "      <td>0</td>\n",
       "      <td>0</td>\n",
       "      <td>0</td>\n",
       "      <td>0</td>\n",
       "      <td>0</td>\n",
       "      <td>0</td>\n",
       "      <td>0</td>\n",
       "    </tr>\n",
       "    <tr>\n",
       "      <th>6066183</th>\n",
       "      <td>43</td>\n",
       "      <td>0</td>\n",
       "      <td>0</td>\n",
       "      <td>0</td>\n",
       "      <td>0</td>\n",
       "      <td>0</td>\n",
       "      <td>0</td>\n",
       "      <td>0</td>\n",
       "      <td>0</td>\n",
       "      <td>0</td>\n",
       "      <td>0</td>\n",
       "      <td>0</td>\n",
       "      <td>0</td>\n",
       "      <td>1</td>\n",
       "      <td>0</td>\n",
       "      <td>0</td>\n",
       "      <td>0</td>\n",
       "      <td>0</td>\n",
       "      <td>0</td>\n",
       "      <td>0</td>\n",
       "    </tr>\n",
       "    <tr>\n",
       "      <th>2528909</th>\n",
       "      <td>78</td>\n",
       "      <td>0</td>\n",
       "      <td>1</td>\n",
       "      <td>0</td>\n",
       "      <td>0</td>\n",
       "      <td>0</td>\n",
       "      <td>0</td>\n",
       "      <td>0</td>\n",
       "      <td>1</td>\n",
       "      <td>0</td>\n",
       "      <td>0</td>\n",
       "      <td>0</td>\n",
       "      <td>0</td>\n",
       "      <td>0</td>\n",
       "      <td>0</td>\n",
       "      <td>0</td>\n",
       "      <td>0</td>\n",
       "      <td>0</td>\n",
       "      <td>0</td>\n",
       "      <td>0</td>\n",
       "    </tr>\n",
       "    <tr>\n",
       "      <th>1083026</th>\n",
       "      <td>57</td>\n",
       "      <td>0</td>\n",
       "      <td>0</td>\n",
       "      <td>0</td>\n",
       "      <td>0</td>\n",
       "      <td>0</td>\n",
       "      <td>0</td>\n",
       "      <td>0</td>\n",
       "      <td>0</td>\n",
       "      <td>0</td>\n",
       "      <td>0</td>\n",
       "      <td>0</td>\n",
       "      <td>0</td>\n",
       "      <td>1</td>\n",
       "      <td>0</td>\n",
       "      <td>0</td>\n",
       "      <td>0</td>\n",
       "      <td>0</td>\n",
       "      <td>0</td>\n",
       "      <td>0</td>\n",
       "    </tr>\n",
       "    <tr>\n",
       "      <th>957076</th>\n",
       "      <td>43</td>\n",
       "      <td>0</td>\n",
       "      <td>0</td>\n",
       "      <td>0</td>\n",
       "      <td>0</td>\n",
       "      <td>0</td>\n",
       "      <td>0</td>\n",
       "      <td>0</td>\n",
       "      <td>0</td>\n",
       "      <td>0</td>\n",
       "      <td>0</td>\n",
       "      <td>0</td>\n",
       "      <td>0</td>\n",
       "      <td>0</td>\n",
       "      <td>0</td>\n",
       "      <td>0</td>\n",
       "      <td>1</td>\n",
       "      <td>0</td>\n",
       "      <td>0</td>\n",
       "      <td>0</td>\n",
       "    </tr>\n",
       "    <tr>\n",
       "      <th>...</th>\n",
       "      <td>...</td>\n",
       "      <td>...</td>\n",
       "      <td>...</td>\n",
       "      <td>...</td>\n",
       "      <td>...</td>\n",
       "      <td>...</td>\n",
       "      <td>...</td>\n",
       "      <td>...</td>\n",
       "      <td>...</td>\n",
       "      <td>...</td>\n",
       "      <td>...</td>\n",
       "      <td>...</td>\n",
       "      <td>...</td>\n",
       "      <td>...</td>\n",
       "      <td>...</td>\n",
       "      <td>...</td>\n",
       "      <td>...</td>\n",
       "      <td>...</td>\n",
       "      <td>...</td>\n",
       "      <td>...</td>\n",
       "    </tr>\n",
       "    <tr>\n",
       "      <th>2249467</th>\n",
       "      <td>46</td>\n",
       "      <td>0</td>\n",
       "      <td>0</td>\n",
       "      <td>0</td>\n",
       "      <td>0</td>\n",
       "      <td>0</td>\n",
       "      <td>0</td>\n",
       "      <td>0</td>\n",
       "      <td>0</td>\n",
       "      <td>1</td>\n",
       "      <td>0</td>\n",
       "      <td>0</td>\n",
       "      <td>0</td>\n",
       "      <td>0</td>\n",
       "      <td>0</td>\n",
       "      <td>0</td>\n",
       "      <td>0</td>\n",
       "      <td>0</td>\n",
       "      <td>0</td>\n",
       "      <td>0</td>\n",
       "    </tr>\n",
       "    <tr>\n",
       "      <th>5157699</th>\n",
       "      <td>35</td>\n",
       "      <td>0</td>\n",
       "      <td>1</td>\n",
       "      <td>0</td>\n",
       "      <td>0</td>\n",
       "      <td>0</td>\n",
       "      <td>0</td>\n",
       "      <td>0</td>\n",
       "      <td>0</td>\n",
       "      <td>0</td>\n",
       "      <td>0</td>\n",
       "      <td>0</td>\n",
       "      <td>0</td>\n",
       "      <td>1</td>\n",
       "      <td>0</td>\n",
       "      <td>0</td>\n",
       "      <td>0</td>\n",
       "      <td>0</td>\n",
       "      <td>0</td>\n",
       "      <td>0</td>\n",
       "    </tr>\n",
       "    <tr>\n",
       "      <th>2215104</th>\n",
       "      <td>76</td>\n",
       "      <td>0</td>\n",
       "      <td>0</td>\n",
       "      <td>0</td>\n",
       "      <td>1</td>\n",
       "      <td>0</td>\n",
       "      <td>0</td>\n",
       "      <td>0</td>\n",
       "      <td>0</td>\n",
       "      <td>0</td>\n",
       "      <td>0</td>\n",
       "      <td>0</td>\n",
       "      <td>0</td>\n",
       "      <td>0</td>\n",
       "      <td>0</td>\n",
       "      <td>0</td>\n",
       "      <td>0</td>\n",
       "      <td>0</td>\n",
       "      <td>0</td>\n",
       "      <td>0</td>\n",
       "    </tr>\n",
       "    <tr>\n",
       "      <th>1484405</th>\n",
       "      <td>74</td>\n",
       "      <td>0</td>\n",
       "      <td>1</td>\n",
       "      <td>1</td>\n",
       "      <td>0</td>\n",
       "      <td>0</td>\n",
       "      <td>0</td>\n",
       "      <td>0</td>\n",
       "      <td>0</td>\n",
       "      <td>0</td>\n",
       "      <td>0</td>\n",
       "      <td>0</td>\n",
       "      <td>0</td>\n",
       "      <td>0</td>\n",
       "      <td>0</td>\n",
       "      <td>0</td>\n",
       "      <td>0</td>\n",
       "      <td>0</td>\n",
       "      <td>0</td>\n",
       "      <td>0</td>\n",
       "    </tr>\n",
       "    <tr>\n",
       "      <th>4500015</th>\n",
       "      <td>57</td>\n",
       "      <td>0</td>\n",
       "      <td>1</td>\n",
       "      <td>0</td>\n",
       "      <td>0</td>\n",
       "      <td>0</td>\n",
       "      <td>0</td>\n",
       "      <td>0</td>\n",
       "      <td>0</td>\n",
       "      <td>0</td>\n",
       "      <td>0</td>\n",
       "      <td>0</td>\n",
       "      <td>0</td>\n",
       "      <td>0</td>\n",
       "      <td>0</td>\n",
       "      <td>1</td>\n",
       "      <td>0</td>\n",
       "      <td>0</td>\n",
       "      <td>0</td>\n",
       "      <td>0</td>\n",
       "    </tr>\n",
       "  </tbody>\n",
       "</table>\n",
       "<p>4509074 rows × 20 columns</p>\n",
       "</div>"
      ],
      "text/plain": [
       "         EDAD  Embarazo  Sexo  Municipio_res_BENITO JUÁREZ  \\\n",
       "3303861    30         0     0                            0   \n",
       "6066183    43         0     0                            0   \n",
       "2528909    78         0     1                            0   \n",
       "1083026    57         0     0                            0   \n",
       "957076     43         0     0                            0   \n",
       "...       ...       ...   ...                          ...   \n",
       "2249467    46         0     0                            0   \n",
       "5157699    35         0     1                            0   \n",
       "2215104    76         0     0                            0   \n",
       "1484405    74         0     1                            1   \n",
       "4500015    57         0     1                            0   \n",
       "\n",
       "         Municipio_res_COYOACÁN  Municipio_res_CUAUHTÉMOC  \\\n",
       "3303861                       0                         0   \n",
       "6066183                       0                         0   \n",
       "2528909                       0                         0   \n",
       "1083026                       0                         0   \n",
       "957076                        0                         0   \n",
       "...                         ...                       ...   \n",
       "2249467                       0                         0   \n",
       "5157699                       0                         0   \n",
       "2215104                       1                         0   \n",
       "1484405                       0                         0   \n",
       "4500015                       0                         0   \n",
       "\n",
       "         Municipio_res_ECATEPEC DE MORELOS  Municipio_res_GUSTAVO A. MADERO  \\\n",
       "3303861                                  0                                0   \n",
       "6066183                                  0                                0   \n",
       "2528909                                  0                                0   \n",
       "1083026                                  0                                0   \n",
       "957076                                   0                                0   \n",
       "...                                    ...                              ...   \n",
       "2249467                                  0                                0   \n",
       "5157699                                  0                                0   \n",
       "2215104                                  0                                0   \n",
       "1484405                                  0                                0   \n",
       "4500015                                  0                                0   \n",
       "\n",
       "         Municipio_res_IZTACALCO  Municipio_res_IZTAPALAPA  \\\n",
       "3303861                        0                         1   \n",
       "6066183                        0                         0   \n",
       "2528909                        1                         0   \n",
       "1083026                        0                         0   \n",
       "957076                         0                         0   \n",
       "...                          ...                       ...   \n",
       "2249467                        0                         1   \n",
       "5157699                        0                         0   \n",
       "2215104                        0                         0   \n",
       "1484405                        0                         0   \n",
       "4500015                        0                         0   \n",
       "\n",
       "         Municipio_res_LA MAGDALENA CONTRERAS  Municipio_res_MIGUEL HIDALGO  \\\n",
       "3303861                                     0                             0   \n",
       "6066183                                     0                             0   \n",
       "2528909                                     0                             0   \n",
       "1083026                                     0                             0   \n",
       "957076                                      0                             0   \n",
       "...                                       ...                           ...   \n",
       "2249467                                     0                             0   \n",
       "5157699                                     0                             0   \n",
       "2215104                                     0                             0   \n",
       "1484405                                     0                             0   \n",
       "4500015                                     0                             0   \n",
       "\n",
       "         Municipio_res_NEZAHUALCÓYOTL  Municipio_res_Otros  \\\n",
       "3303861                             0                    0   \n",
       "6066183                             0                    1   \n",
       "2528909                             0                    0   \n",
       "1083026                             0                    1   \n",
       "957076                              0                    0   \n",
       "...                               ...                  ...   \n",
       "2249467                             0                    0   \n",
       "5157699                             0                    1   \n",
       "2215104                             0                    0   \n",
       "1484405                             0                    0   \n",
       "4500015                             0                    0   \n",
       "\n",
       "         Municipio_res_TLALPAN  Municipio_res_TLÁHUAC  \\\n",
       "3303861                      0                      0   \n",
       "6066183                      0                      0   \n",
       "2528909                      0                      0   \n",
       "1083026                      0                      0   \n",
       "957076                       0                      0   \n",
       "...                        ...                    ...   \n",
       "2249467                      0                      0   \n",
       "5157699                      0                      0   \n",
       "2215104                      0                      0   \n",
       "1484405                      0                      0   \n",
       "4500015                      0                      1   \n",
       "\n",
       "         Municipio_res_VENUSTIANO CARRANZA  Municipio_res_XOCHIMILCO  \\\n",
       "3303861                                  0                         0   \n",
       "6066183                                  0                         0   \n",
       "2528909                                  0                         0   \n",
       "1083026                                  0                         0   \n",
       "957076                                   1                         0   \n",
       "...                                    ...                       ...   \n",
       "2249467                                  0                         0   \n",
       "5157699                                  0                         0   \n",
       "2215104                                  0                         0   \n",
       "1484405                                  0                         0   \n",
       "4500015                                  0                         0   \n",
       "\n",
       "         Municipio_res_ÁLVARO OBREGÓN  Estado  \n",
       "3303861                             0       0  \n",
       "6066183                             0       0  \n",
       "2528909                             0       0  \n",
       "1083026                             0       0  \n",
       "957076                              0       0  \n",
       "...                               ...     ...  \n",
       "2249467                             0       0  \n",
       "5157699                             0       0  \n",
       "2215104                             0       0  \n",
       "1484405                             0       0  \n",
       "4500015                             0       0  \n",
       "\n",
       "[4509074 rows x 20 columns]"
      ]
     },
     "execution_count": 74,
     "metadata": {},
     "output_type": "execute_result"
    }
   ],
   "source": [
    "train=pd.concat([X_train,y_train],axis=1)\n",
    "train"
   ]
  },
  {
   "cell_type": "code",
   "execution_count": 75,
   "id": "0f6aeea1",
   "metadata": {},
   "outputs": [
    {
     "name": "stderr",
     "output_type": "stream",
     "text": [
      "/Users/jesusarredondo/Documents/Diplomado/Proyecto/practicam1/lib/python3.9/site-packages/seaborn/_decorators.py:36: FutureWarning:\n",
      "\n",
      "Pass the following variables as keyword args: x, y. From version 0.12, the only valid positional argument will be `data`, and passing other arguments without an explicit keyword will result in an error or misinterpretation.\n",
      "\n"
     ]
    },
    {
     "data": {
      "text/plain": [
       "Text(0.5, 1.0, 'Target variable count')"
      ]
     },
     "execution_count": 75,
     "metadata": {},
     "output_type": "execute_result"
    },
    {
     "data": {
      "image/png": "[encoded data removed]",
      "text/plain": [
       "<Figure size 432x288 with 1 Axes>"
      ]
     },
     "metadata": {
      "needs_background": "light"
     },
     "output_type": "display_data"
    }
   ],
   "source": [
    "x=train['Estado'].value_counts().values\n",
    "sns.barplot([0,1],x)\n",
    "plt.title('Target variable count')"
   ]
  },
  {
   "cell_type": "code",
   "execution_count": 76,
   "id": "9ea1125f",
   "metadata": {},
   "outputs": [],
   "source": [
    "from imblearn.over_sampling import SMOTE\n",
    "smote = SMOTE(sampling_strategy='minority', random_state=0)\n",
    "X_sm_train, y_sm_train = smote.fit_resample(X_train, y_train)"
   ]
  },
  {
   "cell_type": "code",
   "execution_count": 77,
   "id": "a1940eaf",
   "metadata": {},
   "outputs": [
    {
     "name": "stderr",
     "output_type": "stream",
     "text": [
      "/Users/jesusarredondo/Documents/Diplomado/Proyecto/practicam1/lib/python3.9/site-packages/seaborn/_decorators.py:36: FutureWarning:\n",
      "\n",
      "Pass the following variables as keyword args: x, y. From version 0.12, the only valid positional argument will be `data`, and passing other arguments without an explicit keyword will result in an error or misinterpretation.\n",
      "\n"
     ]
    },
    {
     "data": {
      "text/plain": [
       "Text(0.5, 1.0, 'Target variable count')"
      ]
     },
     "execution_count": 77,
     "metadata": {},
     "output_type": "execute_result"
    },
    {
     "data": {
      "image/png": "[encoded data removed]",
      "text/plain": [
       "<Figure size 432x288 with 1 Axes>"
      ]
     },
     "metadata": {
      "needs_background": "light"
     },
     "output_type": "display_data"
    }
   ],
   "source": [
    "x=y_sm_train.value_counts().values\n",
    "sns.barplot([0,1],x)\n",
    "plt.title('Target variable count')"
   ]
  },
  {
   "cell_type": "code",
   "execution_count": 79,
   "id": "0db96a0a",
   "metadata": {},
   "outputs": [
    {
     "data": {
      "text/plain": [
       "0    0.5\n",
       "1    0.5\n",
       "Name: Estado, dtype: float64"
      ]
     },
     "execution_count": 79,
     "metadata": {},
     "output_type": "execute_result"
    }
   ],
   "source": [
    "y_sm_train[\"Estado\"].value_counts(1,dropna=False)"
   ]
  },
  {
   "cell_type": "code",
   "execution_count": 83,
   "id": "3365466d",
   "metadata": {},
   "outputs": [
    {
     "data": {
      "text/html": [
       "<div>\n",
       "<style scoped>\n",
       "    .dataframe tbody tr th:only-of-type {\n",
       "        vertical-align: middle;\n",
       "    }\n",
       "\n",
       "    .dataframe tbody tr th {\n",
       "        vertical-align: top;\n",
       "    }\n",
       "\n",
       "    .dataframe thead th {\n",
       "        text-align: right;\n",
       "    }\n",
       "</style>\n",
       "<table border=\"1\" class=\"dataframe\">\n",
       "  <thead>\n",
       "    <tr style=\"text-align: right;\">\n",
       "      <th></th>\n",
       "      <th>EDAD</th>\n",
       "      <th>Embarazo</th>\n",
       "      <th>Sexo</th>\n",
       "      <th>Municipio_res_BENITO JUÁREZ</th>\n",
       "      <th>Municipio_res_COYOACÁN</th>\n",
       "      <th>Municipio_res_CUAUHTÉMOC</th>\n",
       "      <th>Municipio_res_ECATEPEC DE MORELOS</th>\n",
       "      <th>Municipio_res_GUSTAVO A. MADERO</th>\n",
       "      <th>Municipio_res_IZTACALCO</th>\n",
       "      <th>Municipio_res_IZTAPALAPA</th>\n",
       "      <th>Municipio_res_LA MAGDALENA CONTRERAS</th>\n",
       "      <th>Municipio_res_MIGUEL HIDALGO</th>\n",
       "      <th>Municipio_res_NEZAHUALCÓYOTL</th>\n",
       "      <th>Municipio_res_Otros</th>\n",
       "      <th>Municipio_res_TLALPAN</th>\n",
       "      <th>Municipio_res_TLÁHUAC</th>\n",
       "      <th>Municipio_res_VENUSTIANO CARRANZA</th>\n",
       "      <th>Municipio_res_XOCHIMILCO</th>\n",
       "      <th>Municipio_res_ÁLVARO OBREGÓN</th>\n",
       "    </tr>\n",
       "  </thead>\n",
       "  <tbody>\n",
       "    <tr>\n",
       "      <th>0</th>\n",
       "      <td>30</td>\n",
       "      <td>0</td>\n",
       "      <td>0</td>\n",
       "      <td>0</td>\n",
       "      <td>0</td>\n",
       "      <td>0</td>\n",
       "      <td>0</td>\n",
       "      <td>0</td>\n",
       "      <td>0</td>\n",
       "      <td>1</td>\n",
       "      <td>0</td>\n",
       "      <td>0</td>\n",
       "      <td>0</td>\n",
       "      <td>0</td>\n",
       "      <td>0</td>\n",
       "      <td>0</td>\n",
       "      <td>0</td>\n",
       "      <td>0</td>\n",
       "      <td>0</td>\n",
       "    </tr>\n",
       "    <tr>\n",
       "      <th>1</th>\n",
       "      <td>43</td>\n",
       "      <td>0</td>\n",
       "      <td>0</td>\n",
       "      <td>0</td>\n",
       "      <td>0</td>\n",
       "      <td>0</td>\n",
       "      <td>0</td>\n",
       "      <td>0</td>\n",
       "      <td>0</td>\n",
       "      <td>0</td>\n",
       "      <td>0</td>\n",
       "      <td>0</td>\n",
       "      <td>0</td>\n",
       "      <td>1</td>\n",
       "      <td>0</td>\n",
       "      <td>0</td>\n",
       "      <td>0</td>\n",
       "      <td>0</td>\n",
       "      <td>0</td>\n",
       "    </tr>\n",
       "    <tr>\n",
       "      <th>2</th>\n",
       "      <td>78</td>\n",
       "      <td>0</td>\n",
       "      <td>1</td>\n",
       "      <td>0</td>\n",
       "      <td>0</td>\n",
       "      <td>0</td>\n",
       "      <td>0</td>\n",
       "      <td>0</td>\n",
       "      <td>1</td>\n",
       "      <td>0</td>\n",
       "      <td>0</td>\n",
       "      <td>0</td>\n",
       "      <td>0</td>\n",
       "      <td>0</td>\n",
       "      <td>0</td>\n",
       "      <td>0</td>\n",
       "      <td>0</td>\n",
       "      <td>0</td>\n",
       "      <td>0</td>\n",
       "    </tr>\n",
       "    <tr>\n",
       "      <th>3</th>\n",
       "      <td>57</td>\n",
       "      <td>0</td>\n",
       "      <td>0</td>\n",
       "      <td>0</td>\n",
       "      <td>0</td>\n",
       "      <td>0</td>\n",
       "      <td>0</td>\n",
       "      <td>0</td>\n",
       "      <td>0</td>\n",
       "      <td>0</td>\n",
       "      <td>0</td>\n",
       "      <td>0</td>\n",
       "      <td>0</td>\n",
       "      <td>1</td>\n",
       "      <td>0</td>\n",
       "      <td>0</td>\n",
       "      <td>0</td>\n",
       "      <td>0</td>\n",
       "      <td>0</td>\n",
       "    </tr>\n",
       "    <tr>\n",
       "      <th>4</th>\n",
       "      <td>43</td>\n",
       "      <td>0</td>\n",
       "      <td>0</td>\n",
       "      <td>0</td>\n",
       "      <td>0</td>\n",
       "      <td>0</td>\n",
       "      <td>0</td>\n",
       "      <td>0</td>\n",
       "      <td>0</td>\n",
       "      <td>0</td>\n",
       "      <td>0</td>\n",
       "      <td>0</td>\n",
       "      <td>0</td>\n",
       "      <td>0</td>\n",
       "      <td>0</td>\n",
       "      <td>0</td>\n",
       "      <td>1</td>\n",
       "      <td>0</td>\n",
       "      <td>0</td>\n",
       "    </tr>\n",
       "    <tr>\n",
       "      <th>...</th>\n",
       "      <td>...</td>\n",
       "      <td>...</td>\n",
       "      <td>...</td>\n",
       "      <td>...</td>\n",
       "      <td>...</td>\n",
       "      <td>...</td>\n",
       "      <td>...</td>\n",
       "      <td>...</td>\n",
       "      <td>...</td>\n",
       "      <td>...</td>\n",
       "      <td>...</td>\n",
       "      <td>...</td>\n",
       "      <td>...</td>\n",
       "      <td>...</td>\n",
       "      <td>...</td>\n",
       "      <td>...</td>\n",
       "      <td>...</td>\n",
       "      <td>...</td>\n",
       "      <td>...</td>\n",
       "    </tr>\n",
       "    <tr>\n",
       "      <th>8858915</th>\n",
       "      <td>28</td>\n",
       "      <td>0</td>\n",
       "      <td>1</td>\n",
       "      <td>0</td>\n",
       "      <td>0</td>\n",
       "      <td>0</td>\n",
       "      <td>0</td>\n",
       "      <td>0</td>\n",
       "      <td>0</td>\n",
       "      <td>0</td>\n",
       "      <td>0</td>\n",
       "      <td>0</td>\n",
       "      <td>0</td>\n",
       "      <td>1</td>\n",
       "      <td>0</td>\n",
       "      <td>0</td>\n",
       "      <td>0</td>\n",
       "      <td>0</td>\n",
       "      <td>0</td>\n",
       "    </tr>\n",
       "    <tr>\n",
       "      <th>8858916</th>\n",
       "      <td>56</td>\n",
       "      <td>0</td>\n",
       "      <td>0</td>\n",
       "      <td>0</td>\n",
       "      <td>0</td>\n",
       "      <td>1</td>\n",
       "      <td>0</td>\n",
       "      <td>0</td>\n",
       "      <td>0</td>\n",
       "      <td>0</td>\n",
       "      <td>0</td>\n",
       "      <td>0</td>\n",
       "      <td>0</td>\n",
       "      <td>0</td>\n",
       "      <td>0</td>\n",
       "      <td>0</td>\n",
       "      <td>0</td>\n",
       "      <td>0</td>\n",
       "      <td>0</td>\n",
       "    </tr>\n",
       "    <tr>\n",
       "      <th>8858917</th>\n",
       "      <td>54</td>\n",
       "      <td>0</td>\n",
       "      <td>1</td>\n",
       "      <td>0</td>\n",
       "      <td>0</td>\n",
       "      <td>0</td>\n",
       "      <td>0</td>\n",
       "      <td>0</td>\n",
       "      <td>1</td>\n",
       "      <td>0</td>\n",
       "      <td>0</td>\n",
       "      <td>0</td>\n",
       "      <td>0</td>\n",
       "      <td>0</td>\n",
       "      <td>0</td>\n",
       "      <td>0</td>\n",
       "      <td>0</td>\n",
       "      <td>0</td>\n",
       "      <td>0</td>\n",
       "    </tr>\n",
       "    <tr>\n",
       "      <th>8858918</th>\n",
       "      <td>71</td>\n",
       "      <td>0</td>\n",
       "      <td>1</td>\n",
       "      <td>0</td>\n",
       "      <td>0</td>\n",
       "      <td>0</td>\n",
       "      <td>1</td>\n",
       "      <td>0</td>\n",
       "      <td>0</td>\n",
       "      <td>0</td>\n",
       "      <td>0</td>\n",
       "      <td>0</td>\n",
       "      <td>0</td>\n",
       "      <td>0</td>\n",
       "      <td>0</td>\n",
       "      <td>0</td>\n",
       "      <td>0</td>\n",
       "      <td>0</td>\n",
       "      <td>0</td>\n",
       "    </tr>\n",
       "    <tr>\n",
       "      <th>8858919</th>\n",
       "      <td>66</td>\n",
       "      <td>0</td>\n",
       "      <td>1</td>\n",
       "      <td>0</td>\n",
       "      <td>0</td>\n",
       "      <td>0</td>\n",
       "      <td>1</td>\n",
       "      <td>0</td>\n",
       "      <td>0</td>\n",
       "      <td>0</td>\n",
       "      <td>0</td>\n",
       "      <td>0</td>\n",
       "      <td>0</td>\n",
       "      <td>0</td>\n",
       "      <td>0</td>\n",
       "      <td>0</td>\n",
       "      <td>0</td>\n",
       "      <td>0</td>\n",
       "      <td>0</td>\n",
       "    </tr>\n",
       "  </tbody>\n",
       "</table>\n",
       "<p>8858920 rows × 19 columns</p>\n",
       "</div>"
      ],
      "text/plain": [
       "         EDAD  Embarazo  Sexo  Municipio_res_BENITO JUÁREZ  \\\n",
       "0          30         0     0                            0   \n",
       "1          43         0     0                            0   \n",
       "2          78         0     1                            0   \n",
       "3          57         0     0                            0   \n",
       "4          43         0     0                            0   \n",
       "...       ...       ...   ...                          ...   \n",
       "8858915    28         0     1                            0   \n",
       "8858916    56         0     0                            0   \n",
       "8858917    54         0     1                            0   \n",
       "8858918    71         0     1                            0   \n",
       "8858919    66         0     1                            0   \n",
       "\n",
       "         Municipio_res_COYOACÁN  Municipio_res_CUAUHTÉMOC  \\\n",
       "0                             0                         0   \n",
       "1                             0                         0   \n",
       "2                             0                         0   \n",
       "3                             0                         0   \n",
       "4                             0                         0   \n",
       "...                         ...                       ...   \n",
       "8858915                       0                         0   \n",
       "8858916                       0                         1   \n",
       "8858917                       0                         0   \n",
       "8858918                       0                         0   \n",
       "8858919                       0                         0   \n",
       "\n",
       "         Municipio_res_ECATEPEC DE MORELOS  Municipio_res_GUSTAVO A. MADERO  \\\n",
       "0                                        0                                0   \n",
       "1                                        0                                0   \n",
       "2                                        0                                0   \n",
       "3                                        0                                0   \n",
       "4                                        0                                0   \n",
       "...                                    ...                              ...   \n",
       "8858915                                  0                                0   \n",
       "8858916                                  0                                0   \n",
       "8858917                                  0                                0   \n",
       "8858918                                  1                                0   \n",
       "8858919                                  1                                0   \n",
       "\n",
       "         Municipio_res_IZTACALCO  Municipio_res_IZTAPALAPA  \\\n",
       "0                              0                         1   \n",
       "1                              0                         0   \n",
       "2                              1                         0   \n",
       "3                              0                         0   \n",
       "4                              0                         0   \n",
       "...                          ...                       ...   \n",
       "8858915                        0                         0   \n",
       "8858916                        0                         0   \n",
       "8858917                        1                         0   \n",
       "8858918                        0                         0   \n",
       "8858919                        0                         0   \n",
       "\n",
       "         Municipio_res_LA MAGDALENA CONTRERAS  Municipio_res_MIGUEL HIDALGO  \\\n",
       "0                                           0                             0   \n",
       "1                                           0                             0   \n",
       "2                                           0                             0   \n",
       "3                                           0                             0   \n",
       "4                                           0                             0   \n",
       "...                                       ...                           ...   \n",
       "8858915                                     0                             0   \n",
       "8858916                                     0                             0   \n",
       "8858917                                     0                             0   \n",
       "8858918                                     0                             0   \n",
       "8858919                                     0                             0   \n",
       "\n",
       "         Municipio_res_NEZAHUALCÓYOTL  Municipio_res_Otros  \\\n",
       "0                                   0                    0   \n",
       "1                                   0                    1   \n",
       "2                                   0                    0   \n",
       "3                                   0                    1   \n",
       "4                                   0                    0   \n",
       "...                               ...                  ...   \n",
       "8858915                             0                    1   \n",
       "8858916                             0                    0   \n",
       "8858917                             0                    0   \n",
       "8858918                             0                    0   \n",
       "8858919                             0                    0   \n",
       "\n",
       "         Municipio_res_TLALPAN  Municipio_res_TLÁHUAC  \\\n",
       "0                            0                      0   \n",
       "1                            0                      0   \n",
       "2                            0                      0   \n",
       "3                            0                      0   \n",
       "4                            0                      0   \n",
       "...                        ...                    ...   \n",
       "8858915                      0                      0   \n",
       "8858916                      0                      0   \n",
       "8858917                      0                      0   \n",
       "8858918                      0                      0   \n",
       "8858919                      0                      0   \n",
       "\n",
       "         Municipio_res_VENUSTIANO CARRANZA  Municipio_res_XOCHIMILCO  \\\n",
       "0                                        0                         0   \n",
       "1                                        0                         0   \n",
       "2                                        0                         0   \n",
       "3                                        0                         0   \n",
       "4                                        1                         0   \n",
       "...                                    ...                       ...   \n",
       "8858915                                  0                         0   \n",
       "8858916                                  0                         0   \n",
       "8858917                                  0                         0   \n",
       "8858918                                  0                         0   \n",
       "8858919                                  0                         0   \n",
       "\n",
       "         Municipio_res_ÁLVARO OBREGÓN  \n",
       "0                                   0  \n",
       "1                                   0  \n",
       "2                                   0  \n",
       "3                                   0  \n",
       "4                                   0  \n",
       "...                               ...  \n",
       "8858915                             0  \n",
       "8858916                             0  \n",
       "8858917                             0  \n",
       "8858918                             0  \n",
       "8858919                             0  \n",
       "\n",
       "[8858920 rows x 19 columns]"
      ]
     },
     "execution_count": 83,
     "metadata": {},
     "output_type": "execute_result"
    }
   ],
   "source": [
    "X_sm_train"
   ]
  },
  {
   "cell_type": "markdown",
   "id": "11ec01d1",
   "metadata": {},
   "source": [
    "## Regresión Logistica"
   ]
  },
  {
   "cell_type": "code",
   "execution_count": 84,
   "id": "9d311508",
   "metadata": {},
   "outputs": [],
   "source": [
    "from sklearn.linear_model import LogisticRegression\n",
    "logistic=LogisticRegression(solver='liblinear',penalty='l1') #Penalizamos con lasso"
   ]
  },
  {
   "cell_type": "code",
   "execution_count": 85,
   "id": "11e014e0",
   "metadata": {},
   "outputs": [
    {
     "name": "stderr",
     "output_type": "stream",
     "text": [
      "/Users/jesusarredondo/Documents/Diplomado/Proyecto/practicam1/lib/python3.9/site-packages/sklearn/utils/validation.py:993: DataConversionWarning:\n",
      "\n",
      "A column-vector y was passed when a 1d array was expected. Please change the shape of y to (n_samples, ), for example using ravel().\n",
      "\n"
     ]
    },
    {
     "data": {
      "text/plain": [
       "LogisticRegression(penalty='l1', solver='liblinear')"
      ]
     },
     "execution_count": 85,
     "metadata": {},
     "output_type": "execute_result"
    }
   ],
   "source": [
    "logistic.fit(X_sm_train,y_sm_train)"
   ]
  },
  {
   "cell_type": "code",
   "execution_count": 107,
   "id": "c9d4761c",
   "metadata": {},
   "outputs": [
    {
     "name": "stderr",
     "output_type": "stream",
     "text": [
      "/Users/jesusarredondo/Documents/Diplomado/Proyecto/practicam1/lib/python3.9/site-packages/sklearn/utils/validation.py:993: DataConversionWarning: A column-vector y was passed when a 1d array was expected. Please change the shape of y to (n_samples, ), for example using ravel().\n",
      "  y = column_or_1d(y, warn=True)\n",
      "/Users/jesusarredondo/Documents/Diplomado/Proyecto/practicam1/lib/python3.9/site-packages/sklearn/utils/validation.py:993: DataConversionWarning: A column-vector y was passed when a 1d array was expected. Please change the shape of y to (n_samples, ), for example using ravel().\n",
      "  y = column_or_1d(y, warn=True)\n",
      "/Users/jesusarredondo/Documents/Diplomado/Proyecto/practicam1/lib/python3.9/site-packages/sklearn/utils/validation.py:993: DataConversionWarning: A column-vector y was passed when a 1d array was expected. Please change the shape of y to (n_samples, ), for example using ravel().\n",
      "  y = column_or_1d(y, warn=True)\n",
      "/Users/jesusarredondo/Documents/Diplomado/Proyecto/practicam1/lib/python3.9/site-packages/sklearn/utils/validation.py:993: DataConversionWarning: A column-vector y was passed when a 1d array was expected. Please change the shape of y to (n_samples, ), for example using ravel().\n",
      "  y = column_or_1d(y, warn=True)\n",
      "/Users/jesusarredondo/Documents/Diplomado/Proyecto/practicam1/lib/python3.9/site-packages/sklearn/utils/validation.py:993: DataConversionWarning: A column-vector y was passed when a 1d array was expected. Please change the shape of y to (n_samples, ), for example using ravel().\n",
      "  y = column_or_1d(y, warn=True)\n"
     ]
    },
    {
     "data": {
      "text/plain": [
       "(0.8836445554481976, 0.00021751253722076622)"
      ]
     },
     "execution_count": 107,
     "metadata": {},
     "output_type": "execute_result"
    }
   ],
   "source": [
    "ls_res = cross_val_score(estimator = logistic, X=X_sm_train, y=y_sm_train, cv=5, n_jobs=-1, scoring=\"roc_auc\")\n",
    "np.mean(ls_res),np.std(ls_res)"
   ]
  },
  {
   "cell_type": "code",
   "execution_count": 86,
   "id": "9879247a",
   "metadata": {},
   "outputs": [],
   "source": [
    "from sklearn.metrics import roc_auc_score,accuracy_score,confusion_matrix\n",
    "def metricas_clasif(model,Xv,yv): #Mide efectividad de un Modelo Predictivo\n",
    "    print( \" Roc Validate: %.3f\" %roc_auc_score(y_score=model.predict_proba(Xv)[:,1],y_true=yv))\n",
    "    print( \" Acc Validate: %.3f\" %accuracy_score(y_pred=model.predict(Xv),y_true=yv))\n",
    "    print( \" Matrix Conf Validate: \", \"\\n\",confusion_matrix(y_pred=model.predict(Xv),y_true=yv))"
   ]
  },
  {
   "cell_type": "code",
   "execution_count": 88,
   "id": "f98a7e85",
   "metadata": {},
   "outputs": [
    {
     "name": "stdout",
     "output_type": "stream",
     "text": [
      " Roc Validate: 0.884\n",
      " Acc Validate: 0.806\n",
      " Matrix Conf Validate:  \n",
      " [[3522230  907230]\n",
      " [ 812460 3617000]]\n"
     ]
    }
   ],
   "source": [
    "metricas_clasif(logistic,X_sm_train,y_sm_train)"
   ]
  },
  {
   "cell_type": "code",
   "execution_count": 90,
   "id": "fabac922",
   "metadata": {},
   "outputs": [
    {
     "name": "stdout",
     "output_type": "stream",
     "text": [
      " Roc Validate: 0.882\n",
      " Acc Validate: 0.796\n",
      " Matrix Conf Validate:  \n",
      " [[1509577  388787]\n",
      " [   6334   27837]]\n"
     ]
    }
   ],
   "source": [
    "metricas_clasif(logistic,X_test,y_test)"
   ]
  },
  {
   "cell_type": "code",
   "execution_count": 94,
   "id": "c8b3d8a6",
   "metadata": {},
   "outputs": [
    {
     "data": {
      "text/plain": [
       "0.12350181346288222"
      ]
     },
     "execution_count": 94,
     "metadata": {},
     "output_type": "execute_result"
    }
   ],
   "source": [
    "from sklearn.metrics import f1_score\n",
    "f1_score(y_pred=logistic.predict(X_test),y_true=y_test,pos_label=1)"
   ]
  },
  {
   "cell_type": "code",
   "execution_count": 93,
   "id": "13a3162c",
   "metadata": {},
   "outputs": [
    {
     "data": {
      "text/plain": [
       "0.8842738209429528"
      ]
     },
     "execution_count": 93,
     "metadata": {},
     "output_type": "execute_result"
    }
   ],
   "source": [
    "f1_score(y_pred=logistic.predict(X_test),y_true=y_test,pos_label=0)"
   ]
  },
  {
   "cell_type": "code",
   "execution_count": 96,
   "id": "20c25ca5",
   "metadata": {},
   "outputs": [
    {
     "name": "stdout",
     "output_type": "stream",
     "text": [
      "              precision    recall  f1-score   support\n",
      "\n",
      "           0       0.81      0.80      0.80   4429460\n",
      "           1       0.80      0.82      0.81   4429460\n",
      "\n",
      "    accuracy                           0.81   8858920\n",
      "   macro avg       0.81      0.81      0.81   8858920\n",
      "weighted avg       0.81      0.81      0.81   8858920\n",
      "\n"
     ]
    }
   ],
   "source": [
    "from sklearn.metrics import classification_report\n",
    "print(classification_report(y_sm_train,logistic.predict(X_sm_train)))"
   ]
  },
  {
   "cell_type": "code",
   "execution_count": 98,
   "id": "43f83434",
   "metadata": {},
   "outputs": [
    {
     "name": "stdout",
     "output_type": "stream",
     "text": [
      "              precision    recall  f1-score   support\n",
      "\n",
      "           0       1.00      0.80      0.88   1898364\n",
      "           1       0.07      0.81      0.12     34171\n",
      "\n",
      "    accuracy                           0.80   1932535\n",
      "   macro avg       0.53      0.80      0.50   1932535\n",
      "weighted avg       0.98      0.80      0.87   1932535\n",
      "\n"
     ]
    }
   ],
   "source": [
    "print(classification_report(y_test,logistic.predict(X_test)))"
   ]
  },
  {
   "cell_type": "code",
   "execution_count": 99,
   "id": "7627c40a",
   "metadata": {},
   "outputs": [
    {
     "data": {
      "image/png": "[encoded data removed]",
      "text/plain": [
       "<Figure size 432x288 with 1 Axes>"
      ]
     },
     "metadata": {
      "needs_background": "light"
     },
     "output_type": "display_data"
    }
   ],
   "source": [
    "import matplotlib.pyplot as plt\n",
    "from sklearn.metrics import roc_curve\n",
    "fpr, tpr, thresh = roc_curve(y_test,logistic.predict_proba(X_test)[:,1])\n",
    "plt.title('Receiver Operating Characteristic')\n",
    "auc = roc_auc_score(y_test,logistic.predict_proba(X_test)[:,1])\n",
    "plt.plot(fpr, tpr, 'b', label = f'AUC = {auc.round(2)}')\n",
    "plt.legend(loc = 'lower right')\n",
    "plt.plot([0, 1], [0, 1],'r--')\n",
    "plt.xlim([0, 1])\n",
    "plt.ylim([0, 1])\n",
    "plt.ylabel('True Positive Rate')\n",
    "plt.xlabel('False Positive Rate')\n",
    "plt.show()"
   ]
  },
  {
   "cell_type": "code",
   "execution_count": 102,
   "id": "8c8da296",
   "metadata": {},
   "outputs": [],
   "source": [
    "pd.to_pickle(logistic,\"RegresionLog.pkl\")"
   ]
  },
  {
   "cell_type": "code",
   "execution_count": 103,
   "id": "cf5c3dd5",
   "metadata": {},
   "outputs": [
    {
     "data": {
      "text/html": [
       "<div>\n",
       "<style scoped>\n",
       "    .dataframe tbody tr th:only-of-type {\n",
       "        vertical-align: middle;\n",
       "    }\n",
       "\n",
       "    .dataframe tbody tr th {\n",
       "        vertical-align: top;\n",
       "    }\n",
       "\n",
       "    .dataframe thead th {\n",
       "        text-align: right;\n",
       "    }\n",
       "</style>\n",
       "<table border=\"1\" class=\"dataframe\">\n",
       "  <thead>\n",
       "    <tr style=\"text-align: right;\">\n",
       "      <th></th>\n",
       "      <th>Variable</th>\n",
       "      <th>Coeficiente</th>\n",
       "    </tr>\n",
       "  </thead>\n",
       "  <tbody>\n",
       "    <tr>\n",
       "      <th>2</th>\n",
       "      <td>Sexo</td>\n",
       "      <td>0.788011</td>\n",
       "    </tr>\n",
       "    <tr>\n",
       "      <th>6</th>\n",
       "      <td>Municipio_res_ECATEPEC DE MORELOS</td>\n",
       "      <td>0.678334</td>\n",
       "    </tr>\n",
       "    <tr>\n",
       "      <th>13</th>\n",
       "      <td>Municipio_res_Otros</td>\n",
       "      <td>0.597092</td>\n",
       "    </tr>\n",
       "    <tr>\n",
       "      <th>12</th>\n",
       "      <td>Municipio_res_NEZAHUALCÓYOTL</td>\n",
       "      <td>0.295356</td>\n",
       "    </tr>\n",
       "    <tr>\n",
       "      <th>0</th>\n",
       "      <td>EDAD</td>\n",
       "      <td>0.093878</td>\n",
       "    </tr>\n",
       "    <tr>\n",
       "      <th>8</th>\n",
       "      <td>Municipio_res_IZTACALCO</td>\n",
       "      <td>-0.461837</td>\n",
       "    </tr>\n",
       "    <tr>\n",
       "      <th>9</th>\n",
       "      <td>Municipio_res_IZTAPALAPA</td>\n",
       "      <td>-0.494628</td>\n",
       "    </tr>\n",
       "    <tr>\n",
       "      <th>7</th>\n",
       "      <td>Municipio_res_GUSTAVO A. MADERO</td>\n",
       "      <td>-0.548155</td>\n",
       "    </tr>\n",
       "    <tr>\n",
       "      <th>11</th>\n",
       "      <td>Municipio_res_MIGUEL HIDALGO</td>\n",
       "      <td>-0.740648</td>\n",
       "    </tr>\n",
       "    <tr>\n",
       "      <th>5</th>\n",
       "      <td>Municipio_res_CUAUHTÉMOC</td>\n",
       "      <td>-0.768321</td>\n",
       "    </tr>\n",
       "    <tr>\n",
       "      <th>4</th>\n",
       "      <td>Municipio_res_COYOACÁN</td>\n",
       "      <td>-0.782322</td>\n",
       "    </tr>\n",
       "    <tr>\n",
       "      <th>18</th>\n",
       "      <td>Municipio_res_ÁLVARO OBREGÓN</td>\n",
       "      <td>-0.858782</td>\n",
       "    </tr>\n",
       "    <tr>\n",
       "      <th>16</th>\n",
       "      <td>Municipio_res_VENUSTIANO CARRANZA</td>\n",
       "      <td>-0.938983</td>\n",
       "    </tr>\n",
       "    <tr>\n",
       "      <th>15</th>\n",
       "      <td>Municipio_res_TLÁHUAC</td>\n",
       "      <td>-0.957584</td>\n",
       "    </tr>\n",
       "    <tr>\n",
       "      <th>14</th>\n",
       "      <td>Municipio_res_TLALPAN</td>\n",
       "      <td>-0.970387</td>\n",
       "    </tr>\n",
       "    <tr>\n",
       "      <th>17</th>\n",
       "      <td>Municipio_res_XOCHIMILCO</td>\n",
       "      <td>-1.016739</td>\n",
       "    </tr>\n",
       "    <tr>\n",
       "      <th>3</th>\n",
       "      <td>Municipio_res_BENITO JUÁREZ</td>\n",
       "      <td>-1.030362</td>\n",
       "    </tr>\n",
       "    <tr>\n",
       "      <th>10</th>\n",
       "      <td>Municipio_res_LA MAGDALENA CONTRERAS</td>\n",
       "      <td>-1.298100</td>\n",
       "    </tr>\n",
       "    <tr>\n",
       "      <th>1</th>\n",
       "      <td>Embarazo</td>\n",
       "      <td>-2.527598</td>\n",
       "    </tr>\n",
       "  </tbody>\n",
       "</table>\n",
       "</div>"
      ],
      "text/plain": [
       "                                Variable  Coeficiente\n",
       "2                                   Sexo     0.788011\n",
       "6      Municipio_res_ECATEPEC DE MORELOS     0.678334\n",
       "13                   Municipio_res_Otros     0.597092\n",
       "12          Municipio_res_NEZAHUALCÓYOTL     0.295356\n",
       "0                                   EDAD     0.093878\n",
       "8                Municipio_res_IZTACALCO    -0.461837\n",
       "9               Municipio_res_IZTAPALAPA    -0.494628\n",
       "7        Municipio_res_GUSTAVO A. MADERO    -0.548155\n",
       "11          Municipio_res_MIGUEL HIDALGO    -0.740648\n",
       "5               Municipio_res_CUAUHTÉMOC    -0.768321\n",
       "4                 Municipio_res_COYOACÁN    -0.782322\n",
       "18          Municipio_res_ÁLVARO OBREGÓN    -0.858782\n",
       "16     Municipio_res_VENUSTIANO CARRANZA    -0.938983\n",
       "15                 Municipio_res_TLÁHUAC    -0.957584\n",
       "14                 Municipio_res_TLALPAN    -0.970387\n",
       "17              Municipio_res_XOCHIMILCO    -1.016739\n",
       "3            Municipio_res_BENITO JUÁREZ    -1.030362\n",
       "10  Municipio_res_LA MAGDALENA CONTRERAS    -1.298100\n",
       "1                               Embarazo    -2.527598"
      ]
     },
     "execution_count": 103,
     "metadata": {},
     "output_type": "execute_result"
    }
   ],
   "source": [
    "Coeficientes=pd.DataFrame()\n",
    "Coeficientes[\"Variable\"]=list(X_train.columns)\n",
    "Coeficientes[\"Coeficiente\"]=logistic.coef_.tolist()[0]\n",
    "Coeficientes.sort_values(by=\"Coeficiente\",ascending=False)"
   ]
  },
  {
   "cell_type": "markdown",
   "id": "fc05748b",
   "metadata": {},
   "source": [
    "## Arbol de decision"
   ]
  },
  {
   "cell_type": "code",
   "execution_count": 104,
   "id": "d57ea998",
   "metadata": {},
   "outputs": [
    {
     "data": {
      "text/plain": [
       "DecisionTreeClassifier()"
      ]
     },
     "execution_count": 104,
     "metadata": {},
     "output_type": "execute_result"
    }
   ],
   "source": [
    "from sklearn.tree import DecisionTreeClassifier\n",
    "tree = DecisionTreeClassifier()\n",
    "tree.fit(X_sm_train, y_sm_train)"
   ]
  },
  {
   "cell_type": "code",
   "execution_count": 106,
   "id": "0c12f30f",
   "metadata": {},
   "outputs": [
    {
     "data": {
      "text/plain": [
       "(0.8886469759692975, 0.0002523989959462671)"
      ]
     },
     "execution_count": 106,
     "metadata": {},
     "output_type": "execute_result"
    }
   ],
   "source": [
    "from sklearn.model_selection import cross_val_score, GridSearchCV, RandomizedSearchCV\n",
    "ls_res = cross_val_score(estimator = tree, X=X_sm_train, y=y_sm_train, cv=5, n_jobs=-1, scoring=\"roc_auc\")\n",
    "np.mean(ls_res),np.std(ls_res)"
   ]
  },
  {
   "cell_type": "code",
   "execution_count": 108,
   "id": "28014413",
   "metadata": {},
   "outputs": [
    {
     "name": "stdout",
     "output_type": "stream",
     "text": [
      " Roc Validate: 0.889\n",
      " Acc Validate: 0.808\n",
      " Matrix Conf Validate:  \n",
      " [[3483412  946048]\n",
      " [ 755925 3673535]]\n"
     ]
    }
   ],
   "source": [
    "metricas_clasif(tree,X_sm_train,y_sm_train)"
   ]
  },
  {
   "cell_type": "code",
   "execution_count": 110,
   "id": "01fd95f9",
   "metadata": {},
   "outputs": [
    {
     "name": "stdout",
     "output_type": "stream",
     "text": [
      " Roc Validate: 0.882\n",
      " Acc Validate: 0.787\n",
      " Matrix Conf Validate:  \n",
      " [[1492580  405784]\n",
      " [   6065   28106]]\n"
     ]
    }
   ],
   "source": [
    "metricas_clasif(tree,X_test,y_test)"
   ]
  },
  {
   "cell_type": "code",
   "execution_count": 111,
   "id": "9377b2b6",
   "metadata": {},
   "outputs": [
    {
     "data": {
      "text/plain": [
       "0.12009545764334136"
      ]
     },
     "execution_count": 111,
     "metadata": {},
     "output_type": "execute_result"
    }
   ],
   "source": [
    "f1_score(y_pred=tree.predict(X_test),y_true=y_test,pos_label=1)"
   ]
  },
  {
   "cell_type": "code",
   "execution_count": 112,
   "id": "368a371c",
   "metadata": {},
   "outputs": [
    {
     "data": {
      "text/plain": [
       "0.8787612867672707"
      ]
     },
     "execution_count": 112,
     "metadata": {},
     "output_type": "execute_result"
    }
   ],
   "source": [
    "f1_score(y_pred=tree.predict(X_test),y_true=y_test,pos_label=0)"
   ]
  },
  {
   "cell_type": "code",
   "execution_count": 113,
   "id": "9e2ec70e",
   "metadata": {},
   "outputs": [
    {
     "name": "stdout",
     "output_type": "stream",
     "text": [
      "              precision    recall  f1-score   support\n",
      "\n",
      "           0       0.82      0.79      0.80   4429460\n",
      "           1       0.80      0.83      0.81   4429460\n",
      "\n",
      "    accuracy                           0.81   8858920\n",
      "   macro avg       0.81      0.81      0.81   8858920\n",
      "weighted avg       0.81      0.81      0.81   8858920\n",
      "\n"
     ]
    }
   ],
   "source": [
    "print(classification_report(y_sm_train,tree.predict(X_sm_train)))"
   ]
  },
  {
   "cell_type": "code",
   "execution_count": 115,
   "id": "cc1a86a1",
   "metadata": {},
   "outputs": [
    {
     "name": "stdout",
     "output_type": "stream",
     "text": [
      "              precision    recall  f1-score   support\n",
      "\n",
      "           0       1.00      0.79      0.88   1898364\n",
      "           1       0.06      0.82      0.12     34171\n",
      "\n",
      "    accuracy                           0.79   1932535\n",
      "   macro avg       0.53      0.80      0.50   1932535\n",
      "weighted avg       0.98      0.79      0.87   1932535\n",
      "\n"
     ]
    }
   ],
   "source": [
    "print(classification_report(y_test,tree.predict(X_test)))"
   ]
  },
  {
   "cell_type": "code",
   "execution_count": 51,
   "id": "06113514",
   "metadata": {},
   "outputs": [],
   "source": [
    "tree=pd.read_pickle('Arbol.pkl')"
   ]
  },
  {
   "cell_type": "code",
   "execution_count": 81,
   "id": "0830c7ef",
   "metadata": {},
   "outputs": [
    {
     "data": {
      "image/png": "[encoded data removed]",
      "text/plain": [
       "<Figure size 432x288 with 1 Axes>"
      ]
     },
     "metadata": {
      "needs_background": "light"
     },
     "output_type": "display_data"
    }
   ],
   "source": [
    "import matplotlib.pyplot as plt\n",
    "from sklearn.metrics import roc_curve\n",
    "fpr, tpr, thresh = roc_curve(y_test,tree.predict_proba(X_test)[:,1])\n",
    "plt.title('Receiver Operating Characteristic')\n",
    "auc = roc_auc_score(y_test,tree.predict_proba(X_test)[:,1])\n",
    "plt.plot(fpr, tpr, 'b', label = f'AUC = {auc.round(2)}')\n",
    "plt.legend(loc = 'lower right')\n",
    "plt.plot([0, 1], [0, 1],'r--')\n",
    "plt.xlim([0, 1])\n",
    "plt.ylim([0, 1])\n",
    "plt.ylabel('True Positive Rate')\n",
    "plt.xlabel('False Positive Rate')\n",
    "plt.show()"
   ]
  },
  {
   "cell_type": "code",
   "execution_count": 130,
   "id": "ee9388f9",
   "metadata": {},
   "outputs": [
    {
     "data": {
      "text/html": [
       "<div>\n",
       "<style scoped>\n",
       "    .dataframe tbody tr th:only-of-type {\n",
       "        vertical-align: middle;\n",
       "    }\n",
       "\n",
       "    .dataframe tbody tr th {\n",
       "        vertical-align: top;\n",
       "    }\n",
       "\n",
       "    .dataframe thead th {\n",
       "        text-align: right;\n",
       "    }\n",
       "</style>\n",
       "<table border=\"1\" class=\"dataframe\">\n",
       "  <thead>\n",
       "    <tr style=\"text-align: right;\">\n",
       "      <th></th>\n",
       "      <th>importance</th>\n",
       "      <th>feature</th>\n",
       "    </tr>\n",
       "  </thead>\n",
       "  <tbody>\n",
       "    <tr>\n",
       "      <th>0</th>\n",
       "      <td>0.851336</td>\n",
       "      <td>EDAD</td>\n",
       "    </tr>\n",
       "    <tr>\n",
       "      <th>1</th>\n",
       "      <td>0.065161</td>\n",
       "      <td>Municipio_res_Otros</td>\n",
       "    </tr>\n",
       "    <tr>\n",
       "      <th>2</th>\n",
       "      <td>0.043115</td>\n",
       "      <td>Sexo</td>\n",
       "    </tr>\n",
       "    <tr>\n",
       "      <th>3</th>\n",
       "      <td>0.018275</td>\n",
       "      <td>Municipio_res_ECATEPEC DE MORELOS</td>\n",
       "    </tr>\n",
       "    <tr>\n",
       "      <th>4</th>\n",
       "      <td>0.008755</td>\n",
       "      <td>Municipio_res_NEZAHUALCÓYOTL</td>\n",
       "    </tr>\n",
       "    <tr>\n",
       "      <th>5</th>\n",
       "      <td>0.001436</td>\n",
       "      <td>Municipio_res_IZTAPALAPA</td>\n",
       "    </tr>\n",
       "    <tr>\n",
       "      <th>6</th>\n",
       "      <td>0.001344</td>\n",
       "      <td>Municipio_res_VENUSTIANO CARRANZA</td>\n",
       "    </tr>\n",
       "    <tr>\n",
       "      <th>7</th>\n",
       "      <td>0.001250</td>\n",
       "      <td>Municipio_res_LA MAGDALENA CONTRERAS</td>\n",
       "    </tr>\n",
       "    <tr>\n",
       "      <th>8</th>\n",
       "      <td>0.001124</td>\n",
       "      <td>Municipio_res_IZTACALCO</td>\n",
       "    </tr>\n",
       "    <tr>\n",
       "      <th>9</th>\n",
       "      <td>0.001117</td>\n",
       "      <td>Municipio_res_BENITO JUÁREZ</td>\n",
       "    </tr>\n",
       "    <tr>\n",
       "      <th>10</th>\n",
       "      <td>0.001049</td>\n",
       "      <td>Municipio_res_XOCHIMILCO</td>\n",
       "    </tr>\n",
       "    <tr>\n",
       "      <th>11</th>\n",
       "      <td>0.000949</td>\n",
       "      <td>Municipio_res_GUSTAVO A. MADERO</td>\n",
       "    </tr>\n",
       "    <tr>\n",
       "      <th>12</th>\n",
       "      <td>0.000895</td>\n",
       "      <td>Municipio_res_MIGUEL HIDALGO</td>\n",
       "    </tr>\n",
       "    <tr>\n",
       "      <th>13</th>\n",
       "      <td>0.000888</td>\n",
       "      <td>Municipio_res_TLALPAN</td>\n",
       "    </tr>\n",
       "    <tr>\n",
       "      <th>14</th>\n",
       "      <td>0.000881</td>\n",
       "      <td>Municipio_res_TLÁHUAC</td>\n",
       "    </tr>\n",
       "    <tr>\n",
       "      <th>15</th>\n",
       "      <td>0.000750</td>\n",
       "      <td>Municipio_res_ÁLVARO OBREGÓN</td>\n",
       "    </tr>\n",
       "    <tr>\n",
       "      <th>16</th>\n",
       "      <td>0.000658</td>\n",
       "      <td>Municipio_res_CUAUHTÉMOC</td>\n",
       "    </tr>\n",
       "    <tr>\n",
       "      <th>17</th>\n",
       "      <td>0.000599</td>\n",
       "      <td>Municipio_res_COYOACÁN</td>\n",
       "    </tr>\n",
       "    <tr>\n",
       "      <th>18</th>\n",
       "      <td>0.000419</td>\n",
       "      <td>Embarazo</td>\n",
       "    </tr>\n",
       "  </tbody>\n",
       "</table>\n",
       "</div>"
      ],
      "text/plain": [
       "    importance                               feature\n",
       "0     0.851336                                  EDAD\n",
       "1     0.065161                   Municipio_res_Otros\n",
       "2     0.043115                                  Sexo\n",
       "3     0.018275     Municipio_res_ECATEPEC DE MORELOS\n",
       "4     0.008755          Municipio_res_NEZAHUALCÓYOTL\n",
       "5     0.001436              Municipio_res_IZTAPALAPA\n",
       "6     0.001344     Municipio_res_VENUSTIANO CARRANZA\n",
       "7     0.001250  Municipio_res_LA MAGDALENA CONTRERAS\n",
       "8     0.001124               Municipio_res_IZTACALCO\n",
       "9     0.001117           Municipio_res_BENITO JUÁREZ\n",
       "10    0.001049              Municipio_res_XOCHIMILCO\n",
       "11    0.000949       Municipio_res_GUSTAVO A. MADERO\n",
       "12    0.000895          Municipio_res_MIGUEL HIDALGO\n",
       "13    0.000888                 Municipio_res_TLALPAN\n",
       "14    0.000881                 Municipio_res_TLÁHUAC\n",
       "15    0.000750          Municipio_res_ÁLVARO OBREGÓN\n",
       "16    0.000658              Municipio_res_CUAUHTÉMOC\n",
       "17    0.000599                Municipio_res_COYOACÁN\n",
       "18    0.000419                              Embarazo"
      ]
     },
     "execution_count": 130,
     "metadata": {},
     "output_type": "execute_result"
    }
   ],
   "source": [
    "importances=tree.feature_importances_\n",
    "feature_importance= sorted(zip(importances, list(X.columns)), reverse=True)\n",
    "\n",
    "df_importances = pd.DataFrame(feature_importance, columns=['importance', 'feature'])\n",
    "importance= list(df_importances['importance'])\n",
    "feature= list(df_importances['feature'])\n",
    "df_importances"
   ]
  },
  {
   "cell_type": "code",
   "execution_count": 131,
   "id": "1964ebe2",
   "metadata": {},
   "outputs": [],
   "source": [
    "pd.to_pickle(tree,\"Arbol.pkl\")"
   ]
  },
  {
   "cell_type": "code",
   "execution_count": 117,
   "id": "a077f56b",
   "metadata": {},
   "outputs": [],
   "source": [
    "#Hiperparametrizando\n",
    "param_grid = {\"max_depth\": range(1, 5),\n",
    "              \"max_features\": [\"auto\", \"sqrt\", \"log2\"],\n",
    "              \"min_samples_leaf\": [x/100 for x in range(5, 51, 1)] + [x for x in range(1, 21)], \n",
    "              \"criterion\": [\"gini\", \"entropy\"],\n",
    "              \"splitter\": [\"best\", \"random\"],\n",
    "              \"class_weight\": [\"balanced\", None]}"
   ]
  },
  {
   "cell_type": "code",
   "execution_count": 118,
   "id": "99ef4645",
   "metadata": {},
   "outputs": [],
   "source": [
    "Random=RandomizedSearchCV(DecisionTreeClassifier(),param_grid,scoring='roc_auc',n_iter=1000,cv=5,verbose=1,n_jobs=-1,)"
   ]
  },
  {
   "cell_type": "code",
   "execution_count": 119,
   "id": "d9a1be2b",
   "metadata": {},
   "outputs": [
    {
     "name": "stdout",
     "output_type": "stream",
     "text": [
      "Fitting 5 folds for each of 1000 candidates, totalling 5000 fits\n"
     ]
    },
    {
     "data": {
      "text/plain": [
       "RandomizedSearchCV(cv=5, estimator=DecisionTreeClassifier(), n_iter=1000,\n",
       "                   n_jobs=-1,\n",
       "                   param_distributions={'class_weight': ['balanced', None],\n",
       "                                        'criterion': ['gini', 'entropy'],\n",
       "                                        'max_depth': range(1, 5),\n",
       "                                        'max_features': ['auto', 'sqrt',\n",
       "                                                         'log2'],\n",
       "                                        'min_samples_leaf': [0.05, 0.06, 0.07,\n",
       "                                                             0.08, 0.09, 0.1,\n",
       "                                                             0.11, 0.12, 0.13,\n",
       "                                                             0.14, 0.15, 0.16,\n",
       "                                                             0.17, 0.18, 0.19,\n",
       "                                                             0.2, 0.21, 0.22,\n",
       "                                                             0.23, 0.24, 0.25,\n",
       "                                                             0.26, 0.27, 0.28,\n",
       "                                                             0.29, 0.3, 0.31,\n",
       "                                                             0.32, 0.33, 0.34, ...],\n",
       "                                        'splitter': ['best', 'random']},\n",
       "                   scoring='roc_auc', verbose=1)"
      ]
     },
     "execution_count": 119,
     "metadata": {},
     "output_type": "execute_result"
    }
   ],
   "source": [
    "Random.fit(X_sm_train,y_sm_train)"
   ]
  },
  {
   "cell_type": "code",
   "execution_count": 120,
   "id": "8216c573",
   "metadata": {},
   "outputs": [],
   "source": [
    "best_tree=Random.best_estimator_"
   ]
  },
  {
   "cell_type": "code",
   "execution_count": 121,
   "id": "5fde1dd0",
   "metadata": {},
   "outputs": [
    {
     "data": {
      "text/plain": [
       "{'ccp_alpha': 0.0,\n",
       " 'class_weight': 'balanced',\n",
       " 'criterion': 'gini',\n",
       " 'max_depth': 3,\n",
       " 'max_features': 'sqrt',\n",
       " 'max_leaf_nodes': None,\n",
       " 'min_impurity_decrease': 0.0,\n",
       " 'min_samples_leaf': 14,\n",
       " 'min_samples_split': 2,\n",
       " 'min_weight_fraction_leaf': 0.0,\n",
       " 'random_state': None,\n",
       " 'splitter': 'best'}"
      ]
     },
     "execution_count": 121,
     "metadata": {},
     "output_type": "execute_result"
    }
   ],
   "source": [
    "best_tree.get_params()"
   ]
  },
  {
   "cell_type": "code",
   "execution_count": 122,
   "id": "f0d16892",
   "metadata": {},
   "outputs": [
    {
     "name": "stdout",
     "output_type": "stream",
     "text": [
      " Roc Validate: 0.651\n",
      " Acc Validate: 0.629\n",
      " Matrix Conf Validate:  \n",
      " [[3644302  785158]\n",
      " [2501960 1927500]]\n"
     ]
    }
   ],
   "source": [
    "metricas_clasif(best_tree,X_sm_train,y_sm_train)"
   ]
  },
  {
   "cell_type": "code",
   "execution_count": 123,
   "id": "9551cea8",
   "metadata": {},
   "outputs": [
    {
     "name": "stdout",
     "output_type": "stream",
     "text": [
      " Roc Validate: 0.654\n",
      " Acc Validate: 0.816\n",
      " Matrix Conf Validate:  \n",
      " [[1561743  336621]\n",
      " [  19150   15021]]\n"
     ]
    }
   ],
   "source": [
    "metricas_clasif(best_tree,X_test,y_test)"
   ]
  },
  {
   "cell_type": "code",
   "execution_count": 124,
   "id": "f1fda42f",
   "metadata": {},
   "outputs": [
    {
     "name": "stdout",
     "output_type": "stream",
     "text": [
      "              precision    recall  f1-score   support\n",
      "\n",
      "           0       0.59      0.82      0.69   4429460\n",
      "           1       0.71      0.44      0.54   4429460\n",
      "\n",
      "    accuracy                           0.63   8858920\n",
      "   macro avg       0.65      0.63      0.61   8858920\n",
      "weighted avg       0.65      0.63      0.61   8858920\n",
      "\n"
     ]
    }
   ],
   "source": [
    "print(classification_report(y_sm_train,best_tree.predict(X_sm_train)))"
   ]
  },
  {
   "cell_type": "code",
   "execution_count": 125,
   "id": "404a1d50",
   "metadata": {},
   "outputs": [
    {
     "name": "stdout",
     "output_type": "stream",
     "text": [
      "              precision    recall  f1-score   support\n",
      "\n",
      "           0       0.99      0.82      0.90   1898364\n",
      "           1       0.04      0.44      0.08     34171\n",
      "\n",
      "    accuracy                           0.82   1932535\n",
      "   macro avg       0.52      0.63      0.49   1932535\n",
      "weighted avg       0.97      0.82      0.88   1932535\n",
      "\n"
     ]
    }
   ],
   "source": [
    "print(classification_report(y_test,best_tree.predict(X_test)))"
   ]
  },
  {
   "cell_type": "code",
   "execution_count": 82,
   "id": "433c81df",
   "metadata": {},
   "outputs": [],
   "source": [
    "best_tree=pd.read_pickle('Tree_hiper.pkl')"
   ]
  },
  {
   "cell_type": "code",
   "execution_count": 83,
   "id": "1be41da8",
   "metadata": {},
   "outputs": [
    {
     "data": {
      "image/png": "[encoded data removed]",
      "text/plain": [
       "<Figure size 432x288 with 1 Axes>"
      ]
     },
     "metadata": {
      "needs_background": "light"
     },
     "output_type": "display_data"
    }
   ],
   "source": [
    "import matplotlib.pyplot as plt\n",
    "from sklearn.metrics import roc_curve\n",
    "fpr, tpr, thresh = roc_curve(y_test,best_tree.predict_proba(X_test)[:,1])\n",
    "plt.title('Receiver Operating Characteristic')\n",
    "auc = roc_auc_score(y_test,best_tree.predict_proba(X_test)[:,1])\n",
    "plt.plot(fpr, tpr, 'b', label = f'AUC = {auc.round(2)}')\n",
    "plt.legend(loc = 'lower right')\n",
    "plt.plot([0, 1], [0, 1],'r--')\n",
    "plt.xlim([0, 1])\n",
    "plt.ylim([0, 1])\n",
    "plt.ylabel('True Positive Rate')\n",
    "plt.xlabel('False Positive Rate')\n",
    "plt.show()"
   ]
  },
  {
   "cell_type": "code",
   "execution_count": 127,
   "id": "9ef365c1",
   "metadata": {},
   "outputs": [
    {
     "data": {
      "text/html": [
       "<div>\n",
       "<style scoped>\n",
       "    .dataframe tbody tr th:only-of-type {\n",
       "        vertical-align: middle;\n",
       "    }\n",
       "\n",
       "    .dataframe tbody tr th {\n",
       "        vertical-align: top;\n",
       "    }\n",
       "\n",
       "    .dataframe thead th {\n",
       "        text-align: right;\n",
       "    }\n",
       "</style>\n",
       "<table border=\"1\" class=\"dataframe\">\n",
       "  <thead>\n",
       "    <tr style=\"text-align: right;\">\n",
       "      <th></th>\n",
       "      <th>importance</th>\n",
       "      <th>feature</th>\n",
       "    </tr>\n",
       "  </thead>\n",
       "  <tbody>\n",
       "    <tr>\n",
       "      <th>0</th>\n",
       "      <td>0.442361</td>\n",
       "      <td>Municipio_res_Otros</td>\n",
       "    </tr>\n",
       "    <tr>\n",
       "      <th>1</th>\n",
       "      <td>0.408226</td>\n",
       "      <td>EDAD</td>\n",
       "    </tr>\n",
       "    <tr>\n",
       "      <th>2</th>\n",
       "      <td>0.066742</td>\n",
       "      <td>Municipio_res_NEZAHUALCÓYOTL</td>\n",
       "    </tr>\n",
       "    <tr>\n",
       "      <th>3</th>\n",
       "      <td>0.066072</td>\n",
       "      <td>Sexo</td>\n",
       "    </tr>\n",
       "    <tr>\n",
       "      <th>4</th>\n",
       "      <td>0.015204</td>\n",
       "      <td>Embarazo</td>\n",
       "    </tr>\n",
       "    <tr>\n",
       "      <th>5</th>\n",
       "      <td>0.001396</td>\n",
       "      <td>Municipio_res_GUSTAVO A. MADERO</td>\n",
       "    </tr>\n",
       "    <tr>\n",
       "      <th>6</th>\n",
       "      <td>0.000000</td>\n",
       "      <td>Municipio_res_ÁLVARO OBREGÓN</td>\n",
       "    </tr>\n",
       "    <tr>\n",
       "      <th>7</th>\n",
       "      <td>0.000000</td>\n",
       "      <td>Municipio_res_XOCHIMILCO</td>\n",
       "    </tr>\n",
       "    <tr>\n",
       "      <th>8</th>\n",
       "      <td>0.000000</td>\n",
       "      <td>Municipio_res_VENUSTIANO CARRANZA</td>\n",
       "    </tr>\n",
       "    <tr>\n",
       "      <th>9</th>\n",
       "      <td>0.000000</td>\n",
       "      <td>Municipio_res_TLÁHUAC</td>\n",
       "    </tr>\n",
       "    <tr>\n",
       "      <th>10</th>\n",
       "      <td>0.000000</td>\n",
       "      <td>Municipio_res_TLALPAN</td>\n",
       "    </tr>\n",
       "    <tr>\n",
       "      <th>11</th>\n",
       "      <td>0.000000</td>\n",
       "      <td>Municipio_res_MIGUEL HIDALGO</td>\n",
       "    </tr>\n",
       "    <tr>\n",
       "      <th>12</th>\n",
       "      <td>0.000000</td>\n",
       "      <td>Municipio_res_LA MAGDALENA CONTRERAS</td>\n",
       "    </tr>\n",
       "    <tr>\n",
       "      <th>13</th>\n",
       "      <td>0.000000</td>\n",
       "      <td>Municipio_res_IZTAPALAPA</td>\n",
       "    </tr>\n",
       "    <tr>\n",
       "      <th>14</th>\n",
       "      <td>0.000000</td>\n",
       "      <td>Municipio_res_IZTACALCO</td>\n",
       "    </tr>\n",
       "    <tr>\n",
       "      <th>15</th>\n",
       "      <td>0.000000</td>\n",
       "      <td>Municipio_res_ECATEPEC DE MORELOS</td>\n",
       "    </tr>\n",
       "    <tr>\n",
       "      <th>16</th>\n",
       "      <td>0.000000</td>\n",
       "      <td>Municipio_res_CUAUHTÉMOC</td>\n",
       "    </tr>\n",
       "    <tr>\n",
       "      <th>17</th>\n",
       "      <td>0.000000</td>\n",
       "      <td>Municipio_res_COYOACÁN</td>\n",
       "    </tr>\n",
       "    <tr>\n",
       "      <th>18</th>\n",
       "      <td>0.000000</td>\n",
       "      <td>Municipio_res_BENITO JUÁREZ</td>\n",
       "    </tr>\n",
       "  </tbody>\n",
       "</table>\n",
       "</div>"
      ],
      "text/plain": [
       "    importance                               feature\n",
       "0     0.442361                   Municipio_res_Otros\n",
       "1     0.408226                                  EDAD\n",
       "2     0.066742          Municipio_res_NEZAHUALCÓYOTL\n",
       "3     0.066072                                  Sexo\n",
       "4     0.015204                              Embarazo\n",
       "5     0.001396       Municipio_res_GUSTAVO A. MADERO\n",
       "6     0.000000          Municipio_res_ÁLVARO OBREGÓN\n",
       "7     0.000000              Municipio_res_XOCHIMILCO\n",
       "8     0.000000     Municipio_res_VENUSTIANO CARRANZA\n",
       "9     0.000000                 Municipio_res_TLÁHUAC\n",
       "10    0.000000                 Municipio_res_TLALPAN\n",
       "11    0.000000          Municipio_res_MIGUEL HIDALGO\n",
       "12    0.000000  Municipio_res_LA MAGDALENA CONTRERAS\n",
       "13    0.000000              Municipio_res_IZTAPALAPA\n",
       "14    0.000000               Municipio_res_IZTACALCO\n",
       "15    0.000000     Municipio_res_ECATEPEC DE MORELOS\n",
       "16    0.000000              Municipio_res_CUAUHTÉMOC\n",
       "17    0.000000                Municipio_res_COYOACÁN\n",
       "18    0.000000           Municipio_res_BENITO JUÁREZ"
      ]
     },
     "execution_count": 127,
     "metadata": {},
     "output_type": "execute_result"
    }
   ],
   "source": [
    "importances=best_tree.feature_importances_\n",
    "feature_importance= sorted(zip(importances, list(X.columns)), reverse=True)\n",
    "\n",
    "df_importances = pd.DataFrame(feature_importance, columns=['importance', 'feature'])\n",
    "importance= list(df_importances['importance'])\n",
    "feature= list(df_importances['feature'])\n",
    "df_importances"
   ]
  },
  {
   "cell_type": "code",
   "execution_count": 129,
   "id": "deaa5671",
   "metadata": {},
   "outputs": [],
   "source": [
    "pd.to_pickle(best_tree,\"Tree_hiper.pkl\")"
   ]
  },
  {
   "cell_type": "code",
   "execution_count": null,
   "id": "62cfa52d",
   "metadata": {},
   "outputs": [],
   "source": []
  }
 ],
 "metadata": {
  "kernelspec": {
   "display_name": "Python 3 (ipykernel)",
   "language": "python",
   "name": "python3"
  },
  "language_info": {
   "codemirror_mode": {
    "name": "ipython",
    "version": 3
   },
   "file_extension": ".py",
   "mimetype": "text/x-python",
   "name": "python",
   "nbconvert_exporter": "python",
   "pygments_lexer": "ipython3",
   "version": "3.9.6"
  }
 },
 "nbformat": 4,
 "nbformat_minor": 5
}
